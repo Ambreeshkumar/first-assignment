{
 "cells": [
  {
   "cell_type": "code",
   "execution_count": null,
   "id": "aa633f76",
   "metadata": {},
   "outputs": [],
   "source": [
    "Q1. Add the current date to the text file today.txt as a string.\n"
   ]
  },
  {
   "cell_type": "code",
   "execution_count": 9,
   "id": "31f28dd0",
   "metadata": {},
   "outputs": [
    {
     "data": {
      "text/plain": [
       "63"
      ]
     },
     "execution_count": 9,
     "metadata": {},
     "output_type": "execute_result"
    }
   ],
   "source": [
    "import os \n",
    "f = open(\"today.txt\", \"w\")\n",
    "f.write(\"hello this aambreesh kumar\\n read the file use by read function \")\n"
   ]
  },
  {
   "cell_type": "code",
   "execution_count": null,
   "id": "3300f391",
   "metadata": {},
   "outputs": [],
   "source": [
    "Q2. Read the text file today.txt into the string today_string\n"
   ]
  },
  {
   "cell_type": "code",
   "execution_count": 10,
   "id": "5d68c6bf",
   "metadata": {},
   "outputs": [
    {
     "name": "stdout",
     "output_type": "stream",
     "text": [
      "hello this aambreesh kumar\n",
      " read the file use by read function \n"
     ]
    }
   ],
   "source": [
    "f = open(\"today.txt\",\"r\")\n",
    "print(f.read())"
   ]
  },
  {
   "cell_type": "code",
   "execution_count": null,
   "id": "6b793d50",
   "metadata": {},
   "outputs": [],
   "source": [
    "Q3. Parse the date from today_string.\n"
   ]
  },
  {
   "cell_type": "code",
   "execution_count": 14,
   "id": "22da4691",
   "metadata": {},
   "outputs": [
    {
     "name": "stdout",
     "output_type": "stream",
     "text": [
      "[]\n"
     ]
    }
   ],
   "source": [
    "import re\n",
    "# open the text file and read the data.\n",
    "f = open(\"today.txt\",\"r\")\n",
    "text = f.read()\n",
    "\n",
    "# match a regex pattern for formatted dataes\n",
    "matches = re.findall(r'(\\d+/\\d+/\\d+)',text)\n",
    "print(matches)"
   ]
  },
  {
   "cell_type": "code",
   "execution_count": null,
   "id": "b955cba4",
   "metadata": {},
   "outputs": [],
   "source": [
    "Q4. List the files in your current directory\n"
   ]
  },
  {
   "cell_type": "code",
   "execution_count": 21,
   "id": "ca9c06aa",
   "metadata": {},
   "outputs": [
    {
     "name": "stdout",
     "output_type": "stream",
     "text": [
      "['.conda', '.condarc', '.continuum', '.idlerc', '.ipynb_checkpoints', '.ipython', '.jupyter', '.matplotlib', '.spyder-py3', '10 assignment.ipynb', '11 assignment.ipynb', '12 Assignment.ipynb', '13 assignment.ipynb', '14 assignment.ipynb', '15 assignment.ipynb', '16 assignment.ipynb', '17 assignment.ipynb', '18 assignment .ipynb', '19 assignment.ipynb', '20. assignment.ipynb', '21 assignment.ipynb', '3D Objects', '7 assignment..ipynb', '8 assignment.ipynb', '9 assignment..ipynb', 'anaconda3', 'AppData', 'Application Data', 'book.csv', 'book.db', 'book.sqlite', 'Contacts', 'Cookies', 'Desktop', 'Documents', 'Downloads', 'Favorites', 'Fifth assignment..ipynb', 'first Assignment .ipynb', 'fourth assignment..ipynb', 'IntelGraphicsProfiles', 'Links', 'Local Settings', 'Music', 'My Documents', 'NetHood', 'notes.ipynb', 'NTUSER.DAT', 'ntuser.dat.LOG1', 'ntuser.dat.LOG2', 'NTUSER.DAT{64960b5c-452d-11ec-a52b-95610db3fb0a}.TM.blf', 'NTUSER.DAT{64960b5c-452d-11ec-a52b-95610db3fb0a}.TMContainer00000000000000000001.regtrans-ms', 'NTUSER.DAT{64960b5c-452d-11ec-a52b-95610db3fb0a}.TMContainer00000000000000000002.regtrans-ms', 'ntuser.ini', 'OneDrive', 'Pictures', 'practice .ipynb', 'PrintHood', 'PycharmProjects', 'Recent', 'Saved Games', 'school.db', 'Searches', 'second assignment .ipynb', 'SendTo', 'six assignment..ipynb', 'Start Menu', 'Templates', 'test.txt', 'test2.csv', 'text1.txt', 'Third assignment.ipynb', 'today.txt', 'Untitled Folder', 'Videos', 'Z00.py', 'zoo.ipynb']\n",
      "<generator object walk at 0x0000025C23DE1AC0>\n"
     ]
    }
   ],
   "source": [
    "import os\n",
    "\n",
    "arr = os.listdir()\n",
    "print(arr)\n"
   ]
  },
  {
   "cell_type": "code",
   "execution_count": 25,
   "id": "1a0e5c6c",
   "metadata": {},
   "outputs": [
    {
     "name": "stdout",
     "output_type": "stream",
     "text": [
      "<generator object walk at 0x0000025C23DF3190>\n"
     ]
    }
   ],
   "source": [
    "a = os.walk(',')\n",
    "print(a)\n",
    "for i in (a):\n",
    "    print(i)"
   ]
  },
  {
   "cell_type": "code",
   "execution_count": null,
   "id": "0db5d21a",
   "metadata": {},
   "outputs": [],
   "source": [
    "Q5. Create a list of all of the files in your parent directory (minimum five files should be available).\n"
   ]
  },
  {
   "cell_type": "code",
   "execution_count": 33,
   "id": "e23574e4",
   "metadata": {},
   "outputs": [
    {
     "name": "stdout",
     "output_type": "stream",
     "text": [
      "files and directories in  C:\\Users\\ambreesh kumar\\Desktop\\New folder\n",
      "['12', 'dict', 'function', 'list', 'math', 'new directory', 'new directory2', 'python.cod', 'string', 'tuple', 'ty.py', 'ty2.py', 'ty3.py']\n"
     ]
    }
   ],
   "source": [
    "import os\n",
    " # get the list of all file and directories.\n",
    "path = (r\"C:\\Users\\ambreesh kumar\\Desktop\\New folder\")\n",
    "dir_list = os.listdir(path)\n",
    "\n",
    "print(\"files and directories in \",path)\n",
    "print(dir_list)"
   ]
  },
  {
   "cell_type": "code",
   "execution_count": 32,
   "id": "39b6a39b",
   "metadata": {},
   "outputs": [
    {
     "name": "stdout",
     "output_type": "stream",
     "text": [
      "ty.py\n",
      "ty2.py\n",
      "ty3.py\n",
      "12.py\n",
      "binary_search_in assending_oder.py\n",
      "creating_reading_searchin_csv_file.py\n",
      "encrypt_decrypt.py\n",
      "file_handeling.py\n",
      "file_hendaling_in_read_mod.py\n",
      "open_file_in _wrire_mode.py\n",
      "student.py\n",
      "dict.py\n",
      "try.py\n",
      "zip function.py\n",
      "coun tolat num in list.py\n",
      "count frequence number.py\n",
      "createE mptyLlist.py\n",
      "delete element.py\n",
      "index().py\n",
      "insert().py\n",
      "inserting a given element in list.py\n",
      "list slice.py\n",
      "matrix.py\n",
      "max and min.py\n",
      "reverse().py\n",
      "search element of list.py\n",
      "search.py\n",
      "shifting each list element.py\n",
      "shifting list N elemnt.py\n",
      "sum of list element.py\n",
      "ty.py\n",
      "use of count().py\n",
      "emi.py\n",
      "even_filter.py\n",
      "matrix.py\n",
      "average.py\n",
      "display the word five time using the for loop.py\n",
      "factorial.py\n",
      "fibonicci series.py\n",
      "find the remainder.py\n",
      "format function.py\n",
      "given digits.py\n",
      "given two str and return.py\n",
      "hypotenuese of triangle.py\n",
      "middle three chars.py\n",
      "multiplication table.py\n",
      "series two.py\n",
      "series.py\n",
      "star print,py.py\n",
      "star print.py\n",
      "star.py\n",
      "string appends.py\n",
      "string.py\n",
      "sum of natural numb.py\n",
      "sum of square N number.py\n",
      "temperature.py\n",
      "ty.py\n",
      "count all loer case.py\n",
      "find UAS.py\n",
      "ty.py\n",
      "tuple.py\n"
     ]
    }
   ],
   "source": [
    "import os\n",
    " # get the list of all file and directories.\n",
    "path = (r\"C:\\Users\\ambreesh kumar\\Desktop\\New folder\")\n",
    "\n",
    "# to store files in a list;\n",
    "list = []\n",
    "\n",
    "# dirs=directories;\n",
    "for (root, dirs,file) in os.walk(path):\n",
    "    for f in file:\n",
    "        if '.py'in f:\n",
    "            print(f)"
   ]
  },
  {
   "cell_type": "code",
   "execution_count": null,
   "id": "6722981d",
   "metadata": {},
   "outputs": [],
   "source": [
    "Q6.Use multiprocessing to create three separate processes. Make each one wait a random number of\n",
    "seconds between one and five, print the current time, and then exit.\n"
   ]
  },
  {
   "cell_type": "code",
   "execution_count": null,
   "id": "9e4ed35c",
   "metadata": {},
   "outputs": [
    {
     "name": "stdout",
     "output_type": "stream",
     "text": [
      "This prints once a minute.\n",
      "This prints once a minute.\n",
      "This prints once a minute.\n"
     ]
    }
   ],
   "source": [
    "import time\n",
    "while True:\n",
    "    print(\"This prints once a minute.\")\n",
    "    time.sleep(60) # Delay for 1 minute (60 seconds).\n",
    "\n",
    "\n"
   ]
  },
  {
   "cell_type": "code",
   "execution_count": null,
   "id": "df2b3ef4",
   "metadata": {},
   "outputs": [],
   "source": [
    "# importing the multiprocessing module\n",
    "import multiprocessing\n",
    "  \n",
    "def print_cube(num):\n",
    "    \"\"\"\n",
    "    function to print cube of given num\n",
    "    \"\"\"\n",
    "    print(\"Cube: {}\".format(num * num * num))\n",
    "  \n",
    "def print_square(num):\n",
    "    \"\"\"\n",
    "    function to print square of given num\n",
    "    \"\"\"\n",
    "    print(\"Square: {}\".format(num * num))\n",
    "    \n",
    "if __name__ == \"__main__\":\n",
    "    # creating processes\n",
    "    p1 = multiprocessing.Process(target=print_square, args=(10, ))\n",
    "    p2 = multiprocessing.Process(target=print_cube, args=(10, ))\n",
    "  \n",
    "    # starting process 1\n",
    "    p1.start()\n",
    "    # starting process 2\n",
    "    p2.start()\n",
    "  \n",
    "    # wait until process 1 is finished\n",
    "    p1.join()\n",
    "    # wait until process 2 is finished\n",
    "    p2.join()\n",
    "  \n",
    "    # both processes finished\n",
    "    print(\"Done!\")   "
   ]
  },
  {
   "cell_type": "code",
   "execution_count": null,
   "id": "070db886",
   "metadata": {},
   "outputs": [],
   "source": [
    "Q7. Create a date object of your day of birth.\n"
   ]
  },
  {
   "cell_type": "code",
   "execution_count": 4,
   "id": "edc27c21",
   "metadata": {},
   "outputs": [
    {
     "name": "stdout",
     "output_type": "stream",
     "text": [
      "07-Jan-22\n",
      "What is your B'day? (in DD/MM/YYYY) 20/10/1999\n",
      "Your B'day is : 20/October/1999\n"
     ]
    }
   ],
   "source": [
    "# print current datetime \n",
    "# import datetime.\n",
    "import datetime\n",
    "CurrentDate=datetime.date.today()\n",
    "\n",
    "# %d is for date, %b is for month, %y is for year.\n",
    "print(CurrentDate.strftime(\"%d-%b-%y\"))\n",
    "\n",
    "\n",
    "\n",
    "\n",
    "import datetime  \n",
    "birthday=input(\"What is your B'day? (in DD/MM/YYYY) \")  \n",
    "birthdate=datetime.datetime.strptime(birthday,\"%d/%m/%Y\").date()  \n",
    "print(\"Your B'day is : \"+birthdate.strftime('%d/%B/%Y')) "
   ]
  },
  {
   "cell_type": "code",
   "execution_count": null,
   "id": "08b7fd5f",
   "metadata": {},
   "outputs": [],
   "source": [
    "Q8. What day of the week was your day of birth?\n"
   ]
  },
  {
   "cell_type": "code",
   "execution_count": 11,
   "id": "7a45de2c",
   "metadata": {},
   "outputs": [
    {
     "name": "stdout",
     "output_type": "stream",
     "text": [
      "Wednesday\n"
     ]
    }
   ],
   "source": [
    "# this progam to find day of the week for a given date\n",
    "import datetime\n",
    "import calendar\n",
    "\n",
    "def findDay(date):\n",
    "    born = datetime.datetime.strptime(date, '%d %m %y').weekday()\n",
    "    return(calendar.day_name[born])\n",
    "\n",
    "# drive program\n",
    "date = '20 10 99'\n",
    "print(findDay(date))"
   ]
  },
  {
   "cell_type": "code",
   "execution_count": null,
   "id": "474efdde",
   "metadata": {},
   "outputs": [],
   "source": [
    "9. When will you be (or when were you) 10,000 days old?\n"
   ]
  },
  {
   "cell_type": "code",
   "execution_count": 27,
   "id": "e2166d0e",
   "metadata": {},
   "outputs": [
    {
     "name": "stdout",
     "output_type": "stream",
     "text": [
      "22 years\n",
      "i am old this days   8030\n"
     ]
    }
   ],
   "source": [
    "# this code to calculate the age in years\n",
    "from datetime import date\n",
    " \n",
    "def calculateAge(birthDate):\n",
    "    days_in_year = 365.2425   \n",
    "    age = int((date.today() - birthDate).days / days_in_year)\n",
    "    return age\n",
    "         \n",
    "# Driver code\n",
    "print(calculateAge(date(1999, 10, 20)), \"years\")\n",
    "\n",
    "# return age value stor in year variable.\n",
    "year = (calculateAge(date(1999, 10, 20)))\n",
    "\n",
    "\n",
    "# one year is equile to 365 day \n",
    "# so if i multiply both this value, so we will be get value in days.\n",
    "days = 365\n",
    "result = days*year\n",
    "print(\"i am old this days  \",result)"
   ]
  }
 ],
 "metadata": {
  "kernelspec": {
   "display_name": "Python 3",
   "language": "python",
   "name": "python3"
  },
  "language_info": {
   "codemirror_mode": {
    "name": "ipython",
    "version": 3
   },
   "file_extension": ".py",
   "mimetype": "text/x-python",
   "name": "python",
   "nbconvert_exporter": "python",
   "pygments_lexer": "ipython3",
   "version": "3.8.8"
  }
 },
 "nbformat": 4,
 "nbformat_minor": 5
}
