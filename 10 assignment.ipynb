{
 "cells": [
  {
   "cell_type": "code",
   "execution_count": null,
   "id": "6872dbcb",
   "metadata": {},
   "outputs": [],
   "source": [
    "Q1. How do you distinguish between shutil.copy() and shutil.copytree()?\n",
    "\n",
    "Answer.\n",
    "While shutil. copy() will copy a single file, shutil. copytree() will copy an entire folder and every folder and file contained in it."
   ]
  },
  {
   "cell_type": "code",
   "execution_count": null,
   "id": "ea585f5c",
   "metadata": {},
   "outputs": [],
   "source": [
    "import os,shutil\n",
    "os.chdir(\"c:\\\\\")\n",
    "shutil.copy(\"c:\\\\spam.txt\",\"c:\\\\delicious\")\n",
    "\"c:\\\\delicious\\\\psam.txt\"\n",
    "shutil.copy(\"eggs.txt\",\"C:\\\\delicious\\\\eggs2.txt\")\n",
    "\"c:\\\\delicious\\\\egg2.txt"
   ]
  },
  {
   "cell_type": "code",
   "execution_count": null,
   "id": "cae563fe",
   "metadata": {},
   "outputs": [],
   "source": [
    "import shutil,os\n",
    "os.chdir(\"c:\\\\\")\n",
    "os.chdir(\"c:\\\\bacon\",\"c:\\\\bacon_backup\")\n",
    "\"c:\\\\bacon_backup\"\n",
    "\n"
   ]
  },
  {
   "cell_type": "code",
   "execution_count": null,
   "id": "4fbf89d3",
   "metadata": {},
   "outputs": [],
   "source": [
    "Q2. What function is used to rename files?\n",
    "\n",
    "Answer.\n",
    "os.rename() method in Python is used to rename a file or directory.\n",
    "This method renames a source file/ directory to specified destination file/directory.\n",
    "\n",
    "\n"
   ]
  },
  {
   "cell_type": "code",
   "execution_count": null,
   "id": "bcea145c",
   "metadata": {},
   "outputs": [],
   "source": [
    "# program to explain os.rename()method\n",
    "# import os\n",
    "\n",
    "#source file path\n",
    "source=\"ambreesh/file.txt\"\n",
    "\n",
    "# destination file path\n",
    "dest=\"ambreesh_kumar/newfile.txt\"\n",
    "\n",
    "# Now rename the source path to destination path using os.rename() method\n",
    "\n",
    "os.rename(source,dest)\n",
    "print(\"source path rename to destination path successfully\")\n"
   ]
  },
  {
   "cell_type": "code",
   "execution_count": null,
   "id": "ba676b4b",
   "metadata": {},
   "outputs": [],
   "source": [
    "Q3. What is the difference between the delete functions in the send2trash and shutil modules?\n",
    "\n",
    "Answer.\n",
    "In this article, we will see how to safely delete files and folders using the send2trash module in Python. Using send2trash, we can send files to the Trash or Recycle Bin instead of permanently deleting them. \n",
    "The OS module’s unlink(), remove() and rmdir() functions can be used to delete files or folders. But, these functions delete the files permanently. The operations cannot be undone if there were any accidental \n",
    "deletions performed. This can be prevented using send2trash.\n",
    "\n"
   ]
  },
  {
   "cell_type": "code",
   "execution_count": 2,
   "id": "451e9aa8",
   "metadata": {},
   "outputs": [],
   "source": [
    "import send2trash\n",
    "  \n",
    "#send2trash.send2trash(\"/location/to/file\")\n",
    "\n",
    "import os \n",
    "import send2trash\n",
    "\n",
    "# walking throught the directory\n",
    "for folder,subfilders, files in os.walk(\"/users/tithighosh/document\"):\n",
    "    for file in files:\n",
    "        # checking if file is of .txt type\n",
    "        if file.endwith(\",txt\"):\n",
    "            path=os.path.join(folder,file)\n",
    "            \n",
    "            # printing the path of the fileto be deleted\n",
    "            print(\"deleted :\",path)\n",
    "            \n",
    "            # deleting the file\n",
    "            send2trash.send2trash(path)\n",
    "    "
   ]
  },
  {
   "cell_type": "code",
   "execution_count": null,
   "id": "7147634e",
   "metadata": {},
   "outputs": [],
   "source": [
    "Q4. ZipFile objects have a close() method just like File objects’ close() method. What ZipFile method is\n",
    "    equivalent to File objects’ open() method?\n",
    "    \n",
    "Answer.\n",
    "ZIP is an archive file format that supports lossless data compression. By lossless compression, we mean that the compression algorithm allows the original data to be \n",
    "perfectly reconstructed from the compressed data. So, a ZIP file is a single file containing one or more compressed files, offering an ideal way to make large files \n",
    "smaller and keep related files together.\n",
    "\n",
    "To reduce storage requirements.\n",
    "To improve transfer speed over standard connections.\n"
   ]
  },
  {
   "cell_type": "code",
   "execution_count": 1,
   "id": "5355acb1",
   "metadata": {},
   "outputs": [],
   "source": [
    "import zipfile\n",
    "\n"
   ]
  },
  {
   "cell_type": "code",
   "execution_count": 3,
   "id": "9239902d",
   "metadata": {},
   "outputs": [],
   "source": [
    "# import required modules\n",
    "import zipfile\n",
    "\n",
    "# specifying the zip file name\n",
    "file_name=\"my_python_files.zip\"\n",
    "\n",
    "# opening the zise file in read mode:\n",
    "with ZipFile(file_name,\"r\") as zip:\n",
    "    # printing all the contents of thje zip file\n",
    "    zip.printdir()\n",
    "    \n",
    "    # extracting all the files\n",
    "    print(\"extracting all the files now...\")\n",
    "    zip.extractall()\n",
    "    print(\"done!\")\n"
   ]
  },
  {
   "cell_type": "code",
   "execution_count": null,
   "id": "17257a8e",
   "metadata": {},
   "outputs": [],
   "source": [
    "Q5. Create a programme that searches a folder tree for files with a certain file extension (such as .pdf\n",
    "    or .jpg). Copy these files from whatever location they are in to a new folder.\n",
    "\n",
    "Answer.\n"
   ]
  },
  {
   "cell_type": "code",
   "execution_count": 4,
   "id": "e6264e8e",
   "metadata": {},
   "outputs": [
    {
     "name": "stdout",
     "output_type": "stream",
     "text": [
      "Looking in C:\\Users\\ambreesh kumar\\randomFolder for files with extensions of .php, .py\n"
     ]
    }
   ],
   "source": [
    "# Write a program that walks through a folder tree \n",
    "# and searches for files with a certain file extension (such as .pdf or .jpg).\n",
    "# Copy these files from whatever location they are in to a new folder.\n",
    "\n",
    "import os, shutil\n",
    "\n",
    "def selectiveCopy(folder, extensions, destFolder):\n",
    "    folder = os.path.abspath(folder)\n",
    "    destFolder = os.path.abspath(destFolder)\n",
    "    print('Looking in', folder, 'for files with extensions of', ', '.join(extensions))\n",
    "    for foldername, subfolders, filenames in os.walk(folder):\n",
    "        for filename in filenames:\n",
    "            name, extension = os.path.splitext(filename)\n",
    "            if extension in extensions:\n",
    "                fileAbsPath = foldername + os.path.sep + filename\n",
    "                print('Coping', fileAbsPath, 'to', destFolder)\n",
    "                shutil.copy(fileAbsPath, destFolder)\n",
    "\n",
    "extensions = ['.php', '.py']\n",
    "folder = 'randomFolder'\n",
    "destFolder = 'selectiveFolder'\n",
    "selectiveCopy(folder, extensions, destFolder)"
   ]
  }
 ],
 "metadata": {
  "kernelspec": {
   "display_name": "Python 3",
   "language": "python",
   "name": "python3"
  },
  "language_info": {
   "codemirror_mode": {
    "name": "ipython",
    "version": 3
   },
   "file_extension": ".py",
   "mimetype": "text/x-python",
   "name": "python",
   "nbconvert_exporter": "python",
   "pygments_lexer": "ipython3",
   "version": "3.8.8"
  }
 },
 "nbformat": 4,
 "nbformat_minor": 5
}
