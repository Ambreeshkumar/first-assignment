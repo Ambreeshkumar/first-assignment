{
 "cells": [
  {
   "cell_type": "code",
   "execution_count": null,
   "id": "5f6418f3",
   "metadata": {},
   "outputs": [],
   "source": [
    "Q1. What is the relationship between def statements and lambda expressions ?\n",
    "\n",
    "Answer."
   ]
  },
  {
   "cell_type": "code",
   "execution_count": 1,
   "id": "289ee76b",
   "metadata": {},
   "outputs": [
    {
     "name": "stdout",
     "output_type": "stream",
     "text": [
      "<function <lambda> at 0x000001BD44DF8700>\n"
     ]
    }
   ],
   "source": [
    "# Python program to demonstrate\n",
    "# lambda functions\n",
    " \n",
    " \n",
    "string ='Ambreesh kumar'\n",
    " \n",
    "# lambda returns a function object\n",
    "print(lambda string : string)"
   ]
  },
  {
   "cell_type": "code",
   "execution_count": null,
   "id": "00d944fd",
   "metadata": {},
   "outputs": [],
   "source": [
    "Q2. What is the benefit of lambda?\n",
    "\n",
    "Answer.\n",
    "AWS Lambda allows you to integrate your application server needs with \n",
    "mass-mailing services such as SES. Thus, you can consolidate more of the \n",
    "functionality your team requires to operate under one house. This not only \n",
    "reduces administrative costs but also makes your team's \n",
    "workflow more streamlined and efficient.\n"
   ]
  },
  {
   "cell_type": "code",
   "execution_count": null,
   "id": "a4d81f88",
   "metadata": {},
   "outputs": [],
   "source": [
    "Python Lambda Functions are anonymous function means that the function is without a \n",
    "name. As we already know that the def keyword is used to define a normal function in \n",
    "Python. Similarly, the lambda keyword is used to define an anonymous function in Python.\n",
    "\n",
    "This function can have any number of arguments but only one expression, which is evaluated and returned.\n",
    "One is free to use lambda functions wherever function objects are required.\n",
    "You need to keep in your knowledge that lambda functions are syntactically restricted to a single expression.\n",
    "It has various uses in particular fields of programming besides other types of expressions in functions.\n",
    "\n",
    "As an expression, lambda returns a value that can optionally be assigned a name. In contrast, \n",
    "the def statement always assigns the new function to the name in the header, instead of returning is as a result.\n",
    "lambda's body is a single expression, not a block of statements.\n",
    "\n",
    "The only difference is that (a) the body of a lambda can consist of only a single expression, the result of which \n",
    "is returned from the function created and (b) a lambda expression is an expression which evaluates to a function object, \n",
    "while a def statement has no value, and creates a function object and binds it to a \n"
   ]
  },
  {
   "cell_type": "code",
   "execution_count": null,
   "id": "35fc9bb2",
   "metadata": {},
   "outputs": [],
   "source": [
    "Q3. Compare and contrast map, filter, and reduce.\n"
   ]
  },
  {
   "cell_type": "code",
   "execution_count": 2,
   "id": "432ae535",
   "metadata": {},
   "outputs": [
    {
     "name": "stdout",
     "output_type": "stream",
     "text": [
      "43, 20, 30, 32, 43, 54, 87, \n",
      "\n",
      "even number list [0, 2, 8]\n"
     ]
    }
   ],
   "source": [
    "#Answer.\n",
    "# Filter() function.\n",
    "# The filter function return an iterator where the item are filtered though a\n",
    "# function to test if the item as accepted or not.\n",
    "\n",
    "# For example:\n",
    "ages = [3,14,6,5,4,8,43,2,20,30,32,43,54,87]\n",
    "def myfunc(x):\n",
    "    if x<18:\n",
    "        return False\n",
    "    else:\n",
    "        return True\n",
    "adults = list(filter(myfunc,ages))\n",
    "for x in adults:\n",
    "    print(x,end=\", \")\n",
    "    \n",
    "    \n",
    "print(\"\\n\")    \n",
    "# second example with lambda.\n",
    "# this list canains both even and odd number.\n",
    "seq = [0, 1, 2, 3, 5, 8, 13]\n",
    "\n",
    "result = filter(lambda x:x % 2 == 0,seq)\n",
    "list = (list(result))\n",
    "print(\"even number list\",list)"
   ]
  },
  {
   "cell_type": "code",
   "execution_count": null,
   "id": "159d71fe",
   "metadata": {},
   "outputs": [],
   "source": [
    "#Answer.\n",
    "# The map() function excutes a specified function for each item in a \n",
    "# iterable. The item is send to the function as patameter.\n",
    "\n",
    "# for exam.\n",
    "a = [3,14,6,5,4,8,43,2,20,30,32,43,54,87]\n",
    "def myfunc(x):\n",
    "    if x % 2 == 0:\n",
    "        return True\n",
    "    else:\n",
    "        return False\n",
    "def squ(x):\n",
    "    return x*x\n",
    "    \n",
    "val = list(filter(myfunc,a))\n",
    "\n",
    "\n",
    "squares = list(map(squ,val))\n",
    "print(val)\n",
    "print(squares)\n"
   ]
  },
  {
   "cell_type": "code",
   "execution_count": null,
   "id": "363856da",
   "metadata": {},
   "outputs": [],
   "source": [
    "# this program with lambda function:\n",
    "\n",
    "a = [3,14,6,5,4,8,43,2,20,30,32,43,54,87]\n",
    "val = list(filter(lambda a:a%2==0,a))\n",
    "\n",
    "squares = list(map(lambda a:a*a,val))\n",
    "print(val)\n",
    "print(squares)"
   ]
  },
  {
   "cell_type": "code",
   "execution_count": null,
   "id": "377edcce",
   "metadata": {},
   "outputs": [],
   "source": [
    "Answer. \n",
    "reduce() function:\n",
    "The reduce(fun,seq) function is used to apply a particular function passed in its \n",
    "argument to all of the list elements mentioned in the sequence passed along.\n",
    "This function is defined in “functools” module."
   ]
  },
  {
   "cell_type": "code",
   "execution_count": 26,
   "id": "61ca65a0",
   "metadata": {},
   "outputs": [
    {
     "name": "stdout",
     "output_type": "stream",
     "text": [
      "reduce(function, sequence[, initial]) -> value\n",
      "\n",
      "Apply a function of two arguments cumulatively to the items of a sequence,\n",
      "from left to right, so as to reduce the sequence to a single value.\n",
      "For example, reduce(lambda x, y: x+y, [1, 2, 3, 4, 5]) calculates\n",
      "((((1+2)+3)+4)+5).  If initial is present, it is placed before the items\n",
      "of the sequence in the calculation, and serves as a default when the\n",
      "sequence is empty.\n"
     ]
    }
   ],
   "source": [
    "print(functools.reduce.__doc__)"
   ]
  },
  {
   "cell_type": "code",
   "execution_count": 17,
   "id": "57dd6297",
   "metadata": {},
   "outputs": [
    {
     "name": "stdout",
     "output_type": "stream",
     "text": [
      "Addition= 45\n"
     ]
    }
   ],
   "source": [
    "import functools\n",
    "def MYFunc(a,b):\n",
    "    return a+b\n",
    "val = [1,2,3,4,5,6,7,8,9]\n",
    "add = (functools.reduce(MYFunc,val))\n",
    "print(\"Addition=\",add)\n",
    "\n",
    "\n",
    "\n"
   ]
  },
  {
   "cell_type": "code",
   "execution_count": 23,
   "id": "7ec2df68",
   "metadata": {},
   "outputs": [
    {
     "name": "stdout",
     "output_type": "stream",
     "text": [
      "addition= 36\n"
     ]
    }
   ],
   "source": [
    "# this program with lambda function:\n",
    "\n",
    "import functools\n",
    "val = [1,2,3,4,5,6,7,8]\n",
    "add = functools.reduce(lambda a,b:a+b, val)\n",
    "print(\"addition=\",add)"
   ]
  },
  {
   "cell_type": "code",
   "execution_count": null,
   "id": "7193b8a1",
   "metadata": {},
   "outputs": [],
   "source": [
    "Q4. What are function annotations, and how are they used?\n",
    "\n",
    "Answer.\n",
    "Function annotations are completely optional both for parameters and return value. \n",
    "Function annotations provide a way of associating various parts of a function with \n",
    "arbitrary python expressions at compile time. The PEP-3107 makes no attempt to \n",
    "introduce any kind of standard semantics, even for the built-in types.\n",
    "\n",
    "\n",
    "The benefits from function annotations can only be reaped via third party libraries. \n",
    "The type of benefits depends upon the type of the library, for example\n",
    "\n",
    "Python supports dynamic typing and hence no module is provided for type checking. \n",
    "Annotations like\n",
    "\n",
    "[def foo(a:”int”, b:”float”=5.0)  -> ”int”]\n"
   ]
  },
  {
   "cell_type": "code",
   "execution_count": 1,
   "id": "9821f66e",
   "metadata": {},
   "outputs": [
    {
     "name": "stdout",
     "output_type": "stream",
     "text": [
      "{'n': 'int', 'output': 'list', 'return': 'list'}\n"
     ]
    }
   ],
   "source": [
    "# Python program to illustrate Function Annotations\n",
    "def fib(n:'int', output:'list'=[])-> 'list':\n",
    "    if n == 0:\n",
    "        return output\n",
    "    else:\n",
    "        if len(output)< 2:\n",
    "            output.append(1)\n",
    "            fib(n-1, output)\n",
    "        else:\n",
    "            last = output[-1]\n",
    "            second_last = output[-2]\n",
    "            output.append(last + second_last)\n",
    "            fib(n-1, output)\n",
    "        return output\n",
    "print(fib.__annotations__)"
   ]
  },
  {
   "cell_type": "code",
   "execution_count": null,
   "id": "38507b58",
   "metadata": {},
   "outputs": [],
   "source": [
    "Q5. What are recursive functions, and how are they used?\n",
    "\n",
    "Answer.\n",
    "A recursive function is a function that calls itself during its execution. \n",
    "The process may repeat several times, outputting the result and the end of \n",
    "each iteration. The function Count() below uses recursion to count from any \n",
    "number between 1 and 9, to the number 10\n",
    "\n",
    "In programming terms, a recursive function can be defined as a routine that \n",
    "calls itself directly or indirectly.\n",
    "Using the recursive algorithm, certain problems can be solved quite easily. \n",
    "Towers of Hanoi (TOH) is one such programming exercise. Try to write an \n",
    "iterative algorithm for TOH. Moreover, every recursive program can be written \n",
    "using iterative methods.\n",
    "Mathematically, recursion helps to solve a few puzzles easily.\n",
    "For example, a routine interview question,\n",
    "In a party of N people, each person will shake her/his hand with each other \n",
    "person only once.\n"
   ]
  },
  {
   "cell_type": "code",
   "execution_count": 2,
   "id": "3f20aef1",
   "metadata": {},
   "outputs": [
    {
     "name": "stdout",
     "output_type": "stream",
     "text": [
      "enter the number4\n",
      "sum = 10\n"
     ]
    }
   ],
   "source": [
    "# sum from 1 to n (using recursion)\n",
    "\n",
    "def sum(n):\n",
    "    if n==1:\n",
    "        return 1\n",
    "    else:\n",
    "        return(n+sum(n-1)) # This condition will be  call until they return one.\n",
    "    \n",
    "n = int(input(\"enter the number\"))\n",
    "z = sum(n)\n",
    "print(\"sum =\",z)"
   ]
  },
  {
   "cell_type": "code",
   "execution_count": null,
   "id": "19d20d30",
   "metadata": {},
   "outputs": [],
   "source": [
    "Q6. What are some general design guidelines for coding functions?\n",
    "\n",
    "Answer.\n",
    "Different modules specified in the design document are coded in the Coding phase according \n",
    "to the module specification. The main goal of the coding phase is to code from the design \n",
    "document prepared after the design phase through a high-level language and then to unit test this code.\n",
    "\n",
    "Good software development organizations want their programmers to maintain to some well-defined and standard \n",
    "style of coding called coding standards. They usually make their own coding standards and guidelines depending \n",
    "on what suits their organization best and based on the types of software they develop. It is very important for \n",
    "the programmers to maintain the coding standards otherwise the code will be rejected during code review.\n",
    "\n",
    "1 = Limited use of globals:\n",
    "     These rules tell about which types of data that can be declared global and the data that can’t be.\n",
    "\n",
    "2 = Standard headers for different modules:\n",
    "For better understanding and maintenance of the code, the header of different modules should follow some \n",
    "standard format and information. The header format must contain below things that is being used in various companies:\n",
    "Name of the module\n",
    "Date of module creation\n",
    "Author of the module\n",
    "Modification history\n",
    "Synopsis of the module about what the module does\n",
    "Different functions supported in the module along with their input output parameters\n",
    "Global variables accessed or modified by the module\n",
    "\n",
    "Error return values and exception handling conventions:\n",
    "All functions that encountering an error condition should either return a 0 or 1 for \n",
    "simplifying the debugging.On the other hand, Coding guidelines give some general \n",
    "suggestions regarding the coding style that to be followed for the betterment \n",
    "of understandability and readability of the code. Some of the coding guidelines \n",
    "are given below :\n",
    "\n",
    "\n",
    "Avoid using a coding style that is too difficult to understand:\n",
    "\n",
    "Avoid using an identifier for multiple purposes:\n",
    "\n",
    "Code should be well documented:\n",
    "    \n",
    "Length of functions should not be very larg:\n",
    "    \n",
    "Try not to use GOTO statement:\n"
   ]
  },
  {
   "cell_type": "code",
   "execution_count": null,
   "id": "ed175111",
   "metadata": {},
   "outputs": [],
   "source": [
    "Q7. Name three or more ways that functions can communicate results to a caller.\n",
    "\n",
    "Answer.\n",
    "Function in Python is a piece of reusable code that is used to perform single, related action. In this article, we will see\n",
    "\n",
    "Function defined by the def statement\n",
    "The code block within every function starts with a colon (:) and should be indented (space)\n",
    "Any arguments or input parameters should be placed within these parentheses, etc.\n",
    "At least one indent should be left before the code after declaring function\n",
    "Same indent style should be maintained throughout the code within def function\n",
    "For best practices three or four indents are considered best before the statement\n",
    "You can use the “return” command to return values to the function call.\n",
    "Python will print a random value like (0x021B2D30) when the argument is not supplied to the calling function. Example “print function.”\n",
    "On the calling side, it is an argument and on the function side it is a parameter\n",
    "Default value in argument – When we supply only one argument while calling multiply function or any other function, \n",
    "Python assigns the other argument by \n",
    "\n",
    "Python enables you to reverse the order of the argument as well\n",
    "\n"
   ]
  },
  {
   "cell_type": "code",
   "execution_count": null,
   "id": "7f579cb5",
   "metadata": {},
   "outputs": [],
   "source": []
  }
 ],
 "metadata": {
  "kernelspec": {
   "display_name": "Python 3",
   "language": "python",
   "name": "python3"
  },
  "language_info": {
   "codemirror_mode": {
    "name": "ipython",
    "version": 3
   },
   "file_extension": ".py",
   "mimetype": "text/x-python",
   "name": "python",
   "nbconvert_exporter": "python",
   "pygments_lexer": "ipython3",
   "version": "3.8.8"
  }
 },
 "nbformat": 4,
 "nbformat_minor": 5
}
