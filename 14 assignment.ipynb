{
 "cells": [
  {
   "cell_type": "code",
   "execution_count": null,
   "id": "042eec05",
   "metadata": {},
   "outputs": [],
   "source": [
    "Q1. What does RGBA stand for?\n",
    "\n",
    "\n",
    "Answer.\n",
    "RGBA tuples are 4-tuples where the respective tuple components represent red, green, blue, and alpha (opacity) values for a color. Each value is a floating point number between 0.0 and 1.0.\n",
    "\n",
    "The RGB color model is extended in this specification to include “alpha” to allow specification of the opacity of a color\n",
    "\n",
    "RGBA is a type of CSS color value that allows us to set a color and also its opacity/transparency. ... RGBA is an extension of the RGB color model. The acronym stands for red green blue alpha. \n",
    "The alpha value represents the level of transparency/opacity of the color.\n"
   ]
  },
  {
   "cell_type": "code",
   "execution_count": null,
   "id": "cd2bcc95",
   "metadata": {},
   "outputs": [],
   "source": [
    "Q2. From the Pillow module, how do you get the RGBA value of any images?\n",
    "\n",
    "Answer.\n",
    "python-pillow.org. Python Imaging Library is a free and open-source additional library for the Python programming language that \n",
    "adds support for opening, manipulating, and saving many different image file formats. It is available for Windows, Mac OS X and Linux. \n",
    "The latest version of PIL is 1.1.\n",
    "\n",
    "1. import the Image module from the Pillow library\n",
    "\n",
    "from PIL import Image\n",
    "\n",
    "\n",
    "2. Open any image and get the RAGBAG values.\n",
    "\n",
    "img = Image.open(‘image.png’)\n",
    "\n",
    "rgba = img.convert(“RGBA”)\n",
    "\n",
    "datas = rgba.getdata()\n",
    "\n"
   ]
  },
  {
   "cell_type": "code",
   "execution_count": null,
   "id": "87403112",
   "metadata": {},
   "outputs": [],
   "source": [
    "Q3. What is a box tuple, and how does it work?\n",
    "\n",
    "Answer.\n",
    "The box. tuple submodule provides read-only access for the tuple userdata type. It allows, for a single tuple: \n",
    "selective retrieval of the field contents, retrieval of information about size, iteration over all the fields, \n",
    "and conversion to a Lua table.\n",
    "    \n",
    "    "
   ]
  },
  {
   "cell_type": "code",
   "execution_count": null,
   "id": "122c2d79",
   "metadata": {},
   "outputs": [],
   "source": [
    "Q4. Use your image and load in notebook then, How can you find out the width and height of an\n",
    "Image object?\n",
    "\n",
    "Answer.\n",
    "\n",
    "syntax of load image in notebook.\n",
    "\n",
    "from IPython.display import Image\n",
    "Image(filename='test.png') \n",
    "\n"
   ]
  },
  {
   "cell_type": "code",
   "execution_count": null,
   "id": "878277a7",
   "metadata": {},
   "outputs": [],
   "source": [
    "Q5. What method would you call to get Image object for a 100×100 image, excluding the lower-left\n",
    "quarter of it?\n",
    "\n",
    "Answer.\n",
    "A crucial class in the Python Imaging Library is the Image class. It's defined in the Image module and provides a PIL image on which manipulation operations can be carried out. \n",
    "An instance of this class can be created in several ways: by loading images from a file, creating images from scratch, or as a result of processing other images. \n",
    "We'll see all these in use.\n",
    "\n",
    "To load an image from a file, we use the open() function in the Image module, passing it the path to the image.\n"
   ]
  },
  {
   "cell_type": "code",
   "execution_count": null,
   "id": "05f327f5",
   "metadata": {},
   "outputs": [],
   "source": [
    "from PIL import Image\n",
    "\n",
    "image = Image.open('demo_image.jpg')\n",
    "\n",
    "\n",
    "If successful, the above returns an Image object. If there was a problem opening the file, an OSError exception will be raised.\n",
    "\n"
   ]
  },
  {
   "cell_type": "code",
   "execution_count": null,
   "id": "d985fc3d",
   "metadata": {},
   "outputs": [],
   "source": [
    "Q6. After making changes to an Image object, how could you save it as an image file?\n",
    "\n",
    "Answer. \n",
    "Image.save() Saves this image under the given filename. If no format is specified, the format to use is determined from the filename extension, if possible.\n",
    "\n",
    "Keyword options can be used to provide additional instructions to the writer. If a writer doesn’t recognise an option, it is silently ignored. \n",
    "The available options are described in the image format documentation for each writer.\n",
    "\n",
    "You can use a file object instead of a filename. In this case, you must always specify the format. The file object must implement the seek, \n",
    "tell, and write methods, and be opened in binary mode.\n"
   ]
  },
  {
   "cell_type": "code",
   "execution_count": null,
   "id": "23c31c19",
   "metadata": {},
   "outputs": [],
   "source": [
    "# Importing Image module from PIL package \n",
    "from PIL import Image \n",
    "import PIL \n",
    "  \n",
    "# creating a image object (main image) \n",
    "im1 = Image.open(r\"C:\\Users\\System-Pc\\Desktop\\flower1.jpg\") \n",
    "  \n",
    "# save a image using extension\n",
    "im1 = im1.save(\"geeks.jpg\")"
   ]
  },
  {
   "cell_type": "code",
   "execution_count": null,
   "id": "9a56d6fb",
   "metadata": {},
   "outputs": [],
   "source": [
    "Q7. What module contains Pillow’s shape-drawing code?\n",
    "\n",
    "Answer.\n",
    "The ‘ImageDraw’ module provides simple 2D graphics support for Image Object. Generally, we use this module to create new images, annotate or retouch existing images and to generate graphics on the fly for web use.\n",
    "\n",
    "The graphics commands support the drawing of shapes and annotation of text.\n",
    "\n",
    "An image can be well-thought-out to be a two-dimensional array of pixels (picture elements). A pixel is the smallest dot of color being supported.\n",
    "The origin of the two-dimensional co-ordinate system used by ImageDraw, is in the upper left corner of the image.\n",
    "The pillow color schemes we use is RGB. The color RGB representation and support is provided by the module ImageColor.\n",
    "bitmap, OpenType or TrueType are the acceptable fonts for text annotations.\n",
    "Most of the drawing commands may require a bounding box parameter that specifies the area on the image to which the command is to be applied.\n",
    "A sequence of co-ordinates can be represented as [ (x0, y0), (x1, y1),…(xn, yn)].\n"
   ]
  },
  {
   "cell_type": "code",
   "execution_count": null,
   "id": "8079b855",
   "metadata": {},
   "outputs": [],
   "source": [
    "# import required libraries\n",
    "import sys\n",
    "from PIL import image, imageDrow\n",
    "\n",
    "# create image object\n",
    "im = image.open(\"images/logo.jpg\")\n",
    "\n",
    "# Drow liine\n",
    "drow = imageDrow.Drow(im)\n",
    "drow.line((0,0)+im.size,fill=128)\n",
    "dro.line((0, im.size[1], im.size[0],0), fill=128)\n",
    "\n",
    "#show image\n",
    "im.show()\n"
   ]
  },
  {
   "cell_type": "code",
   "execution_count": null,
   "id": "ccce7ef4",
   "metadata": {},
   "outputs": [],
   "source": [
    "Q8. Image objects do not have drawing methods. What kind of object does? How do you get this kind\n",
    "of object?\n",
    "\n",
    "Answer.\n",
    "Drawings refer to a drawing object or a group of drawing objects. Drawing objects include shapes, diagrams, flowcharts, curves, lines, and WordArt. \n",
    "These objects are part of your Word document. You can change and enhance these objects with colors, patterns, borders, and other effects.\n",
    "\n"
   ]
  }
 ],
 "metadata": {
  "kernelspec": {
   "display_name": "Python 3",
   "language": "python",
   "name": "python3"
  },
  "language_info": {
   "codemirror_mode": {
    "name": "ipython",
    "version": 3
   },
   "file_extension": ".py",
   "mimetype": "text/x-python",
   "name": "python",
   "nbconvert_exporter": "python",
   "pygments_lexer": "ipython3",
   "version": "3.8.8"
  }
 },
 "nbformat": 4,
 "nbformat_minor": 5
}
