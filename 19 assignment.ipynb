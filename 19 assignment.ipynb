{
 "cells": [
  {
   "cell_type": "code",
   "execution_count": null,
   "id": "9954a40c",
   "metadata": {},
   "outputs": [],
   "source": [
    "Q1. Make a class called Thing with no contents and print it. Then, create an object called example\n",
    "from this class and also print it. Are the printed values the same or different?\n",
    "\n"
   ]
  },
  {
   "cell_type": "code",
   "execution_count": 2,
   "id": "a91ab83b",
   "metadata": {},
   "outputs": [
    {
     "name": "stdout",
     "output_type": "stream",
     "text": [
      "<class '__main__.think'>\n"
     ]
    }
   ],
   "source": [
    "class think():\n",
    "    def __init__(self,name):\n",
    "        self.name =name\n",
    "\n",
    "print(think)"
   ]
  },
  {
   "cell_type": "code",
   "execution_count": null,
   "id": "3be8dd26",
   "metadata": {},
   "outputs": [],
   "source": [
    "Q2. Create a new class called Thing2 and add the value \"abc\" to the letters class attribute. Letters\n",
    "should be printed.\n"
   ]
  },
  {
   "cell_type": "code",
   "execution_count": 2,
   "id": "e15c4bb9",
   "metadata": {},
   "outputs": [
    {
     "name": "stdout",
     "output_type": "stream",
     "text": [
      "i am a ambrreeiej\n"
     ]
    }
   ],
   "source": [
    "class think2:\n",
    "    attr1 = \"ambrreeiej\"\n",
    "    \n",
    "    def fun(self):\n",
    "        print(\"i am a\",self.attr1)\n",
    "        \n",
    "\n",
    "a.fun()\n"
   ]
  },
  {
   "cell_type": "code",
   "execution_count": null,
   "id": "e17eac9b",
   "metadata": {},
   "outputs": [],
   "source": [
    "Q3. Make yet another class called, of course, Thing3. This time, assign the value \"xyz\" to an instance\n",
    "(object) attribute called letters. Print letters. Do you need to make an object from the class to do\n",
    "this?"
   ]
  },
  {
   "cell_type": "code",
   "execution_count": 17,
   "id": "1cc863ca",
   "metadata": {},
   "outputs": [
    {
     "name": "stdout",
     "output_type": "stream",
     "text": [
      "hello my name is ambreesg\n",
      "hello my age is  45\n",
      "this class is  think3\n"
     ]
    }
   ],
   "source": [
    "class think3:\n",
    "    def __init__(self,x,y,z):\n",
    "        self.name = x\n",
    "        self.age = y\n",
    "        self.class_name=z\n",
    "    def letters(self):\n",
    "        print(\"hello my name is\",self.name)\n",
    "        print(\"hello my age is \",self.age)\n",
    "        print(\"this class is \",self.class_name)\n",
    "\n",
    "cla=think3(\"ambreesg\",45,\"think3\")\n",
    "cla.letters()\n",
    "    "
   ]
  },
  {
   "cell_type": "code",
   "execution_count": null,
   "id": "f5d33347",
   "metadata": {},
   "outputs": [],
   "source": [
    "Q4. Create an Element class with the instance attributes name, symbol, and number. Create a class\n",
    "    object with the values \"Hydrogen\", H, and 1."
   ]
  },
  {
   "cell_type": "code",
   "execution_count": 29,
   "id": "b5b79c27",
   "metadata": {},
   "outputs": [
    {
     "name": "stdout",
     "output_type": "stream",
     "text": [
      "name of element hydrogen\n",
      "symbol of elements  H\n",
      "number of elements  1\n"
     ]
    }
   ],
   "source": [
    "class element():\n",
    "    def __init__(self, name, symbol, number):\n",
    "        self.name = name\n",
    "        self.symbol = symbol\n",
    "        self.number = number\n",
    "        \n",
    "    def value(self):\n",
    "        print(\"name of element\",self.name)\n",
    "        print(\"symbol of elements \",self.symbol)\n",
    "        print(\"number of elements \",self.number)\n",
    "cla2 = element(\"hydrogen\",\"H\",1)\n",
    "cla2.value()"
   ]
  },
  {
   "cell_type": "code",
   "execution_count": null,
   "id": "3d2a9311",
   "metadata": {},
   "outputs": [],
   "source": [
    "Q5. Make a dictionary with these keys and values: \"name\": \"Hydrogen\", \"symbol\": \"H\", \"number\": 1. Then,\n",
    "create an object called hydrogen from class Element using this dictionary."
   ]
  },
  {
   "cell_type": "code",
   "execution_count": 38,
   "id": "ebeae84a",
   "metadata": {},
   "outputs": [],
   "source": [
    "a = {'name':'hydrogen', 'symbol':'H', 'number':1}\n",
    "#hydrogen = Element(a['name'], a['symbol'],a['number'])\n",
    "hydrogen = Element(**a)\n",
    "\n"
   ]
  },
  {
   "cell_type": "code",
   "execution_count": null,
   "id": "03d4b639",
   "metadata": {},
   "outputs": [],
   "source": [
    "Q6. For the Element class, define a method called dump() that prints the values of the object’s\n",
    "attributes (name, symbol, and number). Create the hydrogen object from this new definition and\n",
    "use dump() to print its attributes."
   ]
  },
  {
   "cell_type": "code",
   "execution_count": 40,
   "id": "0860d642",
   "metadata": {},
   "outputs": [
    {
     "name": "stdout",
     "output_type": "stream",
     "text": [
      "name=hydrogen, symbol=H, number=1\n"
     ]
    }
   ],
   "source": [
    "class Element(): \n",
    "    def __init__(self ,name,symbol,number):\n",
    "        self.name = name\n",
    "        self.symbol = symbol\n",
    "        self.number = number\n",
    "    def dump(self):\n",
    "        print('name=%s, symbol=%s, number=%s'% (self.name, self.symbol, self.number) )\n",
    "        \n",
    "hydrogen = Element(**a)\n",
    "hydrogen.dump()"
   ]
  },
  {
   "cell_type": "code",
   "execution_count": 35,
   "id": "095f68b9",
   "metadata": {},
   "outputs": [],
   "source": [
    "Call print(hydrogen). In the definition of Element, change the name of method dump to __str__,\n",
    "create a new hydrogen object, and call print(hydrogen) again.\n"
   ]
  },
  {
   "cell_type": "code",
   "execution_count": 53,
   "id": "b55c39d3",
   "metadata": {},
   "outputs": [
    {
     "name": "stdout",
     "output_type": "stream",
     "text": [
      "name=hydrogen, symbol=H, number=1\n"
     ]
    }
   ],
   "source": [
    "class Element(): \n",
    "    def __init__(self ,name,symbol,number):\n",
    "        self.name = name\n",
    "        self.symbol = symbol\n",
    "        self.number = number\n",
    "    def __str__(self):\n",
    "        return ('name=%s, symbol=%s, number=%s'% (self.name, self.symbol, self.number) )\n",
    "    \n",
    "hydrogen = Element(**a)\n",
    "print(hydrogen)\n"
   ]
  },
  {
   "cell_type": "code",
   "execution_count": null,
   "id": "3cee6fc7",
   "metadata": {},
   "outputs": [],
   "source": [
    "Q8. Modify Element to make the attributes name, symbol, and number private. Define a getter\n",
    "property for each to return its value.\n",
    "\n"
   ]
  },
  {
   "cell_type": "code",
   "execution_count": 54,
   "id": "d615c35d",
   "metadata": {},
   "outputs": [
    {
     "data": {
      "text/plain": [
       "'hydrogen'"
      ]
     },
     "execution_count": 54,
     "metadata": {},
     "output_type": "execute_result"
    }
   ],
   "source": [
    "class Element(): \n",
    "    def __init__(self ,name,symbol,number):\n",
    "        self.__name = name\n",
    "        self.__symbol = symbol\n",
    "        self.__number = number\n",
    "    @property\n",
    "    def name(self):\n",
    "        return (self.__name)\n",
    "    @property\n",
    "    def symbol(self):\n",
    "        return (self.__symbol)\n",
    "    @property\n",
    "    def number(self):\n",
    "        return (self.__number)\n",
    "    \n",
    "hydrogen = Element(**a)\n",
    "hydrogen.name"
   ]
  },
  {
   "cell_type": "code",
   "execution_count": null,
   "id": "10c0648d",
   "metadata": {},
   "outputs": [],
   "source": [
    "Q9. Define three classes: Bear, Rabbit, and Octothorpe. For each, define only one method: eats(). This\n",
    "should return &#39;berries&#39; (Bear), &#39;clover&#39; (Rabbit), or &#39;campers&#39; (Octothorpe). Create one object from\n",
    "each and print what it eats."
   ]
  },
  {
   "cell_type": "code",
   "execution_count": 57,
   "id": "3cdfa049",
   "metadata": {},
   "outputs": [
    {
     "name": "stdout",
     "output_type": "stream",
     "text": [
      "berries\n",
      "clover\n",
      "campers\n"
     ]
    }
   ],
   "source": [
    "class Bear():\n",
    "    def eat():\n",
    "        print('berries')\n",
    "class Rabbit():\n",
    "    def eat():\n",
    "        print('clover')\n",
    "class Octothorpe():\n",
    "    def eat():\n",
    "        print('campers')\n",
    "        \n",
    "        \n",
    "Bear.eat()\n",
    "Rabbit.eat()\n",
    "Octothorpe.eat()"
   ]
  },
  {
   "cell_type": "code",
   "execution_count": null,
   "id": "39382dea",
   "metadata": {},
   "outputs": [],
   "source": [
    "Q10. Define these classes: Laser, Claw, and SmartPhone. Each has only one method: does(). This\n",
    "returns &#39;disintegrate&#39; (Laser), &#39;crush&#39; (Claw), or &#39;ring&#39; (SmartPhone). Then, define the class Robot that\n",
    "has one instance (object) of each of these. Define a does() method for the Robot that prints what its\n",
    "component objects do."
   ]
  },
  {
   "cell_type": "code",
   "execution_count": 69,
   "id": "088d3d54",
   "metadata": {},
   "outputs": [
    {
     "name": "stdout",
     "output_type": "stream",
     "text": [
      "Laser is disitegrate, Claw is crush, SmartPhone is ring\n"
     ]
    }
   ],
   "source": [
    "class Laser:\n",
    "    def does(self):\n",
    "        return('disitegrate')\n",
    "class Claw:\n",
    "    def does(self):\n",
    "        return('crush')\n",
    "class SmartPhone:\n",
    "    def does(self):\n",
    "        return('ring')\n",
    "        \n",
    "class Robot:\n",
    "    def __init__(self):\n",
    "        self.laser = Laser()\n",
    "        self.claw = Claw()\n",
    "        self.smartphone = SmartPhone()\n",
    "    def does(self):\n",
    "        return ('Laser is %s, Claw is %s, SmartPhone is %s' % (self.laser.does(),self.claw.does(),self.smartphone.does()))\n",
    "                                                            \n",
    "                                                               \n",
    "\n",
    "                                                               \n",
    "r=Robot()                                                              \n",
    "print(r.does())                                                               "
   ]
  }
 ],
 "metadata": {
  "kernelspec": {
   "display_name": "Python 3",
   "language": "python",
   "name": "python3"
  },
  "language_info": {
   "codemirror_mode": {
    "name": "ipython",
    "version": 3
   },
   "file_extension": ".py",
   "mimetype": "text/x-python",
   "name": "python",
   "nbconvert_exporter": "python",
   "pygments_lexer": "ipython3",
   "version": "3.8.8"
  }
 },
 "nbformat": 4,
 "nbformat_minor": 5
}
