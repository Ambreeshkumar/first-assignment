{
 "cells": [
  {
   "cell_type": "code",
   "execution_count": 2,
   "id": "a8b29245",
   "metadata": {},
   "outputs": [
    {
     "name": "stdout",
     "output_type": "stream",
     "text": [
      "Object `why` not found.\n",
      "1 2 8\n"
     ]
    }
   ],
   "source": [
    "Q1. What is the result of the code, and why?\n",
    "\n",
    "\n",
    "def func(a,b=6,c=8):\n",
    "    print(a,b,c)\n",
    "\n",
    "func(1,2)"
   ]
  },
  {
   "cell_type": "code",
   "execution_count": null,
   "id": "33b9f30a",
   "metadata": {},
   "outputs": [],
   "source": [
    "# this function create to print the values of a,b,c parameters\n",
    "# 'a' variable is initialize with zero,'b' variable is intialize with \n",
    "# 6, and c is intialize with 8\n",
    "\n",
    "def func(a,b=6,c=8):\n",
    "    print(a,b,c)\n",
    "    \n",
    "# when i call this func() function with two parameter,\n",
    "# This is the value passed in the parameter by the user\n",
    "# so func() function intial with the given values\n",
    "# func is the first priority given value of the function\n",
    "# second is ded=find values.\n",
    "func(1,2)\n"
   ]
  },
  {
   "cell_type": "code",
   "execution_count": null,
   "id": "65ddec1c",
   "metadata": {},
   "outputs": [],
   "source": [
    "Q2. What is the result of this code, and why?\n",
    "\n",
    "def func(a,c=5):\n",
    "    print(a,b,c)\n",
    "def func(1,c=3,b=2):"
   ]
  },
  {
   "cell_type": "code",
   "execution_count": 4,
   "id": "733d2d2f",
   "metadata": {},
   "outputs": [
    {
     "ename": "TypeError",
     "evalue": "func() got an unexpected keyword argument 'b'",
     "output_type": "error",
     "traceback": [
      "\u001b[1;31m---------------------------------------------------------------------------\u001b[0m",
      "\u001b[1;31mTypeError\u001b[0m                                 Traceback (most recent call last)",
      "\u001b[1;32m<ipython-input-4-67b9066eb88a>\u001b[0m in \u001b[0;36m<module>\u001b[1;34m\u001b[0m\n\u001b[0;32m      1\u001b[0m \u001b[1;32mdef\u001b[0m \u001b[0mfunc\u001b[0m\u001b[1;33m(\u001b[0m\u001b[0ma\u001b[0m\u001b[1;33m,\u001b[0m\u001b[0mc\u001b[0m\u001b[1;33m=\u001b[0m\u001b[1;36m5\u001b[0m\u001b[1;33m)\u001b[0m\u001b[1;33m:\u001b[0m\u001b[1;33m\u001b[0m\u001b[1;33m\u001b[0m\u001b[0m\n\u001b[0;32m      2\u001b[0m     \u001b[0mprint\u001b[0m\u001b[1;33m(\u001b[0m\u001b[0ma\u001b[0m\u001b[1;33m,\u001b[0m\u001b[0mb\u001b[0m\u001b[1;33m,\u001b[0m\u001b[0mc\u001b[0m\u001b[1;33m)\u001b[0m\u001b[1;33m\u001b[0m\u001b[1;33m\u001b[0m\u001b[0m\n\u001b[1;32m----> 3\u001b[1;33m \u001b[0mfunc\u001b[0m\u001b[1;33m(\u001b[0m\u001b[1;36m1\u001b[0m\u001b[1;33m,\u001b[0m\u001b[0mc\u001b[0m\u001b[1;33m=\u001b[0m\u001b[1;36m3\u001b[0m\u001b[1;33m,\u001b[0m\u001b[0mb\u001b[0m\u001b[1;33m=\u001b[0m\u001b[1;36m2\u001b[0m\u001b[1;33m)\u001b[0m\u001b[1;33m\u001b[0m\u001b[1;33m\u001b[0m\u001b[0m\n\u001b[0m\u001b[0;32m      4\u001b[0m \u001b[1;33m\u001b[0m\u001b[0m\n",
      "\u001b[1;31mTypeError\u001b[0m: func() got an unexpected keyword argument 'b'"
     ]
    }
   ],
   "source": [
    "# here two parameter are defined, A and B \n",
    "# 'a' is associated with zero and 'b' is associated with five.\n",
    "\n",
    "def func(a,c=5):\n",
    "    print(a,b,c)\n",
    "    \n",
    "# But here functuin is called with three parameters.\n",
    "# so this function generate the error.\n",
    "func(1,c=3,b=2)\n",
    "    \n"
   ]
  },
  {
   "cell_type": "code",
   "execution_count": null,
   "id": "a256b0e9",
   "metadata": {},
   "outputs": [],
   "source": [
    "Q3. How about this code: what is its result, and why?\n",
    "    \n",
    "    "
   ]
  },
  {
   "cell_type": "code",
   "execution_count": 5,
   "id": "40f76464",
   "metadata": {},
   "outputs": [
    {
     "name": "stdout",
     "output_type": "stream",
     "text": [
      "1 (2, 3)\n"
     ]
    }
   ],
   "source": [
    "# he special syntax *args in function definitions in \n",
    "# python is used to pass a variable number of arguments \n",
    "# to a function. It is used to pass a non-key worded, \n",
    "# variable-length argument list. The syntax is to use \n",
    "# the symbol * to take in a variable number of arguments; \n",
    "#by convention, it is often used with the word args\n",
    "\n",
    "def func(a,*args):\n",
    "    print(a,args)\n",
    "    \n",
    "    \n",
    "func(1,2,3)\n",
    "\n",
    "# The special syntax *args in function definitions in python is used to pass a variable number of arguments to a function. It is used to pass a non-key worded, variable-length argument list. \n",
    "\n",
    "# The syntax is to use the symbol * to take in a variable number of arguments; by convention, it is often used with the word args.\n",
    "# What *args allows you to do is take in more arguments than the number of formal arguments that you previously defined. With *args, any number of extra arguments can be tacked on to your current formal parameters (including zero extra arguments).\n",
    "# For example : we want to make a multiply function that takes any number of arguments and able to multiply them all together. It can be done using *args.\n",
    "# Using the *, the variable that we associate with the * becomes an iterable meaning you can do things like iterate over it, run some higher-order functions such as map and filter, etc."
   ]
  },
  {
   "cell_type": "code",
   "execution_count": null,
   "id": "568b4a2b",
   "metadata": {},
   "outputs": [],
   "source": [
    "Q4. What does this code print, and why?\n",
    "\n"
   ]
  },
  {
   "cell_type": "code",
   "execution_count": 6,
   "id": "fd0b8670",
   "metadata": {},
   "outputs": [
    {
     "name": "stdout",
     "output_type": "stream",
     "text": [
      "1 {'c': 3, 'b': 2}\n"
     ]
    }
   ],
   "source": [
    "def func(a,**kargs):\n",
    "    print(a, kargs)\n",
    "\n",
    "func(a=1,c=3,b=2)\n",
    "\n",
    "# The special syntax **kwargs in function definitions in python is used to pass a keyworded, \n",
    "# variable-length argument list. We use the name kwargs with the double star. The reason is \n",
    "# because the double star allows us to pass through keyword arguments (and any number of them).\n",
    "\n",
    "# A keyword argument is where you provide a name to the variable as you pass it into the function.\n",
    "# One can think of the kwargs as being a dictionary that maps each keyword to the value that we \n",
    "# pass alongside it. That is why when we iterate over the kwargs there doesn’t seem to be any \n",
    "# order in which they were printed out.\n",
    "\n"
   ]
  },
  {
   "cell_type": "code",
   "execution_count": null,
   "id": "be82b47a",
   "metadata": {},
   "outputs": [],
   "source": [
    "Q5. What gets printed by this, and explain?\n",
    "\n"
   ]
  },
  {
   "cell_type": "code",
   "execution_count": 8,
   "id": "24754a7b",
   "metadata": {},
   "outputs": [
    {
     "name": "stdout",
     "output_type": "stream",
     "text": [
      "1 5 6 5\n"
     ]
    }
   ],
   "source": [
    "def func(a,b,c=8, d=5):\n",
    "    print(a,b,c,d)\n",
    "    \n",
    "func(1,*(5,6))\n",
    "\n",
    "# d variable is initial with 5, if use not give the value \n",
    "# when call the function, so d take  avlue 5."
   ]
  },
  {
   "cell_type": "code",
   "execution_count": null,
   "id": "2c22463b",
   "metadata": {},
   "outputs": [],
   "source": [
    "Q6. what is the result of this, and explain?\n"
   ]
  },
  {
   "cell_type": "code",
   "execution_count": 10,
   "id": "f837f31f",
   "metadata": {},
   "outputs": [
    {
     "ename": "IndentationError",
     "evalue": "unexpected indent (<ipython-input-10-297702355abd>, line 2)",
     "output_type": "error",
     "traceback": [
      "\u001b[1;36m  File \u001b[1;32m\"<ipython-input-10-297702355abd>\"\u001b[1;36m, line \u001b[1;32m2\u001b[0m\n\u001b[1;33m    l=1;m=[1];n=['a':0]\u001b[0m\n\u001b[1;37m    ^\u001b[0m\n\u001b[1;31mIndentationError\u001b[0m\u001b[1;31m:\u001b[0m unexpected indent\n"
     ]
    }
   ],
   "source": [
    "def func(a,b,c):a=2;b[0]='x';c['a']='y'\n",
    "    l=1;m=[1];n=['a':0]\n",
    "    \n",
    "func(l,m,n)\n",
    "\n",
    "# this function will be generet the error, this code is  not in a siquence.\n",
    "# ans formetion.\n"
   ]
  }
 ],
 "metadata": {
  "kernelspec": {
   "display_name": "Python 3",
   "language": "python",
   "name": "python3"
  },
  "language_info": {
   "codemirror_mode": {
    "name": "ipython",
    "version": 3
   },
   "file_extension": ".py",
   "mimetype": "text/x-python",
   "name": "python",
   "nbconvert_exporter": "python",
   "pygments_lexer": "ipython3",
   "version": "3.8.8"
  }
 },
 "nbformat": 4,
 "nbformat_minor": 5
}
