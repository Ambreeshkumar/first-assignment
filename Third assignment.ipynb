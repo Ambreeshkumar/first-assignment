{
 "cells": [
  {
   "cell_type": "markdown",
   "id": "6d352b5e",
   "metadata": {},
   "source": [
    "# Q1. Why are functions advantageous to have in your programs?\n",
    "\n",
    "Answer.\n",
    "Why are functions advantageous to have in your programs? Functions \n",
    "reduce the need for duplicate code. This makes programs shorter, \n",
    "easier to read, and easier to update. ... A function call is what\n",
    "moves the program execution into the function, and the function call \n",
    "evaluates to the function's return value.\n"
   ]
  },
  {
   "cell_type": "markdown",
   "id": "0f6ebf66",
   "metadata": {},
   "source": [
    "# Q2. When does the code in a function run: when it's specified \n",
    "    or when it's called?\n",
    "    \n",
    "Answer.\n",
    "When we call the function.then the code run  in the function\n",
    "Functions \"Encapsulate\" a task (they combine many instructions into a \n",
    "single line of code). Most programming languages provide many built in\n",
    "functions that would otherwise require many steps to accomplish, for\n",
    "\n",
    "example computing the square root of a number. In general, we don't\n",
    "care how a function does what it does, only that it \"does it\"!"
   ]
  },
  {
   "cell_type": "markdown",
   "id": "0bc67b52",
   "metadata": {},
   "source": [
    "# Q3. What statement creates a function?\n",
    "\n",
    "Answer.\n",
    "If i want create a function, so i can use def() keyword.\n",
    "the function is create with the def keyword. the statements in the block\n",
    "of the function must be indented. the def keyword is followerd ny the \n",
    "functio name with round brackets and colon.\n",
    " \n",
    "     "
   ]
  },
  {
   "cell_type": "markdown",
   "id": "f2080bab",
   "metadata": {},
   "source": [
    "# code of defind function.\n",
    "\n",
    "def my_function():\n",
    "    print(\"hello from function\")\n",
    "\n",
    "my_function()"
   ]
  },
  {
   "cell_type": "markdown",
   "id": "ef62b088",
   "metadata": {},
   "source": [
    "# Q4. What is the difference between a function and a function call?\n",
    "\n",
    "Answer.\n",
    "A function is a block of code that does a particular operation and returns a result. It usually accepts inputs as parameters and returns a result. The parameters are not mandatory.\n",
    "\n",
    "E.g:\n",
    "Function add(a,b)\n",
    "return a+ b\n",
    "\n",
    "A function call is the code used to pass control to a function.\n",
    "\n",
    "E.g.:\n",
    "\n",
    "b = add(5,6)\n",
    "\n",
    "Now b will have the value 11.\n",
    "\n"
   ]
  },
  {
   "cell_type": "markdown",
   "id": "709e9417",
   "metadata": {},
   "source": [
    "# Q5. How many global scopes are there in a Python program? How many local scopes?\n",
    "\n",
    "Answer.\n",
    "There's only one global Python scope per program execution. \n",
    "This scope remains in existence until the program terminates and all \n",
    "its names are forgotten.\n"
   ]
  },
  {
   "cell_type": "markdown",
   "id": "3450c0d9",
   "metadata": {},
   "source": [
    "# Q6. What happens to variables in a local scope when the function \n",
    "call returns?\n",
    "\n",
    "Answer.\n",
    "When the execution of the function terminates (returns), the local \n",
    "variables are destroyed. ... So it is not possible for a function to\n",
    "set some local variable to a value, complete its execution, and then\n",
    "when it is called again next time, recover the local variable"
   ]
  },
  {
   "cell_type": "markdown",
   "id": "0537b1de",
   "metadata": {},
   "source": [
    "# Q7. What is the concept of a return value? Is it possible to have a\n",
    "return value in an expression?\n",
    "\n",
    "Answer.\n",
    "in most programming languages, the return statement is either return \n",
    "or return value, where value is a variable or other information \n",
    "coming back from the subroutine.\n"
   ]
  },
  {
   "cell_type": "code",
   "execution_count": null,
   "id": "50fc4f8a",
   "metadata": {},
   "outputs": [],
   "source": [
    "# Python program to\n",
    "# demonstrate return statement\n",
    " \n",
    "def add(a, b):\n",
    " \n",
    "    # returning sum of a and b\n",
    "    return a + b\n",
    " \n",
    "def is_true(a):\n",
    " \n",
    "    # returning boolean of a\n",
    "    return bool(a)\n",
    " \n",
    "# calling function\n",
    "res = add(2, 3)\n",
    "print(\"Result of add function is {}\".format(res))\n",
    " \n",
    "res = is_true(2<5)\n",
    "print(\"\\nResult of is_true function is {}\".format(res))"
   ]
  },
  {
   "cell_type": "markdown",
   "id": "1f195bdf",
   "metadata": {},
   "source": [
    "Q8. If a function does not have a return statement, \n",
    "what is the return value of a call to that function?\n",
    "\n",
    "Answer.\n",
    "If there is no return statement in the function code, the function ends, when the control flow reaches the end of\n",
    "the function body and the value None will be returned.\n"
   ]
  },
  {
   "cell_type": "code",
   "execution_count": 2,
   "id": "12a8df7c",
   "metadata": {},
   "outputs": [
    {
     "name": "stdout",
     "output_type": "stream",
     "text": [
      "11\n",
      "13\n",
      "None\n"
     ]
    }
   ],
   "source": [
    "def add(x,y):   \n",
    "    print(x+y)\n",
    "    \n",
    "add(2,9)\n",
    "a=add(4,9)\n",
    "print(a)"
   ]
  },
  {
   "cell_type": "code",
   "execution_count": null,
   "id": "1e604d3f",
   "metadata": {},
   "outputs": [],
   "source": [
    "Q9. How do you make a function variable refer to the global variable?\n",
    "\n",
    "Answer.\n",
    "If you want to refer to a global variable in a function, you can use the global keyword to declare which variables are global."
   ]
  },
  {
   "cell_type": "code",
   "execution_count": 7,
   "id": "08f08e1e",
   "metadata": {},
   "outputs": [
    {
     "name": "stdout",
     "output_type": "stream",
     "text": [
      "Python is k sensitive language\n",
      "Python is fantastic\n",
      "Python is awesome\n",
      "Python is fantastic\n",
      "Python is fantastic\n"
     ]
    }
   ],
   "source": [
    "# Create a variable outside of a function, and use it inside the function\n",
    "\n",
    "\n",
    "x = \"k sensitive language\"\n",
    "\n",
    "def myfunc():\n",
    "  print(\"Python is \" + x)\n",
    "\n",
    "myfunc()\n",
    "\n",
    "# Create a variable inside a function, with the same name as the global variable\n",
    "\n",
    "x = \"awesome\"    #global variable.\n",
    "\n",
    "def myfunc():\n",
    "  x = \"fantastic\"          # inside variable.\n",
    "  print(\"Python is \" + x)\n",
    "\n",
    "myfunc()\n",
    "\n",
    "print(\"Python is \" + x)\n",
    "\n",
    "\n",
    "\n",
    "# If you use the global keyword, the variable belongs to the global scope:\n",
    "\n",
    "def myfunc():\n",
    "  global x             # it's a globle key word\n",
    "  x = \"fantastic\"\n",
    "\n",
    "myfunc()\n",
    "\n",
    "print(\"Python is \" + x)\n",
    "\n",
    "\n",
    "\n",
    "\n",
    "\n",
    "# To change the value of a global variable inside a function,\n",
    "refer to the variable by using the global keyword:\n",
    "x = \"awesome\"\n",
    "\n",
    "def myfunc():\n",
    "  global x\n",
    "  x = \"fantastic\"\n",
    "\n",
    "myfunc()\n",
    "\n",
    "print(\"Python is \" + x)\n"
   ]
  },
  {
   "cell_type": "markdown",
   "id": "f9aeb1f6",
   "metadata": {},
   "source": [
    "Q10. What is the data type of None?\n",
    "\n",
    "Answer.\n",
    "\n",
    "\n",
    "None is used to define a null value. It is not the same as an empty string, False, or a zero. It is a data type of the class NoneType object. \n",
    "\n",
    "Assigning a value of None to a variable is one way to reset it to its original, empty state."
   ]
  },
  {
   "cell_type": "markdown",
   "id": "c9bad1d0",
   "metadata": {},
   "source": [
    "Q11. What does the sentence import areallyourpetsnamederic do?\n",
    "\n",
    "Answer. i am not sure about this answer.because i don't understand this question\n",
    "but i try \n",
    "A global statement will force a variable in a function to refer to the global variable. \n",
    "The data type of None is NoneType . That import statement imports a module named areallyourpetsnamederic .\n",
    "\n",
    "\n"
   ]
  },
  {
   "cell_type": "markdown",
   "id": "8bb80454",
   "metadata": {},
   "source": [
    "Q12. If you had a bacon() feature in a spam module, what would you call it after importing spam?\n",
    "\n",
    "Answer.\n",
    "f you had a function named bacon() inside a module named spam, how would you call it after importing spam ? This function \n",
    "can be called with spam. bacon\n",
    "\n",
    "becon() it's a function of psam module in a any library \n",
    "we can call with syntecs psam.bacon()\n"
   ]
  },
  {
   "cell_type": "code",
   "execution_count": null,
   "id": "32fda9b3",
   "metadata": {},
   "outputs": [],
   "source": [
    "Q13. What can you do to save a programme from crashing if it encounters an error?\n",
    "\n",
    "Answer.\n",
    "Prevents program from crashing if an error occurs. If an error occurs in a program,\n",
    "we don't want the program to unexpectedly crash on the user. Instead, error handling can be used to notify the user of why \n",
    "the error occurred and gracefully exit the process that caused the error\n"
   ]
  },
  {
   "cell_type": "code",
   "execution_count": null,
   "id": "d82da54f",
   "metadata": {},
   "outputs": [],
   "source": [
    "Q14. What is the purpose of the try clause? What is the purpose of the except clause?\n",
    "\n",
    "Answer.\n",
    "Error in Python can be of two types i.e. Syntax errors and Exceptions. Errors are the problems in a program due to \n",
    "which the program will stop the execution. On the other hand, exceptions are raised when some internal events occur\n",
    "which changes the normal flow of the program."
   ]
  },
  {
   "cell_type": "code",
   "execution_count": 8,
   "id": "4455f445",
   "metadata": {},
   "outputs": [
    {
     "name": "stdout",
     "output_type": "stream",
     "text": [
      "Yeah ! Your answer is : 1\n"
     ]
    }
   ],
   "source": [
    "# Python code to illustrate\n",
    "# working of try()\n",
    "def divide(x, y):\n",
    "    try:\n",
    "        # Floor Division : Gives only Fractional Part as Answer\n",
    "        result = x // y\n",
    "        print(\"Yeah ! Your answer is :\", result)\n",
    "    except ZeroDivisionError:\n",
    "        print(\"Sorry ! You are dividing by zero \")\n",
    " \n",
    "# Look at parameters and note the working of Program\n",
    "divide(3, 2)"
   ]
  },
  {
   "cell_type": "code",
   "execution_count": null,
   "id": "1715bb9d",
   "metadata": {},
   "outputs": [],
   "source": [
    "Q15. What is the purpose of the try clause? What is the purpose of the except clause?\n",
    "\n",
    "Answer.\n",
    "Error in Python can be of two types i.e. Syntax errors and Exceptions.\n",
    "Errors are the problems in a program due to which the program will stop \n",
    "the execution. On the other hand, exceptions are raised when some \n",
    "internal events occur which changes the normal flow of the program.\n",
    "\n",
    "IOError: if the file can’t be opened\n",
    "KeyboardInterrupt: when an unrequired key is pressed by the user\n",
    "ValueError: when built-in function receives a wrong argument\n",
    "EOFError: if End-Of-File is hit without reading any data\n",
    "ImportError: if it is unable to find the module\n",
    "\n"
   ]
  },
  {
   "cell_type": "code",
   "execution_count": 1,
   "id": "062abc81",
   "metadata": {},
   "outputs": [
    {
     "name": "stdout",
     "output_type": "stream",
     "text": [
      "Yeah ! Your answer is : 1\n"
     ]
    }
   ],
   "source": [
    "# Python code to illustrate\n",
    "# working of try()\n",
    "def divide(x, y):\n",
    "    try:\n",
    "        # Floor Division : Gives only Fractional Part as Answer\n",
    "        result = x // y\n",
    "        print(\"Yeah ! Your answer is :\", result)\n",
    "    except ZeroDivisionError:\n",
    "        print(\"Sorry ! You are dividing by zero \")\n",
    " \n",
    "# Look at parameters and note the working of Program\n",
    "divide(3, 2)"
   ]
  }
 ],
 "metadata": {
  "kernelspec": {
   "display_name": "Python 3",
   "language": "python",
   "name": "python3"
  },
  "language_info": {
   "codemirror_mode": {
    "name": "ipython",
    "version": 3
   },
   "file_extension": ".py",
   "mimetype": "text/x-python",
   "name": "python",
   "nbconvert_exporter": "python",
   "pygments_lexer": "ipython3",
   "version": "3.8.8"
  }
 },
 "nbformat": 4,
 "nbformat_minor": 5
}
