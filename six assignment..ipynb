{
 "cells": [
  {
   "cell_type": "code",
   "execution_count": null,
   "id": "7fd54472",
   "metadata": {},
   "outputs": [],
   "source": [
    "Q1.What are escape characters, and how do you use them?\n",
    "\n",
    "Answer.\n",
    "To insert characters that are illegal in a string, use an escape character. \n",
    "An escape character is a backslash \\ followed by the character you want to insert.\n",
    "\n",
    "\n",
    "\\' single quote,  \\\\ backslash, \\n new line, \\r carriage return\n",
    "\\t tab, \\b backspace, \\f form feed, \\ooo octal value,\n",
    "\\xhh hex value"
   ]
  },
  {
   "cell_type": "code",
   "execution_count": 1,
   "id": "a4d27dda",
   "metadata": {},
   "outputs": [
    {
     "ename": "SyntaxError",
     "evalue": "invalid syntax (<ipython-input-1-dae8f1f7d816>, line 6)",
     "output_type": "error",
     "traceback": [
      "\u001b[1;36m  File \u001b[1;32m\"<ipython-input-1-dae8f1f7d816>\"\u001b[1;36m, line \u001b[1;32m6\u001b[0m\n\u001b[1;33m    txt = \"We are the so-called \"Vikings\" from the north.\"\u001b[0m\n\u001b[1;37m                                 ^\u001b[0m\n\u001b[1;31mSyntaxError\u001b[0m\u001b[1;31m:\u001b[0m invalid syntax\n"
     ]
    }
   ],
   "source": [
    "# You will get an error if you use double quotes inside a string that \n",
    "# is surrounded by double quotes:\n",
    "\n",
    "\n",
    "\n",
    "txt = \"We are the so-called \"Vikings\" from the north.\"\n",
    "\n",
    "\n",
    "# To fix this problem, use the escape character \\\":\n",
    "# The escape character allows you to use double quotes\n",
    "# when you normally would not be allowed:\n",
    "\n",
    "txt = \"We are the so-called \\\"Vikings\\\" from the north.\"\n",
    "\n",
    "\n",
    "\n",
    "\n"
   ]
  },
  {
   "cell_type": "code",
   "execution_count": null,
   "id": "0c01bc34",
   "metadata": {},
   "outputs": [],
   "source": [
    "Q2. What do the escape characters n and t stand for?\n",
    "\n",
    "Answer.\n",
    "In Python strings, the backslash \"\\\" is a special character, also called the \"escape\" character. \n",
    "It is used in representing certain whitespace characters: \"\\t\" is a tab, \"\\n\" is a newline,\n",
    "and \"\\r\" is a carriage return. ... This is called \"escaping\". For example, \"\\'\" is the single quote character.\n"
   ]
  },
  {
   "cell_type": "code",
   "execution_count": 4,
   "id": "288d35ee",
   "metadata": {},
   "outputs": [
    {
     "name": "stdout",
     "output_type": "stream",
     "text": [
      "Hello\n",
      "World!\n",
      "\n",
      "\n",
      "Hello\tWorld!\n"
     ]
    }
   ],
   "source": [
    "# code with \\n \n",
    "txt = \"Hello\\nWorld!\"\n",
    "print(txt) \n",
    "print(\"\\n\")\n",
    "\n",
    "\n",
    "# code with \\t\n",
    "txt = \"Hello\\tWorld!\"\n",
    "print(txt) \n"
   ]
  },
  {
   "cell_type": "code",
   "execution_count": null,
   "id": "83ba7f23",
   "metadata": {},
   "outputs": [],
   "source": [
    "Q3. What is the way to include backslash characters in a string?\n",
    "\n",
    "Answer.\n",
    "Use two backslashes to represent a backslash\n",
    "\n",
    "Use the syntax \"\\\\\" within the string literal to represent a single backslash."
   ]
  },
  {
   "cell_type": "code",
   "execution_count": 7,
   "id": "eb4e4d5d",
   "metadata": {},
   "outputs": [
    {
     "name": "stdout",
     "output_type": "stream",
     "text": [
      "This will insert one \\ (backslash).\n",
      "\n",
      "\n",
      "\\\n"
     ]
    }
   ],
   "source": [
    "txt = \"This will insert one \\\\ (backslash).\"\n",
    "print(txt) \n",
    "print(\"\\n\")\n",
    "\n",
    "\n",
    "txt1=\"\\\\\"\n",
    "print(txt1)"
   ]
  },
  {
   "cell_type": "code",
   "execution_count": null,
   "id": "e1caae1c",
   "metadata": {},
   "outputs": [],
   "source": [
    "Q4. The string \"howl\"s Moving Castle\" is a correct value. Why isn't the single quote character in the word Howl's not escaped a problem?\n",
    "\n",
    "Answer.\n",
    "The single quote in Howl's is fine because you've used double quotes to mark the beginning and end of the string."
   ]
  },
  {
   "cell_type": "code",
   "execution_count": null,
   "id": "5b4cb764",
   "metadata": {},
   "outputs": [],
   "source": [
    "Q5. How do you write a string of newlines if you don't want to use the n character?\n",
    "\n",
    "Answer. "
   ]
  },
  {
   "cell_type": "code",
   "execution_count": 14,
   "id": "70657318",
   "metadata": {},
   "outputs": [
    {
     "name": "stdout",
     "output_type": "stream",
     "text": [
      "this code for new line\n",
      "ambreesh\n"
     ]
    }
   ],
   "source": [
    "print(\"this code for new line\")\n",
    "print(\"ambreesh\")"
   ]
  },
  {
   "cell_type": "code",
   "execution_count": null,
   "id": "cc753dbc",
   "metadata": {},
   "outputs": [],
   "source": [
    "Q6. What are the values of the given expressions?\n",
    "   'hello, world'[1]\n",
    "   'hello, world'[0:5]\n",
    "    'hello, world'[:5]\n",
    "    'hello, world'[3:]\n",
    "    \n",
    "Answer.\n",
    "This values expressing the slicing of string"
   ]
  },
  {
   "cell_type": "code",
   "execution_count": 27,
   "id": "d61e5199",
   "metadata": {},
   "outputs": [
    {
     "ename": "IndentationError",
     "evalue": "unexpected indent (<ipython-input-27-d9563b8fef27>, line 7)",
     "output_type": "error",
     "traceback": [
      "\u001b[1;36m  File \u001b[1;32m\"<ipython-input-27-d9563b8fef27>\"\u001b[1;36m, line \u001b[1;32m7\u001b[0m\n\u001b[1;33m    index and five located on fifth\u001b[0m\n\u001b[1;37m    ^\u001b[0m\n\u001b[1;31mIndentationError\u001b[0m\u001b[1;31m:\u001b[0m unexpected indent\n"
     ]
    }
   ],
   "source": [
    "# this statement slicing the string.\n",
    "'hello, world'[1]\n",
    "\n",
    "# zero is located at the zerohello, world'[0:5]\n",
    "\n",
    "\n",
    " index and five located on fifth\n",
    "   # index.\n",
    "\n",
    "'hello, world'[0:5]\n",
    "\n",
    "#  in this condition zero is otomaticly located on the zero \n",
    " # index \n",
    "'hello, world'[:5]\n",
    "\n",
    "# This statement starts with three and goes to the end poin of string\n",
    "\n",
    "'hello, world'[3:]\n",
    "\n",
    "\n",
    "\n",
    "\n",
    "\n",
    "\n",
    "    "
   ]
  },
  {
   "cell_type": "code",
   "execution_count": null,
   "id": "a1a9b133",
   "metadata": {},
   "outputs": [],
   "source": [
    "Q7. What are the values of the following expressions?\n",
    "'hello'.upper()\n",
    "'hello'.upper().isupper()\n",
    "'hello'.upper().lower()\n",
    "\n",
    "Answer.  'hello'.upper().\n",
    "The Python upper() method converts all lowercase letters in a\n",
    "string to uppercase and returns the modified string\n",
    "\n",
    "'hello'.lower()\n",
    "The Python isupper() returns true if all of the characters in a \n",
    "string are uppercase, and false if they aren't. Both are useful \n",
    "for formatting data that is dependant on case\n",
    "\n"
   ]
  },
  {
   "cell_type": "code",
   "execution_count": 38,
   "id": "55c3c700",
   "metadata": {},
   "outputs": [
    {
     "data": {
      "text/plain": [
       "'hello'"
      ]
     },
     "execution_count": 38,
     "metadata": {},
     "output_type": "execute_result"
    }
   ],
   "source": [
    "# output will be came lower case\n",
    "'hello'.upper().lower()\n",
    "\n"
   ]
  },
  {
   "cell_type": "code",
   "execution_count": null,
   "id": "222d0c34",
   "metadata": {},
   "outputs": [],
   "source": [
    "Q8. What are the values of the following expressions?\n",
    "    'remember, remember, the fifth of july'.split()\n",
    "    '-'.join('there can only one.'.split())\n",
    "    \n",
    "Answer.\n",
    "The split() method divides a String into an ordered list of substrings, puts these substrings into an list, \n",
    "and returns the list.\n",
    "\n",
    "join()\n",
    "Python program to Split a string based on a delimiter and join the string using another delimiter.\n",
    "\n",
    "Split a string can be quite useful sometimes, especially when you need only certain parts of strings. \n",
    "A simple yet effective example is splitting the First-name and Last-name of a person. Another application \n",
    "is CSV(Comma Separated Files). We use split to get data from CSV and join to write data to CSV."
   ]
  },
  {
   "cell_type": "code",
   "execution_count": 40,
   "id": "955a8950",
   "metadata": {},
   "outputs": [
    {
     "name": "stdout",
     "output_type": "stream",
     "text": [
      "\n",
      "\n"
     ]
    },
    {
     "data": {
      "text/plain": [
       "'there-can-only-one.'"
      ]
     },
     "execution_count": 40,
     "metadata": {},
     "output_type": "execute_result"
    }
   ],
   "source": [
    "# split() method divides a string into ordered list:\n",
    "'remember, remember, the fifth of july'.split()\n",
    "print(\"\\n\")\n",
    "\n",
    "# here is use of join function for break the string at a poin\n",
    "\n",
    "'-'.join('there can only one.'.split())\n"
   ]
  },
  {
   "cell_type": "code",
   "execution_count": null,
   "id": "24610c46",
   "metadata": {},
   "outputs": [],
   "source": [
    "Q9. What are the methods for right-justifying, left-justifying, and centering a string?\n",
    "\n",
    "Answer.\n",
    "String alignment is frequently used in many day-day applications. Python in its language offers several functions that helps to align string. \n",
    "Also, offers a way to add user specified padding instead of blank space.\n",
    "\n",
    "\n",
    "str.ljust(s, width[, fillchar])\n",
    "str.rjust(s, width[, fillchar])\n",
    "str.center(s, width[, fillchar])\n"
   ]
  },
  {
   "cell_type": "code",
   "execution_count": 3,
   "id": "d116b5bc",
   "metadata": {
    "scrolled": true
   },
   "outputs": [
    {
     "name": "stdout",
     "output_type": "stream",
     "text": [
      "The original string is : \n",
      " String alignment is frequently  \n",
      "\n",
      "The center aligned string is : \n",
      "    String alignment is frequently       \n",
      "\n",
      "Center aligned string with fillchr: \n",
      "####String alignment is frequently #####\n"
     ]
    }
   ],
   "source": [
    "# Python code to demonstrate \n",
    "# the working of center()\n",
    "  \n",
    "cstr = \"String alignment is frequently \"\n",
    "  \n",
    "# Printing the original string\n",
    "print (\"The original string is : \\n\", cstr, \"\\n\")\n",
    "  \n",
    "# Printing the center aligned string \n",
    "print (\"The center aligned string is : \")\n",
    "print (cstr.center(40), \"\\n\")\n",
    "  \n",
    "# Printing the center aligned \n",
    "# string with fillchr\n",
    "print (\"Center aligned string with fillchr: \")\n",
    "print (cstr.center(40, '#'))"
   ]
  },
  {
   "cell_type": "code",
   "execution_count": 10,
   "id": "b492959c",
   "metadata": {},
   "outputs": [
    {
     "name": "stdout",
     "output_type": "stream",
     "text": [
      "####String alignment is frequently #####\n"
     ]
    }
   ],
   "source": [
    "a=\"String alignment is frequently \"\n",
    "print(a.center(40,\"#\"))"
   ]
  },
  {
   "cell_type": "code",
   "execution_count": null,
   "id": "f3c47a9c",
   "metadata": {},
   "outputs": [],
   "source": [
    "Q10. What is the best way to remove whitespace characters from the start or end?\n",
    "\n",
    "Answer.\n",
    "The Python String strip() method is part of the built-in function available in python. The function will \n",
    "remove given characters from the start and end of the original string. This function is very helpful in \n",
    "removing the whitespaces at the start and end of the given string, as shown in the example.\n",
    "\n",
    "Given a string, write a Python program to remove all spaces from it.\n",
    "There are various approaches to remove whitespaces in a string. The first one is the Naive approach,\n",
    "But here we will discuss all the approaches which are specific to Python."
   ]
  },
  {
   "cell_type": "code",
   "execution_count": 30,
   "id": "cad3be47",
   "metadata": {},
   "outputs": [
    {
     "name": "stdout",
     "output_type": "stream",
     "text": [
      "ambreesh\n",
      "__a_m_b_r_e_e_s_h__\n",
      "\n",
      "\n",
      "  a m b r e e s h  \n"
     ]
    }
   ],
   "source": [
    "# Python3 code to remove whitespace\n",
    "def remove(string):\n",
    "    return string.replace(\" \", \"\")\n",
    "      \n",
    "# Driver Program\n",
    "string = ' a m b r e e s h '\n",
    "print(remove(string))\n",
    "\n",
    "\n",
    "a=\"  a m b r e e s h  \"\n",
    "print(a.replace(\" \",\"_\"))\n",
    "print(\"\\n\")\n",
    "\n",
    "# remove whitespace with strip:\n",
    "\n",
    "str=\"  a m b r e e s h  \"\n",
    "r=str.rstrip()   # use of rstrip:\n",
    "print(r)\n",
    "l=str.rstrip()   # use of lstrip:\n",
    "print(l)\n"
   ]
  },
  {
   "cell_type": "code",
   "execution_count": 36,
   "id": "41729d5b",
   "metadata": {},
   "outputs": [
    {
     "name": "stdout",
     "output_type": "stream",
     "text": [
      "  a m b r e e s h\n",
      "  a m b r e e s h\n"
     ]
    }
   ],
   "source": [
    "str=\"  a m b r e e s h  \"\n",
    "r=str.rstrip()\n",
    "print(r)\n",
    "l=str.rstrip()\n",
    "print(l)\n",
    "\n",
    "\n"
   ]
  }
 ],
 "metadata": {
  "kernelspec": {
   "display_name": "Python 3",
   "language": "python",
   "name": "python3"
  },
  "language_info": {
   "codemirror_mode": {
    "name": "ipython",
    "version": 3
   },
   "file_extension": ".py",
   "mimetype": "text/x-python",
   "name": "python",
   "nbconvert_exporter": "python",
   "pygments_lexer": "ipython3",
   "version": "3.8.8"
  }
 },
 "nbformat": 4,
 "nbformat_minor": 5
}
