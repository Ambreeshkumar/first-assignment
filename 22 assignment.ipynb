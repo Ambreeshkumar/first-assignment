{
 "cells": [
  {
   "cell_type": "code",
   "execution_count": null,
   "id": "7a7cfade",
   "metadata": {},
   "outputs": [],
   "source": [
    "What is the result of the code, and explain?\n",
    "\n",
    "x = 'iNeuron'\n",
    "def func():\n",
    "print(X)\n",
    "\n",
    "func()"
   ]
  },
  {
   "cell_type": "code",
   "execution_count": 1,
   "id": "9d310430",
   "metadata": {},
   "outputs": [
    {
     "name": "stdout",
     "output_type": "stream",
     "text": [
      "ineron\n"
     ]
    }
   ],
   "source": [
    "# X is incilize with ineuron string\n",
    "x=\"ineron\"\n",
    "\n",
    "# def is a key word to defind a function, name of this functon is func()\n",
    "# this  fuction is use to print the string.\n",
    "def func():\n",
    "    print(x)\n",
    "\n",
    "# call the function by name,func is a name of this function.\n",
    "func()    \n"
   ]
  },
  {
   "cell_type": "code",
   "execution_count": null,
   "id": "3f481618",
   "metadata": {},
   "outputs": [],
   "source": [
    "What is the result of the code, and explain?\n",
    "\n",
    "x = iNeuron\n",
    "def func():\n",
    "X =NI!\n",
    "\n",
    "func()\n",
    "print(X)"
   ]
  },
  {
   "cell_type": "code",
   "execution_count": 16,
   "id": "978a00f7",
   "metadata": {},
   "outputs": [
    {
     "name": "stdout",
     "output_type": "stream",
     "text": [
      "ineuron\n"
     ]
    }
   ],
   "source": [
    "# this x variable is a global variable\n",
    "# variable that are create outside of a function  \n",
    "# global variable can be used nby everyone, both inside of functuin \n",
    "# and outside\n",
    "x = 'ineuron'\n",
    "\n",
    "# here is defind a function to print() of x values\n",
    "# this x value is local variable, local variable are those\n",
    "# which are intialize inside a function and belongs only to tha\n",
    "# particular function.\n",
    "def func():\n",
    "    x = 'NI'   # this variable is not defind what is parfoming by x variable\n",
    "    \n",
    "\n",
    "func()\n",
    "print(x)\n",
    "\n",
    "# this code print the ineuron, because 'ineuron' string variable is \n",
    "# global variable, this variavble is second option for the function\n",
    "\n",
    "\n"
   ]
  },
  {
   "cell_type": "code",
   "execution_count": null,
   "id": "24d2530d",
   "metadata": {},
   "outputs": [],
   "source": [
    "Q3. What does this code print, and why?\n",
    "x = 'ineuron'\n",
    "def func():\n",
    "    x = 'Ni'\n",
    "    print(x)\n",
    "    \n",
    "func()\n",
    "print(x)"
   ]
  },
  {
   "cell_type": "code",
   "execution_count": 18,
   "id": "3d4e977f",
   "metadata": {},
   "outputs": [
    {
     "name": "stdout",
     "output_type": "stream",
     "text": [
      "Ni\n",
      "ineuron\n"
     ]
    }
   ],
   "source": [
    "# this x variable is a global variable\n",
    "# variable that are create outside of a function  \n",
    "# global variable can be used nby everyone, both inside of functuin \n",
    "# and outside\n",
    "x = 'ineuron'\n",
    "\n",
    "# This function create  the x value to be printed\n",
    "\n",
    "def func():\n",
    "    x = 'Ni'   # x variable contains the string value\n",
    "    print(x) \n",
    "\n",
    "# when i call this function with print x variable,\n",
    "#this functiuon will be  print  'NI' \n",
    "# and print is ineuron string \n",
    "# \"NI\" string is local string variable, and ineuron is global\n",
    "# variable, this take first vatiable is local variable, \n",
    "# and global variable is second option \n",
    "func()\n",
    "print(x)"
   ]
  },
  {
   "cell_type": "code",
   "execution_count": 19,
   "id": "3aa95c82",
   "metadata": {},
   "outputs": [
    {
     "name": "stdout",
     "output_type": "stream",
     "text": [
      "Object `Why` not found.\n",
      "Ni\n"
     ]
    }
   ],
   "source": [
    "Q4. What output does this code produce? Why?\n",
    "\n",
    "x = 'ineuron'\n",
    "def func():\n",
    "    global x\n",
    "    x = 'Ni'\n",
    "    \n",
    "func()\n",
    "print(x)"
   ]
  },
  {
   "cell_type": "code",
   "execution_count": 20,
   "id": "d5b76e5a",
   "metadata": {},
   "outputs": [
    {
     "name": "stdout",
     "output_type": "stream",
     "text": [
      "Ni\n"
     ]
    }
   ],
   "source": [
    "x = 'ineuron'  #This variable is also a global variable.\n",
    "def func():\n",
    "    global x   # global here is a key word for globalize the x variable\n",
    "    x = 'Ni'   # so This function will first assume this x values\n",
    "                # and second is 'ineuron'\n",
    "        \n",
    "func()\n",
    "print(x)"
   ]
  },
  {
   "cell_type": "code",
   "execution_count": 22,
   "id": "20ce4133",
   "metadata": {},
   "outputs": [
    {
     "name": "stdout",
     "output_type": "stream",
     "text": [
      "Object `why` not found.\n"
     ]
    },
    {
     "data": {
      "text/plain": [
       "'ineron'"
      ]
     },
     "execution_count": 22,
     "metadata": {},
     "output_type": "execute_result"
    }
   ],
   "source": [
    "Q5. What about this code—what’s the output, and why?\n",
    "\n",
    "x = 'ineron'\n",
    "def func():  # first function run inside code, inside code is \n",
    "    x = 'Ni'\n",
    "    def nested():  # is second function and this functio is print\n",
    "        print(x)   # the x values. \n",
    "        nested()\n",
    "    \n",
    "func()\n",
    "x"
   ]
  },
  {
   "cell_type": "code",
   "execution_count": 25,
   "id": "0f3dd562",
   "metadata": {},
   "outputs": [
    {
     "name": "stdout",
     "output_type": "stream",
     "text": [
      "Object `explain` not found.\n"
     ]
    }
   ],
   "source": [
    "Q6. How about this code: what is its output in Python 3, and explain?\n",
    "\n",
    "def func(): \n",
    "    X = 'NI'\n",
    "    def nested():\n",
    "        nonlocal X\n",
    "        X = 'Spam'\n",
    "        nested()\n",
    "        print(X)\n",
    "        \n",
    "func()"
   ]
  },
  {
   "cell_type": "code",
   "execution_count": 26,
   "id": "c1ee40f0",
   "metadata": {},
   "outputs": [],
   "source": [
    "def func(): \n",
    "    X = 'NI'\n",
    "    def nested():\n",
    "        nonlocal X\n",
    "        X = 'Spam'\n",
    "        nested()\n",
    "        print(X)\n",
    "        \n",
    "func()\n",
    "# This function will not printing any statement, because \n",
    "# here is not dicleare the x variable\n"
   ]
  }
 ],
 "metadata": {
  "kernelspec": {
   "display_name": "Python 3",
   "language": "python",
   "name": "python3"
  },
  "language_info": {
   "codemirror_mode": {
    "name": "ipython",
    "version": 3
   },
   "file_extension": ".py",
   "mimetype": "text/x-python",
   "name": "python",
   "nbconvert_exporter": "python",
   "pygments_lexer": "ipython3",
   "version": "3.8.8"
  }
 },
 "nbformat": 4,
 "nbformat_minor": 5
}
