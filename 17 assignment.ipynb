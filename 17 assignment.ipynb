{
 "cells": [
  {
   "cell_type": "code",
   "execution_count": null,
   "id": "27ce66c6",
   "metadata": {},
   "outputs": [],
   "source": [
    "Q1. Assign the value 7 to the variable guess_me. Then, write the conditional tests (if, else, and elif) to\n",
    "print the string \"too low\" if guess_me is less than 7, \"too high\" if greater than 7, and \"just right\" if equal\n",
    "to 7.\n",
    "\n",
    "Answer.\n",
    "\n"
   ]
  },
  {
   "cell_type": "code",
   "execution_count": 16,
   "id": "0dc28fc5",
   "metadata": {},
   "outputs": [
    {
     "name": "stdout",
     "output_type": "stream",
     "text": [
      "enter the number:7\n",
      "just righ\n"
     ]
    }
   ],
   "source": [
    "guess_me = 7\n",
    "num = int(input(\"enter the number:\"))\n",
    "if num < 7:\n",
    "    print(\"too low\")\n",
    "elif num > 7:\n",
    "    print(\"too high\")\n",
    "elif num==7:\n",
    "    print(\"just righ\")\n"
   ]
  },
  {
   "cell_type": "code",
   "execution_count": null,
   "id": "bd89183f",
   "metadata": {},
   "outputs": [],
   "source": [
    "Q2. Assign the value 7 to the variable guess_me and the value 1 to the variable start. Write a while\n",
    "loop that compares start with guess_me. Print too low if start its less than guess me. If start equals\n",
    "guess_me, print \"found it!\" and exit the loop. If start is greater than guess_me, print \"oops\" and exit\n",
    "the loop. Increment start at the end of the loop.\n",
    "\n",
    "Answer\n"
   ]
  },
  {
   "cell_type": "code",
   "execution_count": null,
   "id": "f1a0f4f7",
   "metadata": {},
   "outputs": [],
   "source": [
    "Q3. Print the following values of the list [3, 2, 1, 0] using a for loop.\n"
   ]
  },
  {
   "cell_type": "code",
   "execution_count": 2,
   "id": "70456515",
   "metadata": {},
   "outputs": [
    {
     "name": "stdout",
     "output_type": "stream",
     "text": [
      "1,2,3,4,3,2,5,6,7,8,5,0,7,"
     ]
    }
   ],
   "source": [
    "list = [1,2,3,4,3,2,5,6,7,8,5,0,7]\n",
    "for i in list:\n",
    "    print(i,end=\",\")\n"
   ]
  },
  {
   "cell_type": "code",
   "execution_count": null,
   "id": "6e5c7b01",
   "metadata": {},
   "outputs": [],
   "source": [
    "Q4. Use a list comprehension to make a list of the even numbers in range(10)\n"
   ]
  },
  {
   "cell_type": "code",
   "execution_count": 8,
   "id": "adce07b5",
   "metadata": {},
   "outputs": [
    {
     "name": "stdout",
     "output_type": "stream",
     "text": [
      "[2, 4, 6, 8, 10]\n",
      "even number in the list: [10, 54, 34, 76, 88, 96]\n"
     ]
    }
   ],
   "source": [
    "num = 10\n",
    "result = []\n",
    "for i in range(1,num+1):\n",
    "    if (i%2)==0:\n",
    "        result.append(i)\n",
    "print(result)\n",
    "\n",
    "\n",
    "\n",
    "# second method for get the same output:\n",
    "\n",
    "list1=[10,21,54,34,76,88,96,45,67]\n",
    "even_num = [num for num in list1 if num % 2==0]\n",
    "\n",
    "print(\"even number in the list:\",even_num)"
   ]
  },
  {
   "cell_type": "code",
   "execution_count": null,
   "id": "2a938bf0",
   "metadata": {},
   "outputs": [],
   "source": [
    "Q5. Use a dictionary comprehension to create the dictionary squares. Use range(10) to return the\n",
    "keys, and use the square of each key as its value.\n",
    "\n"
   ]
  },
  {
   "cell_type": "code",
   "execution_count": null,
   "id": "835efafd",
   "metadata": {},
   "outputs": [],
   "source": [
    "n = 10\n",
    "num={}\n",
    "for i in range(1,n+1):\n",
    "    num[i]=i*i\n",
    "print(num)\n",
    "    "
   ]
  },
  {
   "cell_type": "code",
   "execution_count": null,
   "id": "fe6b6808",
   "metadata": {},
   "outputs": [],
   "source": [
    "Q6. Construct the set odd from the odd numbers in the range using a set comprehension (10).\n",
    "\n"
   ]
  },
  {
   "cell_type": "code",
   "execution_count": 4,
   "id": "4e830b48",
   "metadata": {},
   "outputs": [
    {
     "name": "stdout",
     "output_type": "stream",
     "text": [
      "odd number list =  [1, 3, 3, 9, 5, 1, 5]\n",
      "odd number set =  {1, 3, 5, 9}\n"
     ]
    }
   ],
   "source": [
    "list1 = [1,2,3,4,3,9,6,4,5,1,6,5,8,0,4]\n",
    "list2=[]\n",
    "for i in list1:\n",
    "    if (i%2)!=0:\n",
    "        list2.append(i)\n",
    "print(\"odd number list = \",list2)\n",
    "print(\"odd number set = \",set(list2))"
   ]
  },
  {
   "cell_type": "code",
   "execution_count": null,
   "id": "06495eb1",
   "metadata": {},
   "outputs": [],
   "source": [
    "Q7. Use a generator comprehension to return the string \"Got\" and a number for the numbers in\n",
    "range(10). Iterate through this by using a for loop.\n",
    "\n"
   ]
  },
  {
   "cell_type": "code",
   "execution_count": 5,
   "id": "89ef41e1",
   "metadata": {},
   "outputs": [
    {
     "name": "stdout",
     "output_type": "stream",
     "text": [
      "[0, 'this is text', ['element', 'another element'], (1, 2, 3), 12]\n"
     ]
    },
    {
     "data": {
      "text/plain": [
       "[0, 'this is text', ['element', 'another element'], (1, 2, 3), 12]"
      ]
     },
     "execution_count": 5,
     "metadata": {},
     "output_type": "execute_result"
    }
   ],
   "source": [
    "a = 12\n",
    "b = \"this is text\"\n",
    "my_list = [0, b, ['element', 'another element'], (1, 2, 3), a]\n",
    "print(my_list)\n",
    "[0, 'this is text', ['element', 'another element'], (1, 2, 3), 12]"
   ]
  },
  {
   "cell_type": "code",
   "execution_count": null,
   "id": "ef308a0a",
   "metadata": {},
   "outputs": [],
   "source": [
    "Q8. Define a function called good that returns the list [\"Harry\", \"Ron\", \"Hermione\"].\n",
    "\n"
   ]
  },
  {
   "cell_type": "code",
   "execution_count": 12,
   "id": "78d56462",
   "metadata": {},
   "outputs": [
    {
     "data": {
      "text/plain": [
       "['harry', 'ron', 'hermione']"
      ]
     },
     "execution_count": 12,
     "metadata": {},
     "output_type": "execute_result"
    }
   ],
   "source": [
    "def good():\n",
    "    good = [\"harry\",\"ron\",\"hermione\"]\n",
    "    return good\n",
    "good()\n"
   ]
  },
  {
   "cell_type": "code",
   "execution_count": null,
   "id": "1f0d0173",
   "metadata": {},
   "outputs": [],
   "source": [
    "Q9. Define a generator function called get_odds that returns the odd numbers from range(10). Use a\n",
    "for loop to find and print the third value returned.\n",
    "\n",
    "\n"
   ]
  },
  {
   "cell_type": "code",
   "execution_count": 15,
   "id": "4eb53010",
   "metadata": {},
   "outputs": [
    {
     "data": {
      "text/plain": [
       "1"
      ]
     },
     "execution_count": 15,
     "metadata": {},
     "output_type": "execute_result"
    }
   ],
   "source": [
    "def get_odds(list):\n",
    "    for i in list:\n",
    "        if (i%2)!=0:\n",
    "            return i\n",
    "get_odds([1,2,3,4,5,6,7,8,9])\n",
    "    "
   ]
  },
  {
   "cell_type": "code",
   "execution_count": 30,
   "id": "4d551291",
   "metadata": {},
   "outputs": [
    {
     "data": {
      "text/plain": [
       "[1, 3, 5, 7, 9, 11, 13, 15, 17, 19]"
      ]
     },
     "execution_count": 30,
     "metadata": {},
     "output_type": "execute_result"
    }
   ],
   "source": [
    "\n",
    "def get_odd(num):\n",
    "    odd_list = []\n",
    "    for i in range(1,num+1):\n",
    "        if (i%2)!=0:\n",
    "            odd_list.append(i)\n",
    "    return odd_list\n",
    "\n",
    "get_odd(20)\n",
    "        \n",
    "        "
   ]
  },
  {
   "cell_type": "code",
   "execution_count": null,
   "id": "becc194a",
   "metadata": {},
   "outputs": [],
   "source": [
    "Q10. Define an exception called OopsException. Raise this exception to see what happens. Then write\n",
    "the code to catch this exception and print \"Caught an oops\"."
   ]
  },
  {
   "cell_type": "code",
   "execution_count": null,
   "id": "3ec8ebc2",
   "metadata": {},
   "outputs": [],
   "source": [
    "class OopsException(Exception):\n",
    "    pass\n",
    "\n",
    "\n",
    "def with_exception(a):\n",
    "    if a < 0:\n",
    "        raise OopsException(a)\n",
    "\n",
    "\n",
    "try:\n",
    "    with_exception(-1)\n",
    "except OopsException as err:\n",
    "    print('Caught an oops')\n",
    "\n",
    "print_footer(section)\n",
    "\n",
    "with_exception()"
   ]
  },
  {
   "cell_type": "code",
   "execution_count": null,
   "id": "d8baf5b8",
   "metadata": {},
   "outputs": [],
   "source": [
    "Use zip() to make a dictionary called movies that pairs these lists: titles = [\"Creature of Habit\",\n",
    "\"Crewel Fate\"] and plots = [\"A nun turns into a monster\", \"A haunted yarn shop\"]."
   ]
  },
  {
   "cell_type": "code",
   "execution_count": 40,
   "id": "0b2565ea",
   "metadata": {},
   "outputs": [
    {
     "name": "stdout",
     "output_type": "stream",
     "text": [
      "{'Creature of Habit': 'A nun turns into a monster', 'Crewel Fate': 'A haunted yarn shop'}\n"
     ]
    }
   ],
   "source": [
    "titles = [\"Creature of Habit\",\"Crewel Fate\"]\n",
    "plots = [\"A nun turns into a monster\", \"A haunted yarn shop\"]\n",
    "dictionary = dict(zip(titles,plots))\n",
    "print(dictionary)\n"
   ]
  },
  {
   "cell_type": "code",
   "execution_count": 43,
   "id": "00289540",
   "metadata": {},
   "outputs": [
    {
     "ename": "SyntaxError",
     "evalue": "invalid syntax (<ipython-input-43-a1d62a6d37d7>, line 2)",
     "output_type": "error",
     "traceback": [
      "\u001b[1;36m  File \u001b[1;32m\"<ipython-input-43-a1d62a6d37d7>\"\u001b[1;36m, line \u001b[1;32m2\u001b[0m\n\u001b[1;33m    b=[\"a\",\"b\",\"e\".\"j\",\"w\",\"k\",\"s\",\"q\"]\u001b[0m\n\u001b[1;37m                   ^\u001b[0m\n\u001b[1;31mSyntaxError\u001b[0m\u001b[1;31m:\u001b[0m invalid syntax\n"
     ]
    }
   ],
   "source": [
    "a=[1,2,3,4,5,6,7,8]\n",
    "b=[\"a\",\"b\",\"e\".\"j\",\"w\",\"k\",\"s\",\"q\"]\n",
    "c = {}\n",
    "for i in range(len(a)):\n",
    "    c[b[i]] = a[i]\n",
    "print(c)"
   ]
  }
 ],
 "metadata": {
  "kernelspec": {
   "display_name": "Python 3",
   "language": "python",
   "name": "python3"
  },
  "language_info": {
   "codemirror_mode": {
    "name": "ipython",
    "version": 3
   },
   "file_extension": ".py",
   "mimetype": "text/x-python",
   "name": "python",
   "nbconvert_exporter": "python",
   "pygments_lexer": "ipython3",
   "version": "3.8.8"
  }
 },
 "nbformat": 4,
 "nbformat_minor": 5
}
