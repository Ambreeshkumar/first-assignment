{
 "cells": [
  {
   "cell_type": "markdown",
   "id": "35b36f23",
   "metadata": {},
   "source": [
    "Q1. 1.What are the two values of the Boolean data type? How do you \n",
    "write them?\n",
    "\n",
    "answer.\n",
    "\n",
    "A variable of the primitive data type boolean can have two values: \n",
    "true and false (Boolean literals). or off. Boolean expressions use \n",
    "relational and logical operators. The result of a Boolean expression\n",
    "is either\n",
    "true or false.\n",
    "    \n"
   ]
  },
  {
   "cell_type": "code",
   "execution_count": 2,
   "id": "dc262516",
   "metadata": {},
   "outputs": [
    {
     "name": "stdout",
     "output_type": "stream",
     "text": [
      "False\n",
      "False\n",
      "False\n",
      "False\n",
      "False\n",
      "True\n"
     ]
    }
   ],
   "source": [
    "# how do you write them?\n",
    "#code:\n",
    "\n",
    "# Python program to illustrate\n",
    "# built-in method bool()\n",
    " \n",
    "# Returns False as x is not equal to y\n",
    "x = 5\n",
    "y = 10\n",
    "print(bool(x==y))\n",
    " \n",
    "# Returns False as x is None\n",
    "x = None\n",
    "print(bool(x))\n",
    " \n",
    "# Returns False as x is an empty sequence\n",
    "x = ()\n",
    "print(bool(x))\n",
    " \n",
    "# Returns False as x is an empty mapping\n",
    "x = {}\n",
    "print(bool(x))\n",
    " \n",
    "# Returns False as x is 0\n",
    "x = 0.0\n",
    "print(bool(x))\n",
    " \n",
    "# Returns True as x is a non empty string\n",
    "x = 'ambreesh'\n",
    "print(bool(x))"
   ]
  },
  {
   "cell_type": "markdown",
   "id": "f8dcfde8",
   "metadata": {},
   "source": [
    "Q2. What are the three different types of Boolean operators?\n",
    "\n",
    "Answer.\n",
    "        there are three basic boolean operators are: AND,OR\n",
    "        and NOT"
   ]
  },
  {
   "cell_type": "code",
   "execution_count": 13,
   "id": "fd78eee5",
   "metadata": {},
   "outputs": [
    {
     "name": "stdout",
     "output_type": "stream",
     "text": [
      "True\n",
      "Atleast one number has boolean value as True\n",
      "False\n",
      "True\n"
     ]
    }
   ],
   "source": [
    "#example:\n",
    "\n",
    "\n",
    "# Python program to demonstrate\n",
    "# or operator\n",
    "#this code for OR operetor \n",
    " \n",
    "a = 1\n",
    "b = 2\n",
    "c = 4\n",
    " \n",
    "if a > b or b < c:\n",
    "    print(True)\n",
    "else:\n",
    "    print(False)\n",
    " \n",
    "if a or b or c:\n",
    "    print(\"Atleast one number has boolean value as True\")\n",
    "   \n",
    "    \n",
    "# AND OPERATOR:\n",
    "a=3\n",
    "b=6\n",
    "c=1\n",
    "if a<c and b>a:\n",
    "    print(True)\n",
    "else:\n",
    "    print(False)\n",
    "if a>c and b>a:\n",
    "    print(True)\n",
    "else:\n",
    "    print(False)\n",
    "    "
   ]
  },
  {
   "cell_type": "markdown",
   "id": "aa5e8b59",
   "metadata": {},
   "source": [
    "Q3. Make a list of each Boolean operator truth tables\n",
    "(i.e. every possible combination of Boolean\n",
    "values for the operator and what it evaluate\n",
    " \n",
    "Answer.\n",
    "       Truth tables show the result of combining any two expression \n",
    "boolean expressions using the AND operator and the OR operator \n",
    "(or the NOT operator).\n",
    "\n",
    " \n",
    " condition.1   condition.2   NOR(~X)   XAND(X&&Y)   X OR Y(X||Y)  \n",
    "    false        false         true       false        false\n",
    "    false        true          true       false        true\n",
    "    true         false         false      false        true\n",
    "    true         true          false       true        true\n",
    " \n",
    " "
   ]
  },
  {
   "cell_type": "markdown",
   "id": "7673eadc",
   "metadata": {},
   "source": [
    "Q4. what are the value of the following expression?\n",
    "\n",
    "Answer.\n",
    "(a). (5>4) and (3==5)\n",
    "(b). NOT(5>4)\n",
    "(c). NOT((5>4)or(3==5))\n",
    "(d). (true and true) and (true==false)\n",
    "(e). (not false) or (not true)\n"
   ]
  },
  {
   "cell_type": "code",
   "execution_count": 20,
   "id": "13ab9155",
   "metadata": {},
   "outputs": [
    {
     "name": "stdout",
     "output_type": "stream",
     "text": [
      "False\n",
      "False\n",
      "False\n",
      "False\n",
      "True\n"
     ]
    }
   ],
   "source": [
    "# code:\n",
    "\n",
    "a=(5>4) and (3==5)\n",
    "print(a)\n",
    "\n",
    "b=not(5>4)\n",
    "print(b)\n",
    "\n",
    "c=not((5>4) or (3==5))\n",
    "print(c)\n",
    "\n",
    "d=(True and True) and (True==False)\n",
    "print(d)\n",
    "\n",
    "e=(not False) or (not True)\n",
    "print(e)\n",
    "\n"
   ]
  },
  {
   "cell_type": "raw",
   "id": "1ca2716c",
   "metadata": {},
   "source": [
    "Q5. What are the six comparison operators?\n",
    "\n",
    "Answer.\n",
    "       There are six main comparison operators: equal\n",
    "to, not equal to, greater than, greater than or equal \n",
    "to, less than, and less than or equal to. Different \n",
    "programming languages use different syntax to express \n",
    "these operators, but the meanings are the same.\n",
    "\n",
    "Comparison operators — operators that compare values\n",
    "and return true or false. The operators include:\n",
    ">, <, >=, <=, ===, and !==.\n",
    "Logical operators — operators that combine multiple boolean \n",
    "expressions or values and provide a single boolean output.\n",
    "The operators include: &&, ||, and !.\n",
    "\n",
    "\n"
   ]
  },
  {
   "cell_type": "raw",
   "id": "7bab9d60",
   "metadata": {},
   "source": [
    "Q6. How do you tell the difference between the equal to and \n",
    "assignment operators?Describe a\n",
    "condition and when you would use one.\n",
    "\n",
    "Answer.\n",
    "       if i use single \"equal to\"(=) operator so it's\n",
    "mean  assigning the velue. then if i use double \"equal to\" (=)\n",
    "operator so it's mean both are equal values.\n",
    "\n",
    "example:\n",
    "    \n",
    "    a=6 it is a assign the values.\n",
    "    \n",
    "    b==a it is a both are equal values.\n",
    "    "
   ]
  },
  {
   "cell_type": "raw",
   "id": "c318d63d",
   "metadata": {},
   "source": [
    "Q7. Identify the three blocks in this code:\n",
    "    \n",
    "Answer.\n",
    "\n",
    "Python programs get structured through indentation, i.e. \n",
    "code blocks are defined by their indentation. ...\n",
    "All statements with the same distance to the right belong\n",
    "to the same block of code, i.e. the statements within\n",
    "a block line up vertically. The block ends at a line less \n",
    "indented or the end of the file.\n",
    " \n",
    "first block in this code is = print(\"eggs\")\n",
    "second block in this code is = print(\"bacon\")\n",
    "throud blockin this code is = print(\"ham\"),print(\"spam\")\n",
    "                                and print(\"spam\")\n",
    "    \n"
   ]
  },
  {
   "cell_type": "raw",
   "id": "d622b7d5",
   "metadata": {},
   "source": [
    "Q8. Write code that prints Hello if 1 is stored in spam,\n",
    "prints Howdy if 2 is stored in spam, and prints\n",
    "Greetings! if anything else is stored in spam.\n",
    "\n",
    "Answer.\n"
   ]
  },
  {
   "cell_type": "code",
   "execution_count": 6,
   "id": "45e11946",
   "metadata": {},
   "outputs": [
    {
     "name": "stdout",
     "output_type": "stream",
     "text": [
      "hello\n",
      "enter the number4\n",
      "good morning\n"
     ]
    }
   ],
   "source": [
    "# codeing Q 8.\n",
    "\n",
    "\n",
    "print(\"hello  enter onlly 1 and 2 number\")\n",
    "a=int(input(\"enter the number\"))\n",
    "if a==1:\n",
    "    print(\"how are you\")\n",
    "else: \n",
    "    a==2\n",
    "    print(\"good morning\")\n",
    "\n",
    "    "
   ]
  },
  {
   "cell_type": "markdown",
   "id": "e780edd5",
   "metadata": {},
   "source": [
    "Q9. If your programme is stuck in an endless loop, what keys\n",
    "you’ll press?  \n",
    "\n",
    "Answer.\n",
    "       You can press Ctrl + C ."
   ]
  },
  {
   "cell_type": "code",
   "execution_count": null,
   "id": "48ee862d",
   "metadata": {},
   "outputs": [],
   "source": [
    "Q10. How can you tell the difference between break and continue?\n",
    "\n",
    "Answer.\n",
    "The Python break statement stops the loop in which the statement \n",
    "is placed. A Python continue statement skips a single \n",
    "iteration in a loop. Both break and continue statements can \n",
    "be used in a for or a while loop. ... The continue statement\n",
    "allows you to skip part of a loop when a condition is met.\n",
    "\n",
    "\n"
   ]
  },
  {
   "cell_type": "code",
   "execution_count": 8,
   "id": "83634555",
   "metadata": {},
   "outputs": [
    {
     "name": "stdout",
     "output_type": "stream",
     "text": [
      "a\n",
      "m\n",
      "b\n",
      "r\n",
      "e\n",
      "Out of for loop\n",
      "\n",
      "a\n",
      "m\n",
      "b\n",
      "r\n",
      "e\n",
      "Out of while loop\n"
     ]
    }
   ],
   "source": [
    "# Python program to \n",
    "# demonstrate break statement \n",
    "    \n",
    "s = 'ambreesh kumar'\n",
    "# Using for loop \n",
    "for letter in s: \n",
    "    \n",
    "    print(letter) \n",
    "    # break the loop as soon it sees 'e' \n",
    "    # or 's' \n",
    "    if letter == 'e' or letter == 's': \n",
    "        break\n",
    "    \n",
    "print(\"Out of for loop\") \n",
    "print() \n",
    "    \n",
    "i = 0\n",
    "\n",
    "# Using while loop \n",
    "while True: \n",
    "    print(s[i]) \n",
    "    \n",
    "    # break the loop as soon it sees 'e' \n",
    "    # or 's' \n",
    "    if s[i] == 'e' or s[i] == 's': \n",
    "        break\n",
    "    i += 1\n",
    "    \n",
    "print(\"Out of while loop\")"
   ]
  },
  {
   "cell_type": "code",
   "execution_count": 9,
   "id": "5c2938c8",
   "metadata": {},
   "outputs": [
    {
     "name": "stdout",
     "output_type": "stream",
     "text": [
      "1 2 3 4 5 7 8 9 10 "
     ]
    }
   ],
   "source": [
    "# Python program to \n",
    "# demonstrate continue \n",
    "# statement \n",
    "    \n",
    "# loop from 1 to 10 \n",
    "for i in range(1, 11): \n",
    "    \n",
    "    # If i is equals to 6,   \n",
    "    # continue to next iteration   \n",
    "    # without printing  \n",
    "    if i == 6: \n",
    "        continue\n",
    "    else: \n",
    "        # otherwise print the value \n",
    "        # of i \n",
    "        print(i, end = \" \")"
   ]
  },
  {
   "cell_type": "code",
   "execution_count": null,
   "id": "71b7b676",
   "metadata": {},
   "outputs": [],
   "source": [
    "Q11. In a for loop, what is the difference between \n",
    "range(10), range(0, 10), and range(0, 10, 1)?\n",
    "\n",
    "Answer.\n",
    "what is a range? range is just increament of number in sequence.\n",
    "if i give(0 to 10) range. so program print the number like\n",
    " that (1,2,3,4,5.........10).\n",
    "    \n",
    "\n"
   ]
  },
  {
   "cell_type": "code",
   "execution_count": 16,
   "id": "d239563d",
   "metadata": {},
   "outputs": [
    {
     "name": "stdout",
     "output_type": "stream",
     "text": [
      "0 1 2 3 4 5 6 7 8 9 "
     ]
    }
   ],
   "source": [
    "# if i write like this statment range(10):\n",
    "# so output will be came.\n",
    "\n",
    "for i in range(10):   # this condition is initialize with zero\n",
    "    print(i,end=\" \")"
   ]
  },
  {
   "cell_type": "code",
   "execution_count": 18,
   "id": "c4d012dc",
   "metadata": {},
   "outputs": [
    {
     "name": "stdout",
     "output_type": "stream",
     "text": [
      "0 1 2 3 4 5 6 7 8 9 "
     ]
    }
   ],
   "source": [
    "for i in range(0,10):  # this condition is initialize with zero\n",
    "    print(i,end=\" \")"
   ]
  },
  {
   "cell_type": "code",
   "execution_count": 17,
   "id": "5fb2b2b0",
   "metadata": {},
   "outputs": [
    {
     "name": "stdout",
     "output_type": "stream",
     "text": [
      "1 2 3 4 5 6 7 8 9 "
     ]
    }
   ],
   "source": [
    "# this condition is initialize with one\n",
    "\n",
    "for i in range(1,10):\n",
    "    print(i,end=\" \")"
   ]
  },
  {
   "cell_type": "code",
   "execution_count": null,
   "id": "598619c3",
   "metadata": {},
   "outputs": [],
   "source": [
    "Q12. Write a short program that prints the numbers 1 to 10 \n",
    "using a for loop. Then write an equivalentprogram that prints \n",
    "the numbers 1 to 10 using a while loop.\n",
    "\n",
    "Answer.\n",
    "\n"
   ]
  },
  {
   "cell_type": "code",
   "execution_count": 4,
   "id": "b771707e",
   "metadata": {},
   "outputs": [
    {
     "name": "stdout",
     "output_type": "stream",
     "text": [
      "0 1 2 3 4 5 6 7 8 9 "
     ]
    }
   ],
   "source": [
    "#program for print number 1 to 10 using a for loop:\n",
    "\n",
    "for i in range(0,10):  \n",
    "    # zero is initialize value and 10 is finnal value,\n",
    "    print(i,end=\" \")\n",
    "    \n",
    "    \n",
    "# program for print 1 to 10, using while lo\n",
    "    "
   ]
  },
  {
   "cell_type": "code",
   "execution_count": 5,
   "id": "dd858034",
   "metadata": {},
   "outputs": [
    {
     "name": "stdout",
     "output_type": "stream",
     "text": [
      "0\n",
      "1\n",
      "2\n",
      "3\n",
      "4\n",
      "5\n",
      "6\n",
      "7\n",
      "8\n",
      "9\n",
      "10\n"
     ]
    }
   ],
   "source": [
    "# program for print number 1 to 10 using a for while loop:\n",
    "i=0\n",
    "while i<=10:\n",
    "    print(i)\n",
    "    i+=1"
   ]
  },
  {
   "cell_type": "code",
   "execution_count": null,
   "id": "c5c25201",
   "metadata": {},
   "outputs": [],
   "source": [
    "Q13. If you had a function named bacon() inside a module \n",
    "named spam, how would you call it after\n",
    "importing spam?\n",
    "\n",
    "Answer.\n",
    "if i have function named cacon() in a module, module name is spam\n",
    "so i can called  is fuction spam.bacon(). spam here is modole and \n",
    "bacon() here is a fuction of spam modole."
   ]
  }
 ],
 "metadata": {
  "kernelspec": {
   "display_name": "Python 3",
   "language": "python",
   "name": "python3"
  },
  "language_info": {
   "codemirror_mode": {
    "name": "ipython",
    "version": 3
   },
   "file_extension": ".py",
   "mimetype": "text/x-python",
   "name": "python",
   "nbconvert_exporter": "python",
   "pygments_lexer": "ipython3",
   "version": "3.8.8"
  }
 },
 "nbformat": 4,
 "nbformat_minor": 5
}
