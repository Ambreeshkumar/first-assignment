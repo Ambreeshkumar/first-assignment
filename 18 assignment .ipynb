{
 "cells": [
  {
   "cell_type": "code",
   "execution_count": null,
   "id": "19239fed",
   "metadata": {},
   "outputs": [],
   "source": [
    "Q1. Create a zoo.py file first. Define the hours() function, which prints the string \"Open 9-5 daily\".\n",
    "Then, use the interactive interpreter to import the zoo module and call its hours() function.\n"
   ]
  },
  {
   "cell_type": "code",
   "execution_count": 7,
   "id": "92a7aa36",
   "metadata": {},
   "outputs": [
    {
     "name": "stdout",
     "output_type": "stream",
     "text": [
      "jhdjh\n"
     ]
    }
   ],
   "source": [
    "# import the module:\n",
    "import zoo\n",
    "\n",
    "# hours()is function is call from zoo module:\n",
    "zoo.hours(\"jhdjh\")\n"
   ]
  },
  {
   "cell_type": "code",
   "execution_count": null,
   "id": "b9fd0d4c",
   "metadata": {},
   "outputs": [],
   "source": [
    "Q2. In the interactive interpreter, import the zoo module as menagerie and call its hours() function.\n",
    "\n"
   ]
  },
  {
   "cell_type": "code",
   "execution_count": 10,
   "id": "efbba4f2",
   "metadata": {},
   "outputs": [
    {
     "name": "stdout",
     "output_type": "stream",
     "text": [
      "mskd\n"
     ]
    }
   ],
   "source": [
    "# import the module as a menegerie:\n",
    "import zoo as menagerie\n",
    "\n",
    "# call hours() function from zoo as a menegerei:\n",
    "menagerie.hours(\"mskd\")"
   ]
  },
  {
   "cell_type": "code",
   "execution_count": null,
   "id": "f9cffb45",
   "metadata": {},
   "outputs": [],
   "source": [
    "Q3. Using the interpreter, explicitly import and call the hours() function from zoo.\n"
   ]
  },
  {
   "cell_type": "code",
   "execution_count": 12,
   "id": "ee5720a6",
   "metadata": {},
   "outputs": [
    {
     "name": "stdout",
     "output_type": "stream",
     "text": [
      "call function\n"
     ]
    }
   ],
   "source": [
    "import zoo\n",
    "zoo.hours(\"call function\")\n",
    "    "
   ]
  },
  {
   "cell_type": "code",
   "execution_count": 18,
   "id": "3ed9f54d",
   "metadata": {},
   "outputs": [
    {
     "name": "stdout",
     "output_type": "stream",
     "text": [
      "import hours as info\n"
     ]
    }
   ],
   "source": [
    "from zoo import hours as info\n",
    "info(\"import hours as info\")"
   ]
  },
  {
   "cell_type": "code",
   "execution_count": null,
   "id": "eceafded",
   "metadata": {},
   "outputs": [],
   "source": [
    "Q5. Create a plain dictionary with the key-value pairs \"a\":1,\"b\":2,and\"c\":3, and print it out."
   ]
  },
  {
   "cell_type": "code",
   "execution_count": 19,
   "id": "dcf655d5",
   "metadata": {},
   "outputs": [
    {
     "data": {
      "text/plain": [
       "{'a': 1, 'b': 2, 'c': 3}"
      ]
     },
     "execution_count": 19,
     "metadata": {},
     "output_type": "execute_result"
    }
   ],
   "source": [
    "plain = {\"a\":1,\"b\":2,\"c\":3}\n",
    "plain"
   ]
  },
  {
   "cell_type": "code",
   "execution_count": null,
   "id": "1bd8a26f",
   "metadata": {},
   "outputs": [],
   "source": [
    "6. Make an OrderedDict called fancy from the same pairs listed in 5 and print it. Did it print in the\n",
    "same order as plain?\n",
    "\n"
   ]
  },
  {
   "cell_type": "code",
   "execution_count": 21,
   "id": "fd6de1f9",
   "metadata": {},
   "outputs": [
    {
     "data": {
      "text/plain": [
       "OrderedDict([('a', 1), ('b', 2), ('c', 3)])"
      ]
     },
     "execution_count": 21,
     "metadata": {},
     "output_type": "execute_result"
    }
   ],
   "source": [
    "from collections import OrderedDict\n",
    "fancy = OrderedDict([('a', 1), ('b', 2), ('c', 3)])\n",
    "fancy"
   ]
  },
  {
   "cell_type": "code",
   "execution_count": null,
   "id": "5d0293bb",
   "metadata": {},
   "outputs": [],
   "source": [
    "Q7. Make a default dictionary called dict_of_lists and pass it the argument list. Make the list\n",
    "dict_of_lists['a'] and append the value 'something for a' to it in one assignment. Print\n",
    "dict_of_lists['a'].\n",
    "\n"
   ]
  }
 ],
 "metadata": {
  "kernelspec": {
   "display_name": "Python 3",
   "language": "python",
   "name": "python3"
  },
  "language_info": {
   "codemirror_mode": {
    "name": "ipython",
    "version": 3
   },
   "file_extension": ".py",
   "mimetype": "text/x-python",
   "name": "python",
   "nbconvert_exporter": "python",
   "pygments_lexer": "ipython3",
   "version": "3.8.8"
  }
 },
 "nbformat": 4,
 "nbformat_minor": 5
}
