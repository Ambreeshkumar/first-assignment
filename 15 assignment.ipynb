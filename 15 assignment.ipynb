{
 "cells": [
  {
   "cell_type": "code",
   "execution_count": null,
   "id": "b4478e16",
   "metadata": {},
   "outputs": [],
   "source": [
    "Q1. How many seconds are in an hour? Use the interactive interpreter as a calculator and multiply the number of seconds in a minute (60) by the number of minutes in an hour (also 60). \n",
    "sol. 60\n",
    "\n",
    "Answer.\n"
   ]
  },
  {
   "cell_type": "code",
   "execution_count": 7,
   "id": "10bbb584",
   "metadata": {},
   "outputs": [
    {
     "name": "stdout",
     "output_type": "stream",
     "text": [
      "one hour is equile to 60 minute and 60 minute is equile to:  3600 seconds\n"
     ]
    }
   ],
   "source": [
    "# one hour is equil to 60 minute.\n",
    "# one minute is equile to 60 secands.\n",
    "\n",
    "h=1\n",
    "m=60\n",
    "s=60\n",
    "\n",
    "#60 minute is equil to 60*60\n",
    "sec=60*60\n",
    "print(\"one hour is equile to 60 minute and 60 minute is equile to: \",sec,\"seconds\")\n"
   ]
  },
  {
   "cell_type": "code",
   "execution_count": null,
   "id": "772bf6de",
   "metadata": {},
   "outputs": [],
   "source": [
    "Q2. Assign the result from the previous task (seconds in an hour) to a variable called\n",
    "seconds_per_hour.\n",
    "\n",
    "Answer.\n",
    "\n"
   ]
  },
  {
   "cell_type": "code",
   "execution_count": 8,
   "id": "8fab6933",
   "metadata": {},
   "outputs": [],
   "source": [
    "second_per_hour = 3600"
   ]
  },
  {
   "cell_type": "code",
   "execution_count": null,
   "id": "f93b18ef",
   "metadata": {},
   "outputs": [],
   "source": [
    "Q3. How many seconds do you think there are in a day? Make use of the variables seconds per hour\n",
    "and minutes per hour.\n",
    "\n",
    "Answer.\n"
   ]
  },
  {
   "cell_type": "code",
   "execution_count": 11,
   "id": "cfbec59a",
   "metadata": {},
   "outputs": [
    {
     "name": "stdout",
     "output_type": "stream",
     "text": [
      "minute in per_day  86400\n"
     ]
    }
   ],
   "source": [
    "# 1 hour is equile to 60 minute and 1 hour or 60 minute is equile to 3600\n",
    "day = 3600*24\n",
    "print(\"minute in per_day \", day)"
   ]
  },
  {
   "cell_type": "code",
   "execution_count": null,
   "id": "e01c17c5",
   "metadata": {},
   "outputs": [],
   "source": [
    "Q4. Calculate seconds per day again, but this time save the result in a variable called seconds_per_day\n",
    "\n",
    "Answer.\n"
   ]
  },
  {
   "cell_type": "code",
   "execution_count": 14,
   "id": "32bd8b77",
   "metadata": {},
   "outputs": [
    {
     "name": "stdout",
     "output_type": "stream",
     "text": [
      "86400\n"
     ]
    }
   ],
   "source": [
    "# create a variable par_day to the store minute in per_day;\n",
    "\n",
    "seconds_per_day = 86400\n",
    "print(seconds_per_day)"
   ]
  },
  {
   "cell_type": "code",
   "execution_count": null,
   "id": "2b1714dc",
   "metadata": {},
   "outputs": [],
   "source": [
    "Q5. Divide seconds_per_day by seconds_per_hour. Use floating-point (/) division.\n",
    "\n",
    "Answer.\n"
   ]
  },
  {
   "cell_type": "code",
   "execution_count": 18,
   "id": "69e0452c",
   "metadata": {},
   "outputs": [
    {
     "name": "stdout",
     "output_type": "stream",
     "text": [
      "24.0\n",
      "24.0\n"
     ]
    }
   ],
   "source": [
    "# divide the seconds per day by the seconds per hour\n",
    "div = seconds_per_day/second_per_hour\n",
    "print(div)\n",
    "\n",
    "div1 = 86400/3600\n",
    "print(div1)"
   ]
  },
  {
   "cell_type": "code",
   "execution_count": null,
   "id": "f187fbe5",
   "metadata": {},
   "outputs": [],
   "source": [
    "Q6. Divide seconds_per_day by seconds_per_hour, using integer (//) division. Did this number agree\n",
    "with the floating-point value from the previous question, aside from the final .0?\n",
    "\n",
    "Answer. \n"
   ]
  },
  {
   "cell_type": "code",
   "execution_count": 20,
   "id": "f23d626f",
   "metadata": {},
   "outputs": [
    {
     "name": "stdout",
     "output_type": "stream",
     "text": [
      "24\n",
      "24\n"
     ]
    }
   ],
   "source": [
    "div = seconds_per_day//second_per_hour\n",
    "print(div)\n",
    "\n",
    "div1 = 86400//3600\n",
    "print(div1)"
   ]
  },
  {
   "cell_type": "code",
   "execution_count": null,
   "id": "58e95b98",
   "metadata": {},
   "outputs": [],
   "source": [
    "Q7. Write a generator, genPrimes, that returns the sequence of prime numbers on successive calls to\n",
    "its next() method: 2, 3, 5, 7, 11, ...\n",
    "    "
   ]
  },
  {
   "cell_type": "code",
   "execution_count": 27,
   "id": "6fc1e769",
   "metadata": {},
   "outputs": [
    {
     "data": {
      "text/plain": [
       "<generator object genPrimes at 0x00000157D9218040>"
      ]
     },
     "execution_count": 27,
     "metadata": {},
     "output_type": "execute_result"
    }
   ],
   "source": [
    "None\n",
    "def genPrimes():\n",
    "    primes = [2]\n",
    "    yield primes[0]\n",
    "    guess = 3\n",
    "    while True:\n",
    "        if all(guess%x != 0 for x in primes):\n",
    "            primes.append(guess)        \n",
    "        if guess == primes[-1]:\n",
    "            yield primes[-1]\n",
    "        guess += 2\n",
    "genPrimes()"
   ]
  }
 ],
 "metadata": {
  "kernelspec": {
   "display_name": "Python 3",
   "language": "python",
   "name": "python3"
  },
  "language_info": {
   "codemirror_mode": {
    "name": "ipython",
    "version": 3
   },
   "file_extension": ".py",
   "mimetype": "text/x-python",
   "name": "python",
   "nbconvert_exporter": "python",
   "pygments_lexer": "ipython3",
   "version": "3.8.8"
  }
 },
 "nbformat": 4,
 "nbformat_minor": 5
}
