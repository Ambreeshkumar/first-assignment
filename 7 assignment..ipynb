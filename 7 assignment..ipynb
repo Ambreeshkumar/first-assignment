{
 "cells": [
  {
   "cell_type": "code",
   "execution_count": null,
   "id": "573f6daf",
   "metadata": {},
   "outputs": [],
   "source": [
    "Q1. What is the name of the feature responsible for generating Regex objects?\n",
    "\n",
    "Answer.\n",
    "What is the function that creates Regex objects? The re. compile() function returns Regex objects.\n",
    "\n",
    "A Regular Expressions (RegEx) is a special sequence of characters that uses a search pattern to find a string or set of strings. \n",
    "It can detect the presence or absence of a text by matching with a particular pattern, and also can split a pattern into one or more sub-patterns. \n",
    "Python provides a re module that supports the use of regex in Python. \n",
    "Its primary function is to offer a search, where it takes a regular expression and a string. \n",
    "Here, it either returns the first match or else none.\n",
    "\n",
    "\n",
    "MetaCharacters'\n",
    "\n",
    "To understand the RE analogy, MetaCharacters are useful, important, and will be used in functions of module re. Below is the list of metacharacters. \n",
    "\n",
    "\\ = Used to drop the special meaning of character following it\n",
    "[] = Represent a character class\n",
    "^ = Matches the beginning\n",
    "$ = Matches the end\n",
    ". = Matches any character except newline\n",
    "| = Means OR (Matches with any of the characters separated by it.\n",
    "? = Matches zero or one occurrence\n",
    "* = Any number of occurrences (including 0 occurrences)\n",
    "+ = One or more occurrences\n",
    "{} = Indicate the number of occurrences of a preceding regex to match.\n",
    "() = Enclose a group of Regex              \n",
    "              \n",
    "              \n",
    "              "
   ]
  },
  {
   "cell_type": "code",
   "execution_count": null,
   "id": "80598359",
   "metadata": {},
   "outputs": [],
   "source": []
  },
  {
   "cell_type": "code",
   "execution_count": 7,
   "id": "cf0dca21",
   "metadata": {},
   "outputs": [
    {
     "name": "stdout",
     "output_type": "stream",
     "text": [
      "Start Index: 33\n",
      "End Index: 35\n"
     ]
    }
   ],
   "source": [
    "import re\n",
    " \n",
    "s = 'Used to drop the special meaning of character following it'\n",
    " \n",
    "match = re.search(r'of',s)\n",
    " \n",
    "print('Start Index:', match.start())\n",
    "print('End Index:', match.end())"
   ]
  },
  {
   "cell_type": "code",
   "execution_count": 9,
   "id": "b762ca5c",
   "metadata": {},
   "outputs": [
    {
     "ename": "SyntaxError",
     "evalue": "EOL while scanning string literal (<ipython-input-9-04ddbe98b19e>, line 3)",
     "output_type": "error",
     "traceback": [
      "\u001b[1;36m  File \u001b[1;32m\"<ipython-input-9-04ddbe98b19e>\"\u001b[1;36m, line \u001b[1;32m3\u001b[0m\n\u001b[1;33m    s = 'Used to drop the special meaning of character following it''\u001b[0m\n\u001b[1;37m                                                                     ^\u001b[0m\n\u001b[1;31mSyntaxError\u001b[0m\u001b[1;31m:\u001b[0m EOL while scanning string literal\n"
     ]
    }
   ],
   "source": [
    "import re\n",
    " \n",
    "s = 'Used to drop the special meaning of character following it''\n",
    " \n",
    "# without using \\\n",
    "match = re.search(r'the', s)\n",
    "print(match)\n",
    "                   \n",
    "# using \\\n",
    "match = re.search(r'\\.', s)\n",
    "print(match)"
   ]
  },
  {
   "cell_type": "code",
   "execution_count": 35,
   "id": "b5b9eed5",
   "metadata": {},
   "outputs": [
    {
     "name": "stdout",
     "output_type": "stream",
     "text": [
      "<re.Match object; span=(0, 1), match='a'>\n",
      "<re.Match object; span=(8, 9), match='.'>\n"
     ]
    }
   ],
   "source": [
    "import re\n",
    " \n",
    "s = 'ambreesh.kumar'\n",
    " \n",
    "# without using \\\n",
    "match = re.search(r'.', s)\n",
    "print(match)\n",
    "                   \n",
    "# using \\\n",
    "match = re.search(r'\\.', s)\n",
    "print(match)"
   ]
  },
  {
   "cell_type": "code",
   "execution_count": 13,
   "id": "33bae48e",
   "metadata": {},
   "outputs": [
    {
     "name": "stdout",
     "output_type": "stream",
     "text": [
      "<re.Match object; span=(21, 28), match='analogy'>\n"
     ]
    }
   ],
   "source": [
    "str=(\"To understand the RE analogy, MetaCharacters are useful, important, and will be used in functions of module re. Below is the list of metacharacters.\")\n",
    "patt=re.compile(r'analogy')\n",
    "\n",
    "matches=patt.finditer(str)\n",
    "for match in matches:\n",
    "    print(match)\n",
    "    "
   ]
  },
  {
   "cell_type": "code",
   "execution_count": 20,
   "id": "0743eb75",
   "metadata": {},
   "outputs": [
    {
     "name": "stdout",
     "output_type": "stream",
     "text": [
      "<re.Match object; span=(0, 2), match='To'>\n",
      "\n",
      "\n",
      "<re.Match object; span=(3, 5), match='un'>\n",
      "<re.Match object; span=(49, 50), match='u'>\n",
      "<re.Match object; span=(53, 54), match='u'>\n",
      "<re.Match object; span=(80, 81), match='u'>\n",
      "<re.Match object; span=(89, 91), match='un'>\n",
      "<re.Match object; span=(104, 105), match='u'>\n",
      "\n",
      "\n",
      "<re.Match object; span=(3, 5), match='un'>\n",
      "<re.Match object; span=(89, 91), match='un'>\n"
     ]
    }
   ],
   "source": [
    "str=(\"To understand the RE analogy, MetaCharacters are useful, important, and will be used in functions of module re. Below is the list of metacharacters.\")\n",
    "patt=re.compile(r'^To')\n",
    "\n",
    "matches=patt.finditer(str)\n",
    "for match in matches:\n",
    "    print(match)\n",
    "print(\"\\n\")\n",
    "    \n",
    "    \n",
    "str=(\"To understand the RE analogy, MetaCharacters are useful, important, and will be used in functions of module re. Below is the list of metacharacters.\")\n",
    "patt=re.compile(r'un*')\n",
    "\n",
    "matches=patt.finditer(str)\n",
    "for match in matches:\n",
    "    print(match)\n",
    "print(\"\\n\")\n",
    "\n",
    "\n",
    "str=(\"To understand the RE analogy, MetaCharacters are useful, important, and will be used in functions of module re. Below is the list of metacharacters.\")\n",
    "patt=re.compile(r'un+')\n",
    "\n",
    "matches=patt.finditer(str)\n",
    "for match in matches:\n",
    "    print(match)\n",
    "    \n",
    "    \n",
    "    "
   ]
  },
  {
   "cell_type": "markdown",
   "id": "507875a9",
   "metadata": {},
   "source": [
    "# Q2. Why do raw strings often appear in Regex objects?\n",
    "\n",
    "Answer.\n",
    "Why are raw strings often used when creating Regex objects? Raw strings are used so that backslashes do not have to be escaped. ... The search() method \n",
    "returns Match objects.\n"
   ]
  },
  {
   "cell_type": "code",
   "execution_count": 24,
   "id": "95a9ca7b",
   "metadata": {},
   "outputs": [
    {
     "name": "stdout",
     "output_type": "stream",
     "text": [
      "\n",
      "\n",
      "\\n\n"
     ]
    }
   ],
   "source": [
    "# print the \\n use by r. because r use for escaped the escape charactes\n",
    "\n",
    "# if i print the \\n. this code is not work\n",
    "print(\"\\n\")\n",
    "\n",
    "# If write the code like this then yes the code is working and is print the string to a new line.\n",
    "print(r\"\\n\")\n"
   ]
  },
  {
   "cell_type": "code",
   "execution_count": null,
   "id": "7697a651",
   "metadata": {},
   "outputs": [],
   "source": [
    "Q3. What is the return value of the search() method?\n",
    "\n",
    "Answer.\n",
    "\n",
    "Python String find() method returns the lowest index of the substring if it is found in a given string. If it is not found then it returns -1.\n",
    "\n",
    "The re.search() and re.match() both are functions of re module in python. These functions are very efficient and fast for \n",
    "searching in strings. The function searches for some substring in a string and returns a match object if found, else it returns none.\n",
    "\n",
    "There is a difference between the use of both functions. Both return the first match of a substring found in the string, but re.match() \n",
    "searches only from the beginning of the string and return match object if found. But if a match of substring is found somewhere in the \n",
    "middle of the string, it returns none. While re.search() searches for the whole string even if the string contains multi-lines and tries \n",
    "to find a match of the substring in all the lines of string."
   ]
  },
  {
   "cell_type": "code",
   "execution_count": 34,
   "id": "005e6ea5",
   "metadata": {},
   "outputs": [
    {
     "name": "stdout",
     "output_type": "stream",
     "text": [
      "<re.Match object; span=(40, 48), match='function'>\n"
     ]
    }
   ],
   "source": [
    "# import re module.\n",
    "import re\n",
    "\n",
    "substring='function'\n",
    "string1=\"\"\"The re.search() and re.match() both are functions of re module in python. These functions are very efficient and fast for \n",
    "searching in strings. The function searches for some substring in a string and returns a match object if found\"\"\"\n",
    "\n",
    "# use of re.searche() method.\n",
    "\n",
    "print(re.search(substring,string1))\n",
    "\n",
    "\n",
    "\n",
    "\n"
   ]
  },
  {
   "cell_type": "code",
   "execution_count": null,
   "id": "040368b6",
   "metadata": {},
   "outputs": [],
   "source": [
    "Q4. From a Match item, how do you get the actual strings that match the pattern?\n",
    "\n",
    "Answer.\n",
    "This method returns a tuple containing all the subgroups of the match, from 1 up to however many groups are in the pattern. \n",
    "The default argument is used for groups that did not participate in the match; it defaults to None.  \n",
    "In later versions (from 1.5.1 on), a singleton tuple is returned in such cases.\n"
   ]
  },
  {
   "cell_type": "code",
   "execution_count": 5,
   "id": "7a51e327",
   "metadata": {},
   "outputs": [
    {
     "name": "stdout",
     "output_type": "stream",
     "text": [
      "\n",
      "\n"
     ]
    },
    {
     "data": {
      "text/plain": [
       "('27', '0')"
      ]
     },
     "execution_count": 5,
     "metadata": {},
     "output_type": "execute_result"
    }
   ],
   "source": [
    "import re\n",
    "m = re.match(r\"(\\d+)\\.(\\d+)\", \"27.1835\")\n",
    "m.groups()\n",
    "('27', '1835')\n",
    "print(\"\\n\")\n",
    "\n",
    "\n",
    "m = re.match(r\"(\\d+)\\.?(\\d+)?\", \"27\")\n",
    "m.groups()      # Second group defaults to None.\n",
    "('27', None)\n",
    "m.groups('0')   # Now, the second group defaults to '0'.\n",
    "('27', '0')\n",
    "\n"
   ]
  },
  {
   "cell_type": "code",
   "execution_count": null,
   "id": "d1e563a2",
   "metadata": {},
   "outputs": [],
   "source": [
    "Q5. In the regex which created from the r'(\\d\\d\\d)-(\\d\\d\\d-\\d\\d\\d\\)', what does group zero cover?\n",
    "Group 2? Group 1?\n",
    "\n",
    "Answer.\n",
    "group zero will cover the first group."
   ]
  },
  {
   "cell_type": "code",
   "execution_count": null,
   "id": "5f607e36",
   "metadata": {},
   "outputs": [],
   "source": [
    "Q6. In standard expression syntax, parentheses and intervals have distinct meanings. How can you tell\n",
    "a regex that you want it to fit real parentheses and periods?\n",
    "\n",
    "Anwer.\n",
    "Any character (except for the newline character) will be matched by a period in a regular expression; when you literally want a period in a regular expression you need to precede it with a backslash. \n",
    "Many times you'll need to express the idea of the beginning or end of a line or word in a regular expression\n",
    "\n",
    "\n",
    "By placing part of a regular expression inside round brackets or parentheses, you can group that part of the regular expression together. This allows you to apply a quantifier to the entire group or to \n",
    "restrict alternation to part of the regex. Only parentheses can be used for grouping\n",
    "\n",
    "\n"
   ]
  },
  {
   "cell_type": "code",
   "execution_count": null,
   "id": "1a07abaf",
   "metadata": {},
   "outputs": [],
   "source": [
    "Q7. The findall() method returns a string list or a list of string tuples. What causes it to return one of\n",
    "the two options?\n",
    "\n",
    "Answer.\n",
    "findall(): Finding all matches in a string/list. Regex's findall() function is extremely useful as it returns a list of strings containing all matches. If the pattern is not found, re. findall() returns an empty list.\n",
    "\n",
    "re.findall()\n",
    "Return all non-overlapping matches of pattern in string, as a list of strings. The string is scanned left-to-right, and matches are returned in the order found.\n",
    "\n"
   ]
  },
  {
   "cell_type": "code",
   "execution_count": 6,
   "id": "bfd80850",
   "metadata": {},
   "outputs": [
    {
     "name": "stdout",
     "output_type": "stream",
     "text": [
      "['123456789', '987654321']\n"
     ]
    }
   ],
   "source": [
    "# A Python program to demonstrate working of\n",
    "# findall()\n",
    "import re\n",
    "   \n",
    "# A sample text string where regular expression \n",
    "# is searched.\n",
    "string = \"\"\"Hello my Number is 123456789 and\n",
    "             my friend's number is 987654321\"\"\"\n",
    "   \n",
    "# A sample regular expression to find digits.\n",
    "regex = '\\d+'            \n",
    "   \n",
    "match = re.findall(regex, string)\n",
    "print(match)"
   ]
  },
  {
   "cell_type": "code",
   "execution_count": null,
   "id": "079cbb56",
   "metadata": {},
   "outputs": [],
   "source": [
    "Q8. In standard expressions, what does the | character mean?\n",
    "\n",
    "Answer.\n",
    "Vertical Bar ( | ) :\n",
    "Matches any one element separated by the vertical bar (|) character.\n",
    "\n",
    "Example :  th(e|is|at) will match words - the, this and that.\n"
   ]
  },
  {
   "cell_type": "code",
   "execution_count": null,
   "id": "766970d1",
   "metadata": {},
   "outputs": [],
   "source": [
    "Q9. In regular expressions, what does the character stand for?\n",
    "\n",
    "Answer.\n",
    "A regular expression is a special sequence of characters that helps you match or find other \n",
    "strings or sets of strings, using a specialized syntax held in a pattern. Regular expressions \n",
    "are widely used in UNIX world.\n",
    "\n",
    "The Python module re provides full support for Perl-like regular expressions in Python. \n",
    "The re module raises the exception re.error if an error occurs while compiling or using a regular expression.\n",
    "\n",
    "We would cover two important functions, which would be used to handle regular expressions. \n",
    "But a small thing first: There are various characters, which would have special meaning \n",
    "when they are used in regular expression. To avoid any confusion while dealing with regular expressions, \n",
    "we would use Raw Strings as r'expression'."
   ]
  },
  {
   "cell_type": "code",
   "execution_count": null,
   "id": "95253581",
   "metadata": {},
   "outputs": [],
   "source": [
    "Q10. In regular expressions, what is the difference between the + and * characters?\n",
    "\n",
    "\n",
    "\n",
    "Each of them are quantifiers, the star quantifier( * ) means that the preceding expression can \n",
    "match zero or more times it is like {0,} while the plus quantifier( + ) indicate that the preceding \n",
    "expression MUST match at least one time or multiple times and it is the same as {1,} ."
   ]
  },
  {
   "cell_type": "code",
   "execution_count": null,
   "id": "dfafbf9b",
   "metadata": {},
   "outputs": [],
   "source": [
    "Q11. What is the difference between {4} and {4,5} in regular expression?\n",
    "\n",
    "Answer.\n",
    "{m}\n",
    "Specifies that exactly m copies of the previous RE should be matched; fewer matches cause the entire RE not to match. \n",
    "For example, a{6} will match exactly six 'a' characters, but not five.\n",
    "\n",
    "{m,n}\n",
    "Causes the resulting RE to match from m to n repetitions of the preceding RE, attempting to match as many repetitions as possible. \n",
    "For example, a{3,5} will match from 3 to 5 'a' characters. Omitting m specifies a lower bound of zero, and omitting n specifies an \n",
    "infinite upper bound. As an example, a{4,}b will match 'aaaab' or a thousand 'a' characters followed by a 'b', but not 'aaab'. \n",
    "The comma may not be omitted or the modifier would be confused with the previously described form."
   ]
  },
  {
   "cell_type": "code",
   "execution_count": null,
   "id": "4e595daa",
   "metadata": {},
   "outputs": [],
   "source": [
    "Q12. What do you mean by the \\d, \\w, and \\s shorthand character classes signify in regular\n",
    "expressions?\n",
    "\n",
    "Answer.\n",
    "\\d\n",
    "For Unicode (str) patterns:\n",
    "Matches any Unicode decimal digit (that is, any character in Unicode character category [Nd]). \n",
    "This includes [0-9], and also many other digit characters. If the ASCII flag is used only [0-9] is matched.\n",
    "\n",
    "For 8-bit (bytes) patterns:\n",
    "Matches any decimal digit; this is equivalent to [0-9].\n",
    "\n",
    "\\W\n",
    "Matches any character which is not a word character. This is the opposite of \\w. If the ASCII flag is used \n",
    "this becomes the equivalent of [^a-zA-Z0-9_]. If the LOCALE flag is used, matches characters which are neither \n",
    "alphanumeric in the current locale nor the underscore.\n",
    "\n",
    "\\S\n",
    "Matches any character which is not a whitespace character. This is the opposite of \\s. If the ASCII flag is \n",
    "used this becomes the equivalent of [^ \\t\\n\\r\\f\\v].\n",
    "\n"
   ]
  },
  {
   "cell_type": "code",
   "execution_count": null,
   "id": "bc4282a0",
   "metadata": {},
   "outputs": [],
   "source": [
    "Q13. What do means by \\D, \\W, and \\S shorthand character classes signify in regular expressions?\n",
    "\n",
    "Answer.\n",
    "What do the \\d, \\w, and \\s shorthand character classes signify in regular expressions? The \\d, \\w, and \\s \n",
    "shorthand character classes match a single digit, word, or space character, respectively.\n",
    "\n",
    "\\D: \n",
    "the \"non-digit character\" class represents the regex range [^0-9], matching any character that is not \n",
    "included in the range represented by \\d\n",
    "\n",
    "\\W: \n",
    "the \"non-word character\" class represents the regex range [^A-Za-z0-9_], matching any character that is \n",
    "not included in the range represented by \\w   \n",
    "\n",
    "\\S: \n",
    "the “non-whitespace character” class represents the regex range [^ \\t\\r\\n\\f\\v], matching any character \n",
    "that is not included in the range represented by \\s"
   ]
  },
  {
   "cell_type": "code",
   "execution_count": null,
   "id": "f8e6ac10",
   "metadata": {},
   "outputs": [],
   "source": [
    "Q14. What is the difference between .*? and .*?\n",
    "\n",
    "Answer.\n",
    "*\n",
    "Causes the resulting RE to match 0 or more repetitions of the preceding RE, as many repetitions as are possible. ab* will match ‘a’, ‘ab’, or ‘a’ followed by any number of ‘b’s.\n",
    "\n"
   ]
  },
  {
   "cell_type": "code",
   "execution_count": null,
   "id": "eb8c270d",
   "metadata": {},
   "outputs": [],
   "source": [
    "Q15. What is the syntax for matching both numbers and lowercase letters with a character class?\n"
   ]
  },
  {
   "cell_type": "code",
   "execution_count": null,
   "id": "95a77e41",
   "metadata": {},
   "outputs": [],
   "source": [
    "# A Python program to demonstrate working of\n",
    "# findall()\n",
    "import re\n",
    "   \n",
    "# A sample text string where regular expression \n",
    "# is searched.\n",
    "string = \"\"\"Hello my Number is 123456789 and\n",
    "             my friend's number is 987654321\"\"\"\n",
    "   \n",
    "# A sample regular expression to find digits.\n",
    "regex = '\\d+'            \n",
    "   \n",
    "match = re.findall(regex, string)\n",
    "print(match)"
   ]
  },
  {
   "cell_type": "code",
   "execution_count": 29,
   "id": "cd723497",
   "metadata": {},
   "outputs": [
    {
     "name": "stdout",
     "output_type": "stream",
     "text": [
      "['T', 'ONLY', 'C']\n"
     ]
    }
   ],
   "source": [
    "# The regular expression statement that only returns lowercase characters is shown below.\n",
    "patterns= ['[a-z]+']\n",
    "\n",
    "\n",
    "import re\n",
    "\n",
    "\n",
    "phrase= \"The regular expression statement that ONLY returns lowercase Characters is shown below.\"\n",
    "\n",
    "patterns= ['[A-Z]+']\n",
    "\n",
    "    \n",
    "for p in patterns:\n",
    "    match= re.findall(p, phrase)\n",
    "    print(match)\n",
    "\n",
    "\n",
    "\n",
    "\n",
    "\n",
    "    \n"
   ]
  },
  {
   "cell_type": "code",
   "execution_count": 27,
   "id": "09500665",
   "metadata": {},
   "outputs": [
    {
     "name": "stdout",
     "output_type": "stream",
     "text": [
      "output is out came without + we are notes spit the single word in list\n",
      "\n",
      "['T', 'O', 'N', 'L', 'Y', 'C']\n"
     ]
    }
   ],
   "source": [
    "print(\"output is out came without + we are notes spit the single word in list\\n\")\n",
    "phrase= \"The regular expression statement that ONLY returns lowercase Characters is shown below.\"\n",
    "\n",
    "patterns= ['[A-Z]']\n",
    "\n",
    "    \n",
    "for p in patterns:\n",
    "    match= re.findall(p, phrase)\n",
    "    print(match)"
   ]
  },
  {
   "cell_type": "code",
   "execution_count": 28,
   "id": "6a76d88f",
   "metadata": {},
   "outputs": [
    {
     "name": "stdout",
     "output_type": "stream",
     "text": [
      "['T', '', '', '', '', '', '', '', '', '', '', '', '', '', '', '', '', '', '', '', '', '', '', '', '', '', '', '', '', '', '', '', '', '', '', '', '', '', 'ONLY', '', '', '', '', '', '', '', '', '', '', '', '', '', '', '', '', '', '', '', 'C', '', '', '', '', '', '', '', '', '', '', '', '', '', '', '', '', '', '', '', '', '', '', '', '', '', '']\n"
     ]
    }
   ],
   "source": [
    "phrase= \"The regular expression statement that ONLY returns lowercase Characters is shown below.\"\n",
    "\n",
    "patterns= ['[A-Z]*'] # here is use of * opareter.\n",
    "\n",
    "\n",
    "for p in patterns:\n",
    "    match= re.findall(p, phrase)\n",
    "    print(match)\n"
   ]
  },
  {
   "cell_type": "code",
   "execution_count": null,
   "id": "469d737e",
   "metadata": {},
   "outputs": [],
   "source": [
    "Q16. What is the procedure for making a normal expression in regax case insensitive?\n",
    "\n",
    "Answer.\n",
    "There are two ways to make Regular Expression case-insensitive:\n",
    "Using CASE_INSENSITIVE flag.\n",
    "Using modifier.\n",
    "\n",
    "Regex is used given text according to different and flexible patterns. ... The default behavior of the \n",
    "regex is case sensitive which means upper and lowercase letters are interpreted as different. We can \n",
    "match regex case insensitive or ignore case sensitivity.\n",
    "\n",
    "The casefold() method removes all case distinctions present in a string. It is used for caseless matching, i.e. \n",
    "ignores cases when comparing. For example, the German lowercase letter ß is equivalent to ss . However, since ß \n",
    "is already lowercase, the lower() method does nothing to it.\n"
   ]
  },
  {
   "cell_type": "code",
   "execution_count": null,
   "id": "8acfb59c",
   "metadata": {},
   "outputs": [],
   "source": [
    "Q17. What does the . character normally match? What does it match if re.DOTALL is passed as 2nd\n",
    "argument in re.compile()?\n",
    "\n",
    "Answer.\n",
    "If re. DOTALL is passed as the second argument to re. compile(), then the dot will also match newline characters.\n",
    "\n",
    "By using re. DOTALL flag, you can modify the behavior of dot (.) character to match the newline character apart from \n",
    "other characters. Before using the DOTALL flag, let's look into how regular engine responds to the newline character\n",
    "\n"
   ]
  },
  {
   "cell_type": "code",
   "execution_count": null,
   "id": "96c96fdd",
   "metadata": {},
   "outputs": [],
   "source": [
    "Q18. If numReg = re.compile(r'\\d+'), what will numRegex.sub('x','11 drummes', 10 pipers,five right, \n",
    "     hen') return?\n",
    "\n",
    "Answer.\n",
    "sub() function is used to replace occurrences of a particular sub-string with another sub-string. \n",
    "This function takes as input the following: The sub-string to replace. The sub-string to replace with.                                                            \n",
    "                                                            \n",
    "                                                            "
   ]
  },
  {
   "cell_type": "code",
   "execution_count": 4,
   "id": "7f156ea4",
   "metadata": {},
   "outputs": [
    {
     "data": {
      "text/plain": [
       "('1234',)"
      ]
     },
     "execution_count": 4,
     "metadata": {},
     "output_type": "execute_result"
    }
   ],
   "source": [
    "import re\n",
    "exp = re.compile(r'(\\d+)')\n",
    "foo = re.match(exp,'1234')\n",
    "foo.groups()\n",
    "('1234', )"
   ]
  },
  {
   "cell_type": "code",
   "execution_count": 11,
   "id": "bdc6fd30",
   "metadata": {},
   "outputs": [
    {
     "name": "stdout",
     "output_type": "stream",
     "text": [
      "(<module 're' from 'C:\\\\Users\\\\ambreesh kumar\\\\anaconda3\\\\lib\\\\re.py'>, ('\\\\s', '9', 'the rain in spain'))\n"
     ]
    }
   ],
   "source": [
    "# write a code of sub() function.\n",
    "\n",
    "import re\n",
    "txt=\"the rain in spain\"\n",
    "x=re,(\"\\s\",\"9\",txt)\n",
    "print(x)"
   ]
  },
  {
   "cell_type": "code",
   "execution_count": null,
   "id": "de0dad50",
   "metadata": {},
   "outputs": [],
   "source": [
    "Q19. What does passing re.VERBOSE as the 2nd argument to re.compile() allow to do?\n",
    "\n",
    "Answer.\n",
    "VERBOSE as the second argument to re. compile() allow you to do? The re. VERBOSE argument allows you to add whitespace and comments to the string passed to re."
   ]
  },
  {
   "cell_type": "code",
   "execution_count": 13,
   "id": "c6157ecc",
   "metadata": {},
   "outputs": [],
   "source": [
    "# Without Using VERBOSE\n",
    "regex_email = re.compile(r'^([a-z0-9_\\.-]+)@([0-9a-z\\.-]+)\\.([a-z\\.]{2, 6})$',\n",
    "              re.IGNORECASE)\n",
    "   \n",
    "# Using VERBOSE\n",
    "regex_email = re.compile(r\"\"\"\n",
    "            ^([a-z0-9_\\.-]+)              # local Part\n",
    "            @                             # single @ sign\n",
    "            ([0-9a-z\\.-]+)                # Domain name\n",
    "            \\.                            # single Dot .\n",
    "            ([a-z]{2,6})$                 # Top level Domain  \n",
    "             \"\"\",re.VERBOSE | re.IGNORECASE)   "
   ]
  },
  {
   "cell_type": "code",
   "execution_count": null,
   "id": "30f0bef3",
   "metadata": {},
   "outputs": [],
   "source": [
    "Q20. How would you write a regex that match a number with comma for every three digits? It must\n",
    "match the given following:\n",
    "    \n",
    "Answer.\n"
   ]
  },
  {
   "cell_type": "code",
   "execution_count": 15,
   "id": "3f7bb51f",
   "metadata": {},
   "outputs": [
    {
     "name": "stdout",
     "output_type": "stream",
     "text": [
      "123,223,441,112\n",
      "121,311\n",
      "12\n",
      "34,567\n",
      "1,213\n"
     ]
    }
   ],
   "source": [
    "import re\n",
    " \n",
    "numRegex = re.compile(r\"((?<!\\d)\\d{1,3}(?!\\d)(,\\d{3})*)\")\n",
    "txt = \"  ababs123,223,441,112    1234  121,311     12,34,567   12341  1,213 \"\n",
    "xs = numRegex.findall(txt)\n",
    "for x in xs:\n",
    "    print(x[0])"
   ]
  }
 ],
 "metadata": {
  "kernelspec": {
   "display_name": "Python 3",
   "language": "python",
   "name": "python3"
  },
  "language_info": {
   "codemirror_mode": {
    "name": "ipython",
    "version": 3
   },
   "file_extension": ".py",
   "mimetype": "text/x-python",
   "name": "python",
   "nbconvert_exporter": "python",
   "pygments_lexer": "ipython3",
   "version": "3.8.8"
  }
 },
 "nbformat": 4,
 "nbformat_minor": 5
}
