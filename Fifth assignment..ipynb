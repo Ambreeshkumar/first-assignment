{
 "cells": [
  {
   "cell_type": "code",
   "execution_count": null,
   "id": "bb2c1b07",
   "metadata": {},
   "outputs": [],
   "source": [
    "Q1. What does an empty dictionary's code look like?\n",
    "\n",
    "Answer.\n",
    "Dictionary in Python is an unordered collection of data values, used to store data values like a map,\n",
    "which, unlike other Data Types that hold only a single value as an element, Dictionary holds key:value pair.\n",
    "Key-value is provided in the dictionary to make it more optimized. "
   ]
  },
  {
   "cell_type": "code",
   "execution_count": 1,
   "id": "ebbe8d0c",
   "metadata": {},
   "outputs": [
    {
     "name": "stdout",
     "output_type": "stream",
     "text": [
      "{}\n",
      "Length: 0\n",
      "<class 'dict'>\n"
     ]
    }
   ],
   "source": [
    "# Python code to demonstrate use of\n",
    "# {} symbol to initialize dictionary\n",
    "emptyDict = {}\n",
    " \n",
    "# print dictionary\n",
    "print(emptyDict)\n",
    " \n",
    "# print length of dictionary\n",
    "print(\"Length:\", len(emptyDict))\n",
    " \n",
    "# print type\n",
    "print(type(emptyDict))"
   ]
  },
  {
   "cell_type": "code",
   "execution_count": null,
   "id": "60cc2cb8",
   "metadata": {},
   "outputs": [],
   "source": [
    "Q2. What is the value of a dictionary value with the key 'foo' and the value 42?\n",
    "\n",
    "Answer.\n",
    "What does a dictionary value with a key 'foo' and a value 42 look like? The items stored \n",
    "in a dictionary are unordered, while the items in a list are ordered.\n",
    "\n",
    "     {'foo':42}\n"
   ]
  },
  {
   "cell_type": "code",
   "execution_count": null,
   "id": "3fe0b032",
   "metadata": {},
   "outputs": [],
   "source": [
    "Q3. What is the most significant distinction between a dictionary and a list?\n",
    "\n",
    "Answer.\n",
    "List are just like the arrays, declared in other languages. Lists need not be\n",
    "homogeneous always which makes it a most powerful tool in Python. A single list\n",
    "may contain DataTypes like Integers, Strings, as well as Objects. Lists are mutable,\n",
    "and hence, they can be altered even after their creation. \n",
    "\n",
    "dictioary in Python on the other hand is an unordered collection of data values, used \n",
    "to store data values like a map, which unlike other Data Types that hold only single value\n",
    "as an element, Dictionary holds key:value pair. Key-value is provided in the dictionary to\n",
    "make it more optimized. Each key-value pair in a Dictionary is separated by a colon :, \n",
    "whereas each key is separated by a ‘comma’."
   ]
  },
  {
   "cell_type": "code",
   "execution_count": null,
   "id": "a44a6041",
   "metadata": {},
   "outputs": [],
   "source": [
    "# Python program to demonstrate\n",
    "# Lists\n",
    " \n",
    " \n",
    "# Creating a List with\n",
    "# the use of multiple values\n",
    "List = [\"science\", \"For\", \"math\"]\n",
    "print(\"List containing multiple values: \")\n",
    "print(List[0]) \n",
    "print(List[2])\n",
    "   \n",
    "# Creating a Multi-Dimensional List\n",
    "# (By Nesting a list inside a List)\n",
    "List = [['ankit', 'For'] , ['sunny']]\n",
    "print(\"\\nMulti-Dimensional List: \")\n",
    "print(List)\n",
    "\n",
    "# Python program to demonstrate\n",
    "# dictionary\n",
    " \n",
    " \n",
    "# Creating a Dictionary \n",
    "# with Integer Keys\n",
    "Dict = {1: 'shash', 2: 'For', 3: 'ambree'}\n",
    "print(\"Dictionary with the use of Integer Keys: \")\n",
    "print(Dict)\n",
    "   \n",
    "# Creating a Dictionary \n",
    "# with Mixed keys\n",
    "Dict = {'Name': 'jatin', 1: [1, 2, 3, 4]}\n",
    "print(\"\\nDictionary with the use of Mixed Keys: \")\n",
    "print(Dict)\n",
    "\n",
    "\n"
   ]
  },
  {
   "cell_type": "code",
   "execution_count": null,
   "id": "b4c136cc",
   "metadata": {},
   "outputs": [],
   "source": [
    "Q4. What happens if you try to access spam['foo'] if spam is {'bar': 100}?\n",
    "\n",
    "\n",
    "\n",
    "\n",
    "What happens if you try to access spam['foo'] if spam is {'bar': 100}? \n",
    "There is no difference. The in operator checks whether a value exists as\n",
    "a key in the dictionary."
   ]
  },
  {
   "cell_type": "code",
   "execution_count": null,
   "id": "a4b3579b",
   "metadata": {},
   "outputs": [],
   "source": [
    "Q5. If a dictionary is stored in spam, what is the difference between the expressions 'cat' in spam and\n",
    " 'cat' in spam.keys()?\n",
    "    \n",
    "Answer.\n",
    "There is no difference. The in operator checks whether a value exists as a key in the dictionary. 'cat' in \n",
    "spam checks whether there is a 'cat' key in the dictionary, while 'cat' in spam. values() checks whether\n",
    "there is a value 'cat' for one of the keys in spam .\n"
   ]
  },
  {
   "cell_type": "code",
   "execution_count": null,
   "id": "66ea19ac",
   "metadata": {},
   "outputs": [],
   "source": [
    "Q7. What is a shortcut for the following code?\n",
    "if 'color' not in spam:\n",
    "spam['color'] = 'blak'\n",
    "Answer.\n"
   ]
  },
  {
   "cell_type": "code",
   "execution_count": 5,
   "id": "ce213972",
   "metadata": {},
   "outputs": [
    {
     "name": "stdout",
     "output_type": "stream",
     "text": [
      "{'name': 'ambreesh', 'last_name': 'kumar', 'id': 324}\n"
     ]
    }
   ],
   "source": [
    "#create a dictionary\n",
    "\n",
    "spam={'name':\"ambreesh\",'last_name':\"kumar\",'id':324}\n",
    "print(spam)\n",
    "\n",
    "# this code use for insert the element in dictionary\n",
    "spam['color']='black' \n"
   ]
  },
  {
   "cell_type": "code",
   "execution_count": null,
   "id": "a4879f37",
   "metadata": {},
   "outputs": [],
   "source": [
    "Q8. How do you pretty prin dictionary values using which module and function?\n",
    "\n",
    "Answer. \n",
    "This article just provides a quick way to pretty print a dictionary which has\n",
    "dictionary as values. This is required many times now days as the advent of NoSQL\n",
    "databases. Lets code a way to perform this particular task."
   ]
  },
  {
   "cell_type": "code",
   "execution_count": 7,
   "id": "2b82110b",
   "metadata": {},
   "outputs": [
    {
     "name": "stdout",
     "output_type": "stream",
     "text": [
      "The original dictionary is : {'gfg': {'rate': 5, 'remark': 'good'}, 'cs': {'rate': 3}}\n",
      "The Pretty Print dictionary is : \n",
      "gfg\n",
      "rate : 5\n",
      "remark : good\n",
      "cs\n",
      "rate : 3\n"
     ]
    }
   ],
   "source": [
    "# Python3 code to demonstrate working of\n",
    "# Pretty Print a dictionary with dictionary value\n",
    "# Using loops\n",
    "  \n",
    "# initializing dictionary\n",
    "test_dict = {'gfg' : {'rate' : 5, 'remark' : 'good'}, 'cs' : {'rate' : 3}}\n",
    "  \n",
    "# printing original dictionary\n",
    "print(\"The original dictionary is : \" +  str(test_dict))\n",
    "  \n",
    "# using loops to Pretty Print\n",
    "print(\"The Pretty Print dictionary is : \")\n",
    "for sub in test_dict:\n",
    "    print (sub)\n",
    "    for sub_nest in test_dict[sub]:\n",
    "        print (sub_nest, ':', test_dict[sub][sub_nest])"
   ]
  },
  {
   "cell_type": "code",
   "execution_count": null,
   "id": "9e936171",
   "metadata": {},
   "outputs": [],
   "source": []
  }
 ],
 "metadata": {
  "kernelspec": {
   "display_name": "Python 3",
   "language": "python",
   "name": "python3"
  },
  "language_info": {
   "codemirror_mode": {
    "name": "ipython",
    "version": 3
   },
   "file_extension": ".py",
   "mimetype": "text/x-python",
   "name": "python",
   "nbconvert_exporter": "python",
   "pygments_lexer": "ipython3",
   "version": "3.8.8"
  }
 },
 "nbformat": 4,
 "nbformat_minor": 5
}
