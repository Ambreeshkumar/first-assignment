{
 "cells": [
  {
   "cell_type": "code",
   "execution_count": null,
   "id": "90ae963f",
   "metadata": {},
   "outputs": [],
   "source": [
    "Q1. Set the variable test1 to the string 'This is a test of the emergency text system,' and save test1 to a\n",
    "file named test.txt."
   ]
  },
  {
   "cell_type": "code",
   "execution_count": 1,
   "id": "3ebc305d",
   "metadata": {},
   "outputs": [
    {
     "name": "stdout",
     "output_type": "stream",
     "text": [
      "create anew file\n"
     ]
    }
   ],
   "source": [
    "f = open(\"test.txt\",\"w\")\n",
    "f.write(\"create anew file\")\n",
    "f.close()\n",
    "f = open(\"test.txt\",\"r\")\n",
    "print(f.read())\n"
   ]
  },
  {
   "cell_type": "code",
   "execution_count": null,
   "id": "a50bb19a",
   "metadata": {},
   "outputs": [],
   "source": [
    "Q2. Read the contents of the file test.txt into the variable test2. Is there a difference between test 1\n",
    "and test 2?\n"
   ]
  },
  {
   "cell_type": "code",
   "execution_count": 3,
   "id": "496e4654",
   "metadata": {},
   "outputs": [
    {
     "name": "stdout",
     "output_type": "stream",
     "text": [
      "create anew file\n"
     ]
    }
   ],
   "source": [
    "test2 = open(\"test.txt\",\"r\")\n",
    "print(test2.read())"
   ]
  },
  {
   "cell_type": "code",
   "execution_count": null,
   "id": "93dce919",
   "metadata": {},
   "outputs": [],
   "source": [
    "Q3. Create a CSV file called books.csv by using these lines:\n",
    "    "
   ]
  },
  {
   "cell_type": "code",
   "execution_count": 15,
   "id": "e08adc1d",
   "metadata": {},
   "outputs": [
    {
     "name": "stdout",
     "output_type": "stream",
     "text": [
      "Title CSV file \n",
      "Author Ambreesh\n",
      "The Weirdstone of Brisingamen,Alan Garner,1960 \n",
      "Perdido Street Station,China Miéville,2000 \n",
      "Thud!,Terry Pratchett,2005 \n",
      "The Spellman Files,Lisa Lutz,2007 \n",
      "Small Gods,Terry Pratchett,1992 \n",
      "year 1/1/2022\n"
     ]
    }
   ],
   "source": [
    "# first import the csv module;\n",
    "import csv\n",
    "\n",
    "# create the csv file:\n",
    "f = open(\"book.csv\",\"w\")\n",
    "f.write(\"Title CSV file \\n\")\n",
    "f.write(\"Author Ambreesh\\n\")\n",
    "f.write(\"The Weirdstone of Brisingamen,Alan Garner,1960 \\n\")\n",
    "f.write(\"Perdido Street Station,China Miéville,2000 \\n\")\n",
    "f.write(\"Thud!,Terry Pratchett,2005 \\n\")\n",
    "f.write(\"The Spellman Files,Lisa Lutz,2007 \\n\")\n",
    "f.write(\"Small Gods,Terry Pratchett,1992 \\n\")\n",
    "f.write(\"year 1/1/2022\")\n",
    "f.close\n",
    "\n",
    "# open a file in a read mode:\n",
    "f= open(\"book.csv\",\"r\")\n",
    "print(f.read())\n"
   ]
  },
  {
   "cell_type": "code",
   "execution_count": null,
   "id": "7cc176d8",
   "metadata": {},
   "outputs": [],
   "source": [
    "Q4. Use the sqlite3 module to create a SQLite database called books.db, and a table called books with\n",
    "these fields: title (text), author (text), and year (integer)."
   ]
  },
  {
   "cell_type": "code",
   "execution_count": 29,
   "id": "511cc609",
   "metadata": {},
   "outputs": [
    {
     "ename": "OperationalError",
     "evalue": "table student2 already exists",
     "output_type": "error",
     "traceback": [
      "\u001b[1;31m---------------------------------------------------------------------------\u001b[0m",
      "\u001b[1;31mOperationalError\u001b[0m                          Traceback (most recent call last)",
      "\u001b[1;32m<ipython-input-29-c4f0754d3e27>\u001b[0m in \u001b[0;36m<module>\u001b[1;34m\u001b[0m\n\u001b[0;32m      2\u001b[0m \u001b[0mobj\u001b[0m \u001b[1;33m=\u001b[0m \u001b[0msqlite3\u001b[0m\u001b[1;33m.\u001b[0m\u001b[0mconnect\u001b[0m\u001b[1;33m(\u001b[0m\u001b[1;34m'book.db'\u001b[0m\u001b[1;33m)\u001b[0m\u001b[1;33m\u001b[0m\u001b[1;33m\u001b[0m\u001b[0m\n\u001b[0;32m      3\u001b[0m \u001b[0mquery\u001b[0m \u001b[1;33m=\u001b[0m \u001b[0mobj\u001b[0m\u001b[1;33m.\u001b[0m\u001b[0mcursor\u001b[0m\u001b[1;33m(\u001b[0m\u001b[1;33m)\u001b[0m\u001b[1;33m\u001b[0m\u001b[1;33m\u001b[0m\u001b[0m\n\u001b[1;32m----> 4\u001b[1;33m query.execute('''\n\u001b[0m\u001b[0;32m      5\u001b[0m create table student2(\n\u001b[0;32m      6\u001b[0m \u001b[0mtitle\u001b[0m \u001b[0mtext\u001b[0m\u001b[1;33m,\u001b[0m\u001b[1;33m\u001b[0m\u001b[1;33m\u001b[0m\u001b[0m\n",
      "\u001b[1;31mOperationalError\u001b[0m: table student2 already exists"
     ]
    }
   ],
   "source": [
    "import sqlite3 \n",
    "obj = sqlite3.connect('book.db')\n",
    "query = obj.cursor()\n",
    "query.execute('''\n",
    "create table student2(\n",
    "title text,\n",
    "author text,\n",
    "year integer)\n",
    "''')\n",
    "# to insert rows,by list and use executemany.\n",
    "list = [('life of humanes','ambreesh',2010),('life of animales','jatin',2012),('student life','shashank',2017)]\n",
    "query.executemany('''\n",
    "insert into student values(?,?,)''',list)\n",
    "\n",
    "\n",
    "\n",
    "\n",
    "\n",
    "\n",
    "obj.commit()\n"
   ]
  },
  {
   "cell_type": "code",
   "execution_count": null,
   "id": "19107cc8",
   "metadata": {},
   "outputs": [],
   "source": [
    "Q5. Read books.csv and insert its data into the book table."
   ]
  },
  {
   "cell_type": "code",
   "execution_count": 30,
   "id": "d30804b4",
   "metadata": {},
   "outputs": [
    {
     "name": "stdout",
     "output_type": "stream",
     "text": [
      "('ambreesh', 2010)\n",
      "('jatin', 2012)\n",
      "('student life', 2017)\n"
     ]
    }
   ],
   "source": [
    "import sqlite3 \n",
    "obj = sqlite3.connect('book.db')\n",
    "query = obj.cursor()\n",
    "\n",
    "list1 = query.execute('select * from student')\n",
    "for i in list1:\n",
    "    print(i)\n",
    "obj.commit()\n"
   ]
  },
  {
   "cell_type": "code",
   "execution_count": null,
   "id": "1e0d6c38",
   "metadata": {},
   "outputs": [],
   "source": [
    "Q6. Select and print the title column from the book table in alphabetical order.\n"
   ]
  },
  {
   "cell_type": "code",
   "execution_count": 34,
   "id": "dd162bec",
   "metadata": {},
   "outputs": [
    {
     "name": "stdout",
     "output_type": "stream",
     "text": [
      "('ambreesh',)\n",
      "('jatin',)\n",
      "('student life',)\n"
     ]
    }
   ],
   "source": [
    "import sqlite3 \n",
    "obj = sqlite3.connect('book.db')\n",
    "query = obj.cursor()\n",
    "\n",
    "list1 = query.execute('select author from student')\n",
    "for i in list1:\n",
    "    print(i)\n"
   ]
  },
  {
   "cell_type": "code",
   "execution_count": null,
   "id": "d77995c3",
   "metadata": {},
   "outputs": [],
   "source": [
    "Q7. From the book table, select and print all columns in the order of publication."
   ]
  },
  {
   "cell_type": "code",
   "execution_count": 35,
   "id": "735e6f76",
   "metadata": {},
   "outputs": [
    {
     "name": "stdout",
     "output_type": "stream",
     "text": [
      "('ambreesh', 2010)\n",
      "('jatin', 2012)\n",
      "('student life', 2017)\n"
     ]
    }
   ],
   "source": [
    "import sqlite3 \n",
    "obj = sqlite3.connect('book.db')\n",
    "query = obj.cursor()\n",
    "\n",
    "list1 = query.execute('select * from student')\n",
    "for i in list1:\n",
    "    print(i)\n",
    "obj.commit()"
   ]
  },
  {
   "cell_type": "code",
   "execution_count": null,
   "id": "21453b76",
   "metadata": {},
   "outputs": [],
   "source": [
    "Q8. Use the sqlalchemy module to connect to the sqlite3 database books.db that you just made in\n",
    "exercise 6.\n"
   ]
  },
  {
   "cell_type": "code",
   "execution_count": null,
   "id": "8f10ec09",
   "metadata": {},
   "outputs": [],
   "source": [
    "from sqlalchemy import create_engine\n",
    "                # driver+dialect, filename, \n",
    "engine=create_engine(\"sqlite:///book.sqlite\")\n",
    "connection = engine.connect()\n",
    "print(engine.student2)\n"
   ]
  },
  {
   "cell_type": "code",
   "execution_count": null,
   "id": "6205eff0",
   "metadata": {},
   "outputs": [],
   "source": [
    "Q9. Install the Redis server and the Python redis library (pip install redis) on your computer. Create a\n",
    "Redis hash called test with the fields count (1) and name ('Fester Bestertester'). Print all the fields for\n",
    "test."
   ]
  },
  {
   "cell_type": "code",
   "execution_count": 4,
   "id": "1a3b5db8",
   "metadata": {},
   "outputs": [
    {
     "name": "stdout",
     "output_type": "stream",
     "text": [
      "Collecting redis\n",
      "  Downloading redis-4.1.0-py3-none-any.whl (171 kB)\n",
      "Collecting deprecated>=1.2.3\n",
      "  Downloading Deprecated-1.2.13-py2.py3-none-any.whl (9.6 kB)\n",
      "Collecting packaging>=21.3\n",
      "  Downloading packaging-21.3-py3-none-any.whl (40 kB)\n",
      "Requirement already satisfied: wrapt<2,>=1.10 in c:\\users\\ambreesh kumar\\anaconda3\\lib\\site-packages (from deprecated>=1.2.3->redis) (1.12.1)\n",
      "Requirement already satisfied: pyparsing!=3.0.5,>=2.0.2 in c:\\users\\ambreesh kumar\\anaconda3\\lib\\site-packages (from packaging>=21.3->redis) (2.4.7)\n",
      "Installing collected packages: packaging, deprecated, redis\n",
      "  Attempting uninstall: packaging\n",
      "    Found existing installation: packaging 20.9\n",
      "    Uninstalling packaging-20.9:\n",
      "      Successfully uninstalled packaging-20.9\n",
      "Successfully installed deprecated-1.2.13 packaging-21.3 redis-4.1.0\n"
     ]
    }
   ],
   "source": [
    "!pip install redis"
   ]
  },
  {
   "cell_type": "code",
   "execution_count": 20,
   "id": "9d3cea2b",
   "metadata": {},
   "outputs": [
    {
     "name": "stdout",
     "output_type": "stream",
     "text": [
      "Redis<ConnectionPool<Connection<host=Fester_Bestertester,port=6379,db=0>>>\n"
     ]
    }
   ],
   "source": [
    "\n",
    "\n",
    "import redis\n",
    "r = redis.Redis(host='Fester_Bestertester', port=6379, db=0)\n",
    "print(r)"
   ]
  },
  {
   "cell_type": "code",
   "execution_count": null,
   "id": "c029f387",
   "metadata": {},
   "outputs": [],
   "source": [
    "r.rpush('hispanic', 'uno')\n",
    "1\n",
    ">>> r.rpush('hispanic', 'dos')\n",
    "2\n",
    ">>> r.rpush('hispanic', 'tres')\n",
    "3\n",
    ">>> r.rpush('hispanic', 'cuatro')\n",
    "4\n",
    ">>> r.llen('hispanic')\n",
    "4\n",
    ">>> r.lindex('hispanic', 3)\n",
    "b'cuatro'\n"
   ]
  },
  {
   "cell_type": "code",
   "execution_count": null,
   "id": "b9c9c8d2",
   "metadata": {},
   "outputs": [],
   "source": [
    "Q10. Increment the count field of test and print it.\n"
   ]
  },
  {
   "cell_type": "code",
   "execution_count": null,
   "id": "25368a71",
   "metadata": {},
   "outputs": [],
   "source": [
    "AUTH someuser wrongpassword\n",
    "(error) WRONGPASS invalid username-password pair\n",
    "> ACL LOG 1\n",
    "1)  1) \"count\"\n",
    "    2) (integer) 1\n",
    "    3) \"reason\"\n",
    "    4) \"auth\"\n",
    "    5) \"context\"\n",
    "    6) \"toplevel\"\n",
    "    7) \"object\"\n",
    "    8) \"AUTH\"\n",
    "    9) \"username\"\n",
    "   10) \"someuser\"\n",
    "   11) \"age-seconds\"\n",
    "   12) \"4.0960000000000001\"\n",
    "   13) \"client-info\"\n",
    "   14) \"id=6 addr=127.0.0.1:63026 fd=8 name= age=9 idle=0 flags=N db=0 sub=0 psub=0 multi=-1 qbuf=48 qbuf-free=32720 obl=0 oll=0 omem=0 events=r cmd=auth user=default\""
   ]
  },
  {
   "cell_type": "code",
   "execution_count": null,
   "id": "40f5abe7",
   "metadata": {},
   "outputs": [],
   "source": []
  }
 ],
 "metadata": {
  "kernelspec": {
   "display_name": "Python 3",
   "language": "python",
   "name": "python3"
  },
  "language_info": {
   "codemirror_mode": {
    "name": "ipython",
    "version": 3
   },
   "file_extension": ".py",
   "mimetype": "text/x-python",
   "name": "python",
   "nbconvert_exporter": "python",
   "pygments_lexer": "ipython3",
   "version": "3.8.8"
  }
 },
 "nbformat": 4,
 "nbformat_minor": 5
}
