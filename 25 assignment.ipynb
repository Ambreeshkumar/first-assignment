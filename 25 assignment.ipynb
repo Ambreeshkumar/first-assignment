{
 "cells": [
  {
   "cell_type": "code",
   "execution_count": null,
   "id": "ab7993c2",
   "metadata": {},
   "outputs": [],
   "source": [
    "Q1. What is the difference between enclosing a list comprehension in square brackets and\n",
    "parentheses?\n"
   ]
  },
  {
   "cell_type": "code",
   "execution_count": 8,
   "id": "090abf40",
   "metadata": {},
   "outputs": [
    {
     "name": "stdout",
     "output_type": "stream",
     "text": [
      "[1, 2, 3]\n"
     ]
    }
   ],
   "source": [
    "# Square brackets are lists while parentheses are tuples.\n",
    "#A list is mutable, meaning you can change its contents:\n",
    "\n",
    "x = [1,2]\n",
    "x.append(3)\n",
    "print(x)\n",
    "\n",
    "\n",
    "\n"
   ]
  },
  {
   "cell_type": "code",
   "execution_count": null,
   "id": "a1608d77",
   "metadata": {},
   "outputs": [],
   "source": [
    "# while tuples are not:\n",
    "\n",
    "x = (1,2)\n",
    "print(x)\n",
    "\n",
    "x.append(3)\n",
    "print(x)\n",
    "\n",
    "# this tuple will be generate the error like that: \n",
    "# Traceback (most recent call last):\n",
    "#  File \"<stdin>\", line 1, in <module>\n",
    "# AttributeError: 'tuple' object has no attribute 'append'\""
   ]
  },
  {
   "cell_type": "code",
   "execution_count": 10,
   "id": "c9ec813e",
   "metadata": {},
   "outputs": [
    {
     "data": {
      "text/plain": [
       "{(1, 2): 3}"
      ]
     },
     "execution_count": 10,
     "metadata": {},
     "output_type": "execute_result"
    }
   ],
   "source": [
    "# The other main difference is that a tuple is hashable, meaning that you can use \n",
    "# it as a key to a dictionary, among other things. For example:\n",
    "\n",
    "x = (1,2)\n",
    "y = [1,2]\n",
    "z = {}\n",
    "z[x] = 3\n",
    "z\n",
    "\n",
    "# However, this does not mean tuples are mutable. In the example above, a new \n",
    "# tuple is constructed by adding together the two tuples as arguments. \n",
    "# The original tuple is not modified. To demonstrate this, consider the following:"
   ]
  },
  {
   "cell_type": "code",
   "execution_count": null,
   "id": "c6215d0d",
   "metadata": {},
   "outputs": [],
   "source": [
    "Q2. What is the relationship between generators and iterators?\n",
    "\n",
    "Answer.\n",
    "A process that is repeated more than one time by applying the same \n",
    "logic is called an Iteration.  In programming languages like python, \n",
    "a loop is created with few conditions to perform iteration till it \n",
    "exceeds the limit. If the loop is executed 6 times continuously, \n",
    "then we could say the particular block has iterated 6 times. \n"
   ]
  },
  {
   "cell_type": "code",
   "execution_count": 11,
   "id": "02caf214",
   "metadata": {},
   "outputs": [
    {
     "name": "stdout",
     "output_type": "stream",
     "text": [
      "0 is an Even Number\n",
      "5 is an Odd Number\n",
      "10 is an Even Number\n",
      "15 is an Odd Number\n",
      "20 is an Even Number\n"
     ]
    }
   ],
   "source": [
    "a = [0, 5, 10, 15, 20]\n",
    "for i in a:\n",
    "    if i % 2 == 0:\n",
    "        print(str(i)+' is an Even Number')\n",
    "    else:\n",
    "        print(str(i)+' is an Odd Number')"
   ]
  },
  {
   "cell_type": "code",
   "execution_count": null,
   "id": "255197f2",
   "metadata": {},
   "outputs": [],
   "source": [
    "It is another way of creating iterators in a simple way where it uses the keyword “yield” \n",
    "instead of returning it in a defined function. Generators are implemented using a function. \n",
    "Just as iterators, generators also follow lazy evaluation. Here, the yield function returns \n",
    "the data without affecting or exiting the function. It will return a sequence of data in an \n",
    "iterable format where we need to iterate over the sequence to use the data as they won’t store \n",
    "the entire sequence in the memory."
   ]
  },
  {
   "cell_type": "code",
   "execution_count": 12,
   "id": "8a112b88",
   "metadata": {},
   "outputs": [
    {
     "name": "stdout",
     "output_type": "stream",
     "text": [
      "The square of numbers 1,2,3 are : \n",
      "1\n",
      "4\n",
      "9\n"
     ]
    }
   ],
   "source": [
    "def sq_numbers(n):\n",
    "    for i in range(1, n+1):\n",
    "        yield i*i\n",
    "  \n",
    "  \n",
    "a = sq_numbers(3)\n",
    "  \n",
    "print(\"The square of numbers 1,2,3 are : \")\n",
    "print(next(a))\n",
    "print(next(a))\n",
    "print(next(a))"
   ]
  },
  {
   "cell_type": "code",
   "execution_count": null,
   "id": "fbe73ef0",
   "metadata": {},
   "outputs": [],
   "source": [
    "Q3.What are the signs that a function is a generator function?\n",
    "\n",
    "Answer. \n",
    "It is fairly simple to create a generator in Python. It is as easy as defining a normal function, \n",
    "but with a yield statement instead of a return statement. If a function contains at least one yield \n",
    "statement (it may contain other yield or return statements), it becomes a generator function.\n",
    "Both yield and return will return some value from a function.\n",
    "\n",
    "Here is how a generator function differs from a normal function.\n",
    "\n",
    "Generator function contains one or more yield statements.\n",
    "When called, it returns an object (iterator) but does not start execution immediately.\n",
    "Methods like __iter__() and __next__() are implemented automatically. So we can iterate through the items using next().\n",
    "Once the function yields, the function is paused and the control is transferred to the caller.\n",
    "Local variables and their states are remembered between successive calls.\n",
    "Finally, when the function terminates, StopIteration is raised automatically on further calls.\n",
    "\n",
    "\n"
   ]
  },
  {
   "cell_type": "code",
   "execution_count": 14,
   "id": "b6ff4892",
   "metadata": {},
   "outputs": [
    {
     "data": {
      "text/plain": [
       "<generator object my_gen at 0x000001B418121200>"
      ]
     },
     "execution_count": 14,
     "metadata": {},
     "output_type": "execute_result"
    }
   ],
   "source": [
    "# A simple generator function\n",
    "def my_gen():\n",
    "    n = 1\n",
    "    print('This is printed first')\n",
    "    # Generator function contains yield statements\n",
    "    yield n\n",
    "\n",
    "    n += 1\n",
    "    print('This is printed second')\n",
    "    yield n\n",
    "\n",
    "    n += 1\n",
    "    print('This is printed at last')\n",
    "    yield n\n",
    "    \n",
    "    \n",
    "my_gen()\n"
   ]
  },
  {
   "cell_type": "code",
   "execution_count": null,
   "id": "e6bca45a",
   "metadata": {},
   "outputs": [],
   "source": [
    "Q4. What is the purpose of a yield statement?\n",
    "\n",
    "Answer. \n",
    "Yield is a keyword in Python that is used to return from a function without destroying the \n",
    "states of its local variable and when the function is called, the execution starts from the \n",
    "last yield statement. Any function that contains a yield keyword is termed a generator. \n",
    "Hence, yield is what makes a generator. The yield keyword in Python is less known off but \n",
    "has a greater utility which one can think of.\n",
    "\n",
    " "
   ]
  },
  {
   "cell_type": "code",
   "execution_count": 15,
   "id": "9fce334a",
   "metadata": {
    "scrolled": true
   },
   "outputs": [
    {
     "name": "stdout",
     "output_type": "stream",
     "text": [
      "The original list is : [1, 4, 5, 6, 7]\n",
      "The even numbers in list are :  4 6 "
     ]
    }
   ],
   "source": [
    "# this code to demonstrate\n",
    "# yield keyword\n",
    " \n",
    "# generator to print even numbers\n",
    "def print_even(test_list) :\n",
    "    for i in test_list:\n",
    "        if i % 2 == 0:\n",
    "            yield i\n",
    " \n",
    "# initializing list\n",
    "test_list = [1, 4, 5, 6, 7]\n",
    " \n",
    "# printing initial list\n",
    "print (\"The original list is : \" +  str(test_list))\n",
    " \n",
    "# printing even numbers\n",
    "print (\"The even numbers in list are : \", end = \" \")\n",
    "for j in print_even(test_list):\n",
    "    print (j, end = \" \")"
   ]
  },
  {
   "cell_type": "code",
   "execution_count": null,
   "id": "754f88fa",
   "metadata": {},
   "outputs": [],
   "source": [
    "Q5. What is the relationship between map calls and list comprehensions? Make a comparison and\n",
    "contrast between the two.\n",
    "\n",
    "Answer.\n",
    "List comprehension is more concise and easier to read as compared to map.\n",
    "List comprehension allows filtering. In map, we have no such facility. For example, to print all even numbers in range of 100, \n",
    "we can write [n for n in range(100) if n%2 == 0]. There is no alternate for it in map\n",
    "List comprehension are used when a list of results is required as map only returns a map object and does not return any list.\n",
    "List comprehension is faster than map when we need to evaluate expressions that are too long or complicated to express\n",
    "Map is faster in case of calling an already defined function (as no lambda is required).\n",
    "Comparing Execution Time\n",
    "Note : We will be using an in-built python library ‘timeit‘.\n"
   ]
  },
  {
   "cell_type": "code",
   "execution_count": 16,
   "id": "1ffd2a8c",
   "metadata": {},
   "outputs": [
    {
     "name": "stdout",
     "output_type": "stream",
     "text": [
      "<map object at 0x000001B418074820>\n",
      "[4, 88, 11.0, 12, -14]\n"
     ]
    }
   ],
   "source": [
    "# function to double the number\n",
    "def num (n) :\n",
    "    return n * 2\n",
    "          \n",
    "lst = [2, 44, 5.5, 6, -7]\n",
    "  \n",
    "# suppose we want to call function\n",
    "# 'num' for each element of lst,\n",
    "# we use map\n",
    "  \n",
    "# creates a map object\n",
    "x = map(num, lst) \n",
    "print(x) \n",
    "  \n",
    "# returns list\n",
    "print(list(x))"
   ]
  },
  {
   "cell_type": "code",
   "execution_count": 17,
   "id": "1bc753cb",
   "metadata": {},
   "outputs": [
    {
     "name": "stdout",
     "output_type": "stream",
     "text": [
      "[4, 88, 11.0, 12, -14]\n"
     ]
    }
   ],
   "source": [
    "lst = [2, 44, 5.5, 6, -7]\n",
    "  \n",
    "# to double the number\n",
    "# list comprehension\n",
    "x = [i * 2 for i in lst ] \n",
    "print(x)"
   ]
  }
 ],
 "metadata": {
  "kernelspec": {
   "display_name": "Python 3",
   "language": "python",
   "name": "python3"
  },
  "language_info": {
   "codemirror_mode": {
    "name": "ipython",
    "version": 3
   },
   "file_extension": ".py",
   "mimetype": "text/x-python",
   "name": "python",
   "nbconvert_exporter": "python",
   "pygments_lexer": "ipython3",
   "version": "3.8.8"
  }
 },
 "nbformat": 4,
 "nbformat_minor": 5
}
