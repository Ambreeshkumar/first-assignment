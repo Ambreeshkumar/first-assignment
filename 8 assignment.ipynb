{
 "cells": [
  {
   "cell_type": "code",
   "execution_count": null,
   "id": "e9072524",
   "metadata": {},
   "outputs": [],
   "source": [
    "Q1. Is the Python Standard Library included with PyInputPlus?\n",
    "\n",
    "Answer.\n",
    "PyInputPlus is a Python module used for taking inputs with additional validation features. \n",
    "PyInputPlus will keep asking the user for text until.\n"
   ]
  },
  {
   "cell_type": "code",
   "execution_count": null,
   "id": "95ee595c",
   "metadata": {},
   "outputs": [],
   "source": [
    "Q2. Why is PyInputPlus commonly imported with import pyinputplus as pypi?\n",
    "\n",
    "Answer.\n",
    "You can import the module with import pyinputplus as pyip so that you can enter a shorter name when calling the module's \n",
    "functions. PyInputPlus has functions for entering a variety of input, including strings, numbers, dates, yes/no, True/False, \n",
    "emails, and files."
   ]
  },
  {
   "cell_type": "code",
   "execution_count": null,
   "id": "18ff24b1",
   "metadata": {},
   "outputs": [],
   "source": [
    "Q3. How do you distinguish between inputInt() and inputFloat()?\n",
    "\n",
    "Answer.\n",
    "inputInt() : Accepts an integer value. This also takes additional parameters ‘min’, ‘max’, ‘greaterThan’ and ‘lessThan’  for bounds. Returns an int.\n",
    "    \n",
    "inputFloat() : Accepts a floating-point numeric value. Also takes additional ‘min’, ‘max’, ‘greaterThan’ and ‘lessThan’  parameters. Returns a float.\n"
   ]
  },
  {
   "cell_type": "code",
   "execution_count": 5,
   "id": "63f7eb3d",
   "metadata": {},
   "outputs": [
    {
     "name": "stdout",
     "output_type": "stream",
     "text": [
      "Note: you may need to restart the kernel to use updated packages.\n"
     ]
    },
    {
     "name": "stderr",
     "output_type": "stream",
     "text": [
      "'C:\\Users\\ambreesh' is not recognized as an internal or external command,\n",
      "operable program or batch file.\n"
     ]
    }
   ],
   "source": [
    "pip install PyInputPlu"
   ]
  },
  {
   "cell_type": "code",
   "execution_count": 7,
   "id": "e86b8a7b",
   "metadata": {},
   "outputs": [
    {
     "name": "stdout",
     "output_type": "stream",
     "text": [
      "enter the integeryu\n",
      "'yu' is not an integer.\n",
      "enter the integerjhh\n",
      "'jhh' is not an integer.\n",
      "enter the integerjh\n",
      "'jh' is not an integer.\n",
      "0\n"
     ]
    }
   ],
   "source": [
    "import pyinputplus as pyip\n",
    "# integer input with limited number of tris\n",
    "\n",
    "inp = pyip.inputInt(prompt = \"enter the integer\",default = 0,limit = 3)\n",
    "\n",
    "print(inp)"
   ]
  },
  {
   "cell_type": "code",
   "execution_count": 8,
   "id": "4dda19b4",
   "metadata": {},
   "outputs": [
    {
     "name": "stdout",
     "output_type": "stream",
     "text": [
      "enter the number6\n",
      "0\n"
     ]
    }
   ],
   "source": [
    "import pyinputplus as pyip\n",
    "\n",
    "# integer input with limited time\n",
    "\n",
    "inp = pyip.inputInt(prompt=\"enter the number\", default=0, timeout=2)\n",
    "\n",
    "print(inp)"
   ]
  },
  {
   "cell_type": "code",
   "execution_count": null,
   "id": "d5cd869e",
   "metadata": {},
   "outputs": [],
   "source": [
    "Q4. Using PyInputPlus, how do you ensure that the user enters a whole number between 0 and 99?\n",
    "\n",
    "Answer.\n"
   ]
  },
  {
   "cell_type": "code",
   "execution_count": null,
   "id": "eccae63a",
   "metadata": {},
   "outputs": [
    {
     "name": "stdout",
     "output_type": "stream",
     "text": [
      "enter the number\n",
      "Blank values are not allowed.\n",
      "enter the number\n",
      "Blank values are not allowed.\n",
      "enter the number\n",
      "Blank values are not allowed.\n",
      "enter the number"
     ]
    }
   ],
   "source": [
    "import pyinputplus as pyip\n",
    "\n",
    "num=pyip.inputInt(prompt=\"enter the number\",\n",
    "                  default=0,limit=4)\n",
    "for i in range(1,num+1):\n",
    "    print(i,end=\" \")\n"
   ]
  },
  {
   "cell_type": "code",
   "execution_count": 1,
   "id": "bce66304",
   "metadata": {},
   "outputs": [
    {
     "name": "stdout",
     "output_type": "stream",
     "text": [
      "enter a string\n",
      "\n"
     ]
    }
   ],
   "source": [
    "import pyinputplus as pyip\n",
    "# string input with addition parameters.\n",
    "\n",
    "inp=pyip.inputStr(prompt=\"enter a string\",blank=True, blockRegexes='aeiou')\n",
    "print(inp)"
   ]
  },
  {
   "cell_type": "code",
   "execution_count": null,
   "id": "1bef25c4",
   "metadata": {},
   "outputs": [],
   "source": [
    "Q5. What is transferred to the keyword arguments allowRegexes and blockRegexes?\n",
    "\n",
    "Answer.\n",
    "We can set a list of regexes to the allowregexes parameter to the pyinpuplusfunction.\n",
    "\n",
    "for example, if we want to make sure the user enter a phone number can write:\n",
    "    \n"
   ]
  },
  {
   "cell_type": "code",
   "execution_count": 1,
   "id": "1190e9fd",
   "metadata": {},
   "outputs": [
    {
     "name": "stdout",
     "output_type": "stream",
     "text": [
      "what is your phone?478947787\n",
      "your phone number is 478947787\n"
     ]
    }
   ],
   "source": [
    "import pyinputplus as pyip\n",
    "\n",
    "phone= pyip.inputNum(prompt=\"what is your phone?\",\n",
    "                           allowRegexes=[r'\\d{3}-\\d{3}-\\d{4}',r'None'])\n",
    "print(\"your phone number is\",phone)"
   ]
  },
  {
   "cell_type": "code",
   "execution_count": null,
   "id": "b21a2b16",
   "metadata": {},
   "outputs": [],
   "source": [
    "Q6. If a blank input is entered three times, what does inputStr(limit=3) do?\n",
    "\n",
    "Answer.\n",
    "InputStr() raises a TimeoutException exception. If the user answers incorrectly more than 3 times, it raises a RetryLimitException exception."
   ]
  },
  {
   "cell_type": "code",
   "execution_count": null,
   "id": "20df24a4",
   "metadata": {},
   "outputs": [],
   "source": [
    "Q7. If blank input is entered three times, what does inputStr(limit=3, default='hello') do?\n",
    "\n",
    "Answer. \n",
    "InputStr()raises a TimeoutException. if  the user answers incorrectly more then 3 time, it raises a retrylimitexception exception.\n",
    "if i give the difault value, the raises a hello when the user answers incorrect, it raises a hello\n",
    "                                                              "
   ]
  }
 ],
 "metadata": {
  "kernelspec": {
   "display_name": "Python 3",
   "language": "python",
   "name": "python3"
  },
  "language_info": {
   "codemirror_mode": {
    "name": "ipython",
    "version": 3
   },
   "file_extension": ".py",
   "mimetype": "text/x-python",
   "name": "python",
   "nbconvert_exporter": "python",
   "pygments_lexer": "ipython3",
   "version": "3.8.8"
  }
 },
 "nbformat": 4,
 "nbformat_minor": 5
}
