{
 "cells": [
  {
   "cell_type": "markdown",
   "id": "eeff0728",
   "metadata": {},
   "source": [
    "Q1. What exactly is []?\n",
    "\n",
    "Answer.\n",
    "In Python, a list is created by placing elements inside square brackets [] , separated by commas. \n",
    "A list can have any number of items and they may be of different types (integer, float, string, etc.). \n",
    "A list can also have another list as an item. This is called a nested list.\n",
    "\n",
    "A list can have any number of items and they may be of different types (integer, float, string, etc.)."
   ]
  },
  {
   "cell_type": "code",
   "execution_count": 1,
   "id": "2f3ece68",
   "metadata": {},
   "outputs": [],
   "source": [
    "# empty list\n",
    "my_list = []\n",
    "\n",
    "# list with mixed data types\n",
    "my_list = [1, \"Hello\", 3.4]"
   ]
  },
  {
   "cell_type": "code",
   "execution_count": null,
   "id": "172bce20",
   "metadata": {},
   "outputs": [],
   "source": [
    "Q2a.  In a list of values stored in a variable called spam, how would you assign the value as the\n",
    "      third value? (Assume [2, 4, 6, 8, 10] are in spam.)\n",
    "    Let's pretend the spam includes the list ['a','b','c','d'] for the next three queries.\n",
    "Answer.\n",
    "How would you assign the value 'hello' as the third value in a list stored in a variable named spam? \n",
    "(Assume spam contains [2, 4, 6, 8, 10].)\n",
    "spam[2] = 'hello' (Notice that the third value in a list is at index 2 because the first index is 0.)\n",
    "\n"
   ]
  },
  {
   "cell_type": "code",
   "execution_count": 2,
   "id": "137db882",
   "metadata": {},
   "outputs": [
    {
     "name": "stdout",
     "output_type": "stream",
     "text": [
      "[2, 4, 'hellpo', 8, 10]\n"
     ]
    }
   ],
   "source": [
    "spam=[2,4,6,8,10]\n",
    "spam[2] = \"hellpo\"\n",
    "print(spam)"
   ]
  },
  {
   "cell_type": "code",
   "execution_count": null,
   "id": "1a4faa1c",
   "metadata": {},
   "outputs": [],
   "source": [
    "Q3. What is the value of spam[int(int('3'* 2) / 11)]?\n",
    "\n",
    "Answer.\n",
    "What does spam[int(int('3' * 2) // 11)] evaluate to? 'd' (Note that '3' * 2 is the string '33',\n",
    "which is passed to int() before being divided by 11. This eventually evaluates to 3.\n",
    "\n",
    "when we write like a line of code ('3'*2) it's mean three is string and two is here intiger.\n",
    "so output will be came (33) \n",
    "                                                          \n",
    "                                                          \n",
    "                                                          \n",
    "                                                          "
   ]
  },
  {
   "cell_type": "code",
   "execution_count": 9,
   "id": "38dcf1dc",
   "metadata": {},
   "outputs": [
    {
     "name": "stdout",
     "output_type": "stream",
     "text": [
      "[3]\n"
     ]
    }
   ],
   "source": [
    "#spam[int(int('3'*2)/11)]\n",
    "\n",
    "spam=[int(int('3'*2)/11)]\n",
    "print(spam)\n"
   ]
  },
  {
   "cell_type": "code",
   "execution_count": 14,
   "id": "015e12f9",
   "metadata": {},
   "outputs": [
    {
     "name": "stdout",
     "output_type": "stream",
     "text": [
      "<class 'list'>\n",
      "<class 'int'>\n"
     ]
    }
   ],
   "source": [
    "a=[int(int('3'*2)/11)]\n",
    "print(type(a))\n",
    "print(type(a[0]))"
   ]
  },
  {
   "cell_type": "code",
   "execution_count": null,
   "id": "50f03fc1",
   "metadata": {},
   "outputs": [],
   "source": [
    "Q4. What is the value of spam[-1]?\n",
    "\n",
    "Answer.\n",
    "Any integer expression can be used as an index:\n",
    "If an index has a negative value, it counts backward from the end of the list.\n",
    "we can use spam[-1] it's a slicing from backward of list \n",
    "   \n"
   ]
  },
  {
   "cell_type": "code",
   "execution_count": 16,
   "id": "13dcef2f",
   "metadata": {},
   "outputs": [
    {
     "name": "stdout",
     "output_type": "stream",
     "text": [
      "9\n"
     ]
    }
   ],
   "source": [
    "list=[1,2,3,4,5,6,7,8,9]\n",
    "print(list[-1])"
   ]
  },
  {
   "cell_type": "markdown",
   "id": "aaf4d527",
   "metadata": {},
   "source": [
    "Q5. What is the value of spam[:2]?\n",
    "\n",
    "Answer.\n",
    "The syntax for accessing the elements of a list is the same as the syntax for accessing the characters of a string.\n",
    "The expression inside the brackets specifies the index. Remember that the indices start at 0:\n",
    "\n",
    "\n",
    "\n"
   ]
  },
  {
   "cell_type": "code",
   "execution_count": 20,
   "id": "883d9860",
   "metadata": {},
   "outputs": [
    {
     "name": "stdout",
     "output_type": "stream",
     "text": [
      "[1, 2]\n",
      "[3.14, 'cat']\n"
     ]
    }
   ],
   "source": [
    "list=[1,2,3,4,5,6,7]  #index number start from zero:\n",
    "print(list[:2])       #[:2]this operation initialize with zero\n",
    "                       #and two here is last point.\n",
    "\n",
    "    \n",
    "    \n",
    "becon=[3.14,'cat',11,'cat']\n",
    "print(becon[:2])"
   ]
  },
  {
   "cell_type": "markdown",
   "id": "602a892b",
   "metadata": {},
   "source": [
    "Q6. What is the value of bacon.index('cat')?\n",
    "\n",
    "Answer.\n",
    "\n",
    "Index() is an inbuilt function in Python, which searches for a given element from the start of the list and returns the lowest index where the element appears"
   ]
  },
  {
   "cell_type": "code",
   "execution_count": 21,
   "id": "1f801aec",
   "metadata": {},
   "outputs": [
    {
     "name": "stdout",
     "output_type": "stream",
     "text": [
      "1\n"
     ]
    }
   ],
   "source": [
    "becon=[3.14,'cat',11,'cat']\n",
    "print(becon.index('cat'))"
   ]
  },
  {
   "cell_type": "code",
   "execution_count": null,
   "id": "88ed4d11",
   "metadata": {},
   "outputs": [],
   "source": [
    "Q7. How does bacon.append(99) change the look of the list value in bacon?\n",
    "\n",
    "Answer.\n",
    "The append() method in python adds a single item to the existing list. It doesn't return a new list of items\n",
    "but will modify the original list by adding the item to the end of the list.\n"
   ]
  },
  {
   "cell_type": "code",
   "execution_count": null,
   "id": "4e8606d5",
   "metadata": {},
   "outputs": [],
   "source": [
    "# create dinamice list:\n",
    "# use of append() function in this program:\n",
    "\n",
    "\n",
    "list=[]\n",
    "size=int(input(\"enter the size of list:\"))\n",
    "for i in range(size):\n",
    "    val=input(\"enter the element to list:\")\n",
    "\n",
    "    # here is append function:\n",
    "    \n",
    "    list.append(val)   \n",
    "print(\"original list = \",list)\n",
    "    "
   ]
  },
  {
   "cell_type": "code",
   "execution_count": null,
   "id": "600f0c06",
   "metadata": {},
   "outputs": [],
   "source": [
    "Q8. How does bacon.remove('cat') change the look of the list in bacon?\n",
    "\n",
    "Answer.\n",
    "Python List remove() is an inbuilt function in the Python programming language that removes a given object from the List.\n",
    "\n",
    "parameters;\n",
    "obj: object to be removed from the list.\n",
    "\n",
    "return;\n",
    "The method does not return any value but removes the given object from the list.\n",
    "\n"
   ]
  },
  {
   "cell_type": "code",
   "execution_count": 1,
   "id": "19917afd",
   "metadata": {},
   "outputs": [
    {
     "name": "stdout",
     "output_type": "stream",
     "text": [
      "[2, 1, 1, 4, 5]\n",
      "['b', 'c', 'd']\n"
     ]
    }
   ],
   "source": [
    "# Python program to demonstrate the use of\n",
    "# remove() method\n",
    " \n",
    "# the first occurrence of 1 is removed from the list\n",
    "list1 = [ 1, 2, 1, 1, 4, 5 ]\n",
    "list1.remove(1)\n",
    "print(list1)\n",
    " \n",
    "# removes 'a' from list2\n",
    "list2 = [ 'a', 'b', 'c', 'd' ]\n",
    "list2.remove('a')\n",
    "print(list2)"
   ]
  },
  {
   "cell_type": "code",
   "execution_count": null,
   "id": "e88aeab2",
   "metadata": {},
   "outputs": [],
   "source": [
    "Q9. What are the list concatenation and list replication operators?\n",
    "\n",
    "Answer.\n",
    "The operator for list concatenation is +, while the operator for replication is *.\n",
    "\n"
   ]
  },
  {
   "cell_type": "code",
   "execution_count": 5,
   "id": "78d9f97e",
   "metadata": {},
   "outputs": [
    {
     "name": "stdout",
     "output_type": "stream",
     "text": [
      "[1, 2, 3, 4, 5]\n",
      "[6, 7, 8, 9, 10]\n",
      "[1, 2, 3, 4, 5, 6, 7, 8, 9, 10]\n",
      "[1, 2, 3, 4, 5, 1, 2, 3, 4, 5]\n"
     ]
    }
   ],
   "source": [
    "# Python program to demonstrate the use of concatenation:\n",
    "# and replication \n",
    "\n",
    "list1=[1,2,3,4,5] #create first list:\n",
    "print(list1)\n",
    "\n",
    "list2=[6,7,8,9,10] #create second list:\n",
    "print(list2)\n",
    "\n",
    "list3=list1+list2  #concatenation two list\n",
    "\n",
    "print(list3)   \n",
    "\n",
    "\n",
    "#  replication:\n",
    "\n",
    "list1=[1,2,3,4,5]\n",
    "print(2*list1)"
   ]
  },
  {
   "cell_type": "code",
   "execution_count": null,
   "id": "2d58334f",
   "metadata": {},
   "outputs": [],
   "source": [
    "Q10. What is difference between the list methods append() and insert()?\n",
    "\n",
    "Answer.\n",
    "This function also modifies an already existing list. The only difference between append() and insert() is that\n",
    "insert function allows us to add a specific element at a specified index of the list unlike append() where we can\n",
    "add the element only at end of the list.\n",
    "\n",
    "\n"
   ]
  },
  {
   "cell_type": "code",
   "execution_count": 9,
   "id": "68c2a141",
   "metadata": {},
   "outputs": [
    {
     "name": "stdout",
     "output_type": "stream",
     "text": [
      "[1, 2, 3, 4, 5, 10]\n",
      "[1, 2, 3, 4, 5, 20]\n"
     ]
    }
   ],
   "source": [
    "# Python program to demonstrate the use of append and insert:\n",
    "# use of insert:\n",
    "list=[1,2,3,4,5]\n",
    "list.insert(5,10) # 5 value is here for indexing and 10 is insert value:\n",
    "print(list)\n",
    "\n",
    "\n",
    "\n",
    "#use of append:\n",
    "list=[1,2,3,4,5]\n",
    "list.append(20)\n",
    "print(list)\n"
   ]
  },
  {
   "cell_type": "code",
   "execution_count": null,
   "id": "734efd17",
   "metadata": {},
   "outputs": [],
   "source": [
    "Q11. What are the two methods for removing items from a list?\n",
    "\n",
    "Answer.\n",
    "In Python, there are many methods available on the list data type that helps you to remove an element from a given list. The methods are remove(), pop() and clear().\n",
    "\n",
    "remove() :It helps to remove the very first given element matching from the list.\n",
    "pop()    :The pop() method removes an element from the list based on the index given.\n",
    "clear()  :The clear() method will remove all the elements present in the list.\n",
    "    \n",
    "    \n",
    "    "
   ]
  },
  {
   "cell_type": "code",
   "execution_count": null,
   "id": "4fc70529",
   "metadata": {},
   "outputs": [],
   "source": [
    "Q12. Describe how list values and string values are identical.\n",
    "\n",
    "Answer.\n",
    "The similarity between Lists and Strings in Python is that both are sequences. The differences between them are that firstly,\n",
    "Lists are mutable but Strings are immutable. Secondly, elements of a list can be of different types whereas a String only \n",
    "contains characters that are all of String type.\n",
    "\n",
    "Both lists and strings can be passed to len(), have indexes and slices, be used in for loops, be concatenated or replicated,\n",
    "and be used with the in and not in operators.\n"
   ]
  },
  {
   "cell_type": "code",
   "execution_count": null,
   "id": "9269ba0b",
   "metadata": {},
   "outputs": [],
   "source": [
    "Q13. What's the difference between tuples and lists?\n",
    "\n",
    "Answer.\n",
    "The key difference between the tuples and lists is that while the tuples are \n",
    "immutable objects the lists are mutable. This means that tuples cannot be changed\n",
    "while the lists can be modified. Tuples are more memory efficient than the lists.\n",
    "\n",
    "List and Tuple in Python are the class of data structure. The list is dynamic, \n",
    "whereas the tuple has static characteristics.\n",
    "\n",
    "\n",
    "A Tuple is a collection of Python objects separated by commas. In someways a \n",
    "tuple is similar to a list in terms of indexing, nested objects and repetition but a \n",
    "tuple is immutable unlike lists which are mutable."
   ]
  },
  {
   "cell_type": "code",
   "execution_count": 10,
   "id": "a8e26e2e",
   "metadata": {},
   "outputs": [
    {
     "name": "stdout",
     "output_type": "stream",
     "text": [
      "('python', 'ambre')\n",
      "('python', 'ambre')\n",
      "Blank List: \n",
      "[]\n",
      "\n",
      "List of numbers: \n",
      "[10, 20, 14]\n"
     ]
    }
   ],
   "source": [
    "# Creating non-empty tuples\n",
    "  \n",
    "# One way of creation\n",
    "tup = 'python', 'ambre'\n",
    "print(tup)\n",
    "  \n",
    "# Another for doing the same\n",
    "tup = ('python', 'ambre')\n",
    "print(tup)\n",
    "\n",
    "\n",
    "# Python program to demonstrate\n",
    "# Creation of List\n",
    " \n",
    "# Creating a List\n",
    "List = []\n",
    "print(\"Blank List: \")\n",
    "print(List)\n",
    "\n",
    "\n",
    "# Creating a List of numbers\n",
    "List = [10, 20, 14]\n",
    "print(\"\\nList of numbers: \")\n",
    "print(List)"
   ]
  },
  {
   "cell_type": "code",
   "execution_count": null,
   "id": "bc438fdc",
   "metadata": {},
   "outputs": [],
   "source": [
    "Q14. How do you type a tuple value at only contains the integer 42?\n",
    "\n",
    "Answer. How do you type the tuple value that has just the integer value 42 in it? (42,) (The trailing comma is mandatory.)"
   ]
  },
  {
   "cell_type": "code",
   "execution_count": null,
   "id": "245c7380",
   "metadata": {},
   "outputs": [],
   "source": [
    "Q15. How do you get a list value's tuple form? How do you get a tuple value&#39;s list form?\n",
    "\n",
    "Answer.\n",
    "we can create a list of tuples using list and tuples directly."
   ]
  },
  {
   "cell_type": "code",
   "execution_count": 11,
   "id": "2ee68d5e",
   "metadata": {},
   "outputs": [
    {
     "data": {
      "text/plain": [
       "[(1, 'sravan'), (2, 'ojaswi'), (3, 'bobby'), (4, 'rohith'), (5, 'gnanesh')]"
      ]
     },
     "execution_count": 11,
     "metadata": {},
     "output_type": "execute_result"
    }
   ],
   "source": [
    "# create tuples with college id and\n",
    "# name and store in a list\n",
    "data = [(1, 'sravan'), (2, 'ojaswi'), (3, 'bobby'),\n",
    "        (4, 'rohith'), (5, 'gnanesh')]\n",
    "  \n",
    "# display data\n",
    "data\n",
    "\n",
    "\n",
    "\n",
    "# create two lists  with college id and name\n",
    "roll_no = [1, 2, 3, 4, 5]\n",
    "name = ['sravan', 'ojaswi', 'bobby', 'rohith', 'gnanesh']\n",
    "  \n",
    "# zip the two lists using zip() function\n",
    "data = list(zip(roll_no, name))\n",
    "  \n",
    "# display data\n",
    "data"
   ]
  },
  {
   "cell_type": "code",
   "execution_count": null,
   "id": "cde7597e",
   "metadata": {},
   "outputs": [],
   "source": [
    "Q16. Variables that \"contain\" list values are not necessarily lists themselves. Instead, what do they\n",
    "      countain?\n",
    "    \n",
    "Answer.List can contain values of these types:\n",
    "integers.\n",
    "floats.\n",
    "lists.\n",
    "tuples.\n",
    "all of these.\n",
    "\n"
   ]
  },
  {
   "cell_type": "code",
   "execution_count": null,
   "id": "2f9e89b1",
   "metadata": {},
   "outputs": [],
   "source": [
    "Q17. How do you distinguish between copy.copy() and copy.deepcopy()?\n",
    "\n",
    "Answer.\n",
    "copy():\n",
    "The Python copy() method creates a copy of an existing list. The copy() method is added \n",
    "to the end of a list object and so it does not accept any parameters. copy() returns a new list.\n",
    "Python includes a built-in function to support creating a shallow copy of a list:\n",
    "\n",
    "deepcopy():\n",
    "Deep copy is a process in which the copying process occurs recursively. It means first constructing \n",
    "a new collection object and then recursively populating it with copies of the child objects found in \n",
    "the original. In case of deep copy, a copy of object is copied in other object."
   ]
  },
  {
   "cell_type": "code",
   "execution_count": 4,
   "id": "643f7001",
   "metadata": {},
   "outputs": [
    {
     "name": "stdout",
     "output_type": "stream",
     "text": [
      "The original elements before deep copying\n",
      "1 2 [3, 5] 4 \r\n",
      "The new list of elements after deep copying \n",
      "1 2 [7, 5] 4 \r\n",
      "The original elements after deep copying\n",
      "1 2 [3, 5] 4 "
     ]
    }
   ],
   "source": [
    "# importing copy module\n",
    "import copy\n",
    "  \n",
    "# initializing list 1 \n",
    "li1 = [1, 2, [3,5], 4]\n",
    "  \n",
    "  \n",
    "# using copy for shallow copy  \n",
    "li2 = copy.copy(li1) \n",
    "  \n",
    "# using deepcopy for deepcopy  \n",
    "li3 = copy.deepcopy(li1) \n",
    "\n",
    "\n",
    "\n",
    "\n",
    "# Python code to demonstrate copy operations\n",
    "  \n",
    "# importing \"copy\" for copy operations\n",
    "import copy\n",
    "  \n",
    "# initializing list 1\n",
    "li1 = [1, 2, [3,5], 4]\n",
    "  \n",
    "# using deepcopy to deep copy \n",
    "li2 = copy.deepcopy(li1)\n",
    "  \n",
    "# original elements of list\n",
    "print (\"The original elements before deep copying\")\n",
    "for i in range(0,len(li1)):\n",
    "    print (li1[i],end=\" \")\n",
    "  \n",
    "print(\"\\r\")\n",
    "  \n",
    "# adding and element to new list\n",
    "li2[2][0] = 7\n",
    "\n",
    "# Change is reflected in l2 \n",
    "print (\"The new list of elements after deep copying \")\n",
    "for i in range(0,len( li1)):\n",
    "    print (li2[i],end=\" \")\n",
    "  \n",
    "print(\"\\r\")\n",
    "  \n",
    "# Change is NOT reflected in original list\n",
    "# as it is a deep copy\n",
    "print (\"The original elements after deep copying\")\n",
    "for i in range(0,len( li1)):\n",
    "    print (li1[i],end=\" \")"
   ]
  },
  {
   "cell_type": "code",
   "execution_count": null,
   "id": "8ee16170",
   "metadata": {},
   "outputs": [],
   "source": []
  }
 ],
 "metadata": {
  "kernelspec": {
   "display_name": "Python 3",
   "language": "python",
   "name": "python3"
  },
  "language_info": {
   "codemirror_mode": {
    "name": "ipython",
    "version": 3
   },
   "file_extension": ".py",
   "mimetype": "text/x-python",
   "name": "python",
   "nbconvert_exporter": "python",
   "pygments_lexer": "ipython3",
   "version": "3.8.8"
  }
 },
 "nbformat": 4,
 "nbformat_minor": 5
}
