{
 "cells": [
  {
   "cell_type": "code",
   "execution_count": null,
   "id": "3d41f427",
   "metadata": {},
   "outputs": [],
   "source": [
    "Q1. In what modes should the PdfFileReader() and PdfFileWriter() File objects will be opened?\n",
    "\n",
    "Answer.\n",
    "PdfFileReader() needs to be opened in read-binary mode by passing 'rb' as the second argument to open(). \n",
    "Likewise, the File object passed to PyPDF2. PdfFileWriter() needs to be opened in write-binary mode with 'wb'.\n"
   ]
  },
  {
   "cell_type": "code",
   "execution_count": null,
   "id": "12f2d5d7",
   "metadata": {},
   "outputs": [],
   "source": [
    "import pypdf2\n",
    "\n",
    "# create  pdf file object:\n",
    "pdfFileObj  = open(\"examlpe.pdf\",\"rb\")\n",
    "pdfReader = pypdf2.pdfFileReader(minutesFile)\n",
    "\n",
    "#create  pdf file to writing:\n",
    "pdfFileobj = open(\"example.pdf\",\"wb\")\n",
    "pdfwriter = pypdf2.pdfFileWriter()\n",
    " \n"
   ]
  },
  {
   "cell_type": "code",
   "execution_count": null,
   "id": "e61f81a0",
   "metadata": {},
   "outputs": [],
   "source": [
    "Q2. From a PdfFileReader object, how do you get a Page object for page 5?\n",
    "\n",
    "Answer.\n",
    "To extract text from a page, you need to get a Page object, which represents a single page of a PDF, from a PdfFileReader object. \n",
    "You can get a Page object by calling the getPage() method ➋ on a PdfFileReader object and passing it the page number of the page \n",
    "you're interested in—in our case, 0.\n",
    "\n"
   ]
  },
  {
   "cell_type": "code",
   "execution_count": 1,
   "id": "ab1bf5ff",
   "metadata": {},
   "outputs": [
    {
     "name": "stdout",
     "output_type": "stream",
     "text": [
      "Note: you may need to restart the kernel to use updated packages.\n"
     ]
    },
    {
     "name": "stderr",
     "output_type": "stream",
     "text": [
      "'C:\\Users\\ambreesh' is not recognized as an internal or external command,\n",
      "operable program or batch file.\n"
     ]
    }
   ],
   "source": [
    "pip install pypdf2"
   ]
  },
  {
   "cell_type": "code",
   "execution_count": 2,
   "id": "3c7a51e8",
   "metadata": {},
   "outputs": [
    {
     "ename": "FileNotFoundError",
     "evalue": "[Errno 2] No such file or directory: 'document.pdf'",
     "output_type": "error",
     "traceback": [
      "\u001b[1;31m---------------------------------------------------------------------------\u001b[0m",
      "\u001b[1;31mFileNotFoundError\u001b[0m                         Traceback (most recent call last)",
      "\u001b[1;32m<ipython-input-2-934c6832d005>\u001b[0m in \u001b[0;36m<module>\u001b[1;34m\u001b[0m\n\u001b[0;32m      2\u001b[0m \u001b[1;33m\u001b[0m\u001b[0m\n\u001b[0;32m      3\u001b[0m \u001b[1;33m\u001b[0m\u001b[0m\n\u001b[1;32m----> 4\u001b[1;33m \u001b[0mpdfFileObj\u001b[0m \u001b[1;33m=\u001b[0m \u001b[0mopen\u001b[0m\u001b[1;33m(\u001b[0m\u001b[1;34m\"document.pdf\"\u001b[0m\u001b[1;33m,\u001b[0m\u001b[1;34m\"rb\"\u001b[0m\u001b[1;33m)\u001b[0m\u001b[1;33m\u001b[0m\u001b[1;33m\u001b[0m\u001b[0m\n\u001b[0m\u001b[0;32m      5\u001b[0m \u001b[1;33m\u001b[0m\u001b[0m\n\u001b[0;32m      6\u001b[0m \u001b[0mpdfReader\u001b[0m \u001b[1;33m=\u001b[0m \u001b[0mpypdf\u001b[0m\u001b[1;33m.\u001b[0m\u001b[0mpdfFileReader\u001b[0m\u001b[1;33m(\u001b[0m\u001b[0mpdfFileObj\u001b[0m\u001b[1;33m)\u001b[0m\u001b[1;33m\u001b[0m\u001b[1;33m\u001b[0m\u001b[0m\n",
      "\u001b[1;31mFileNotFoundError\u001b[0m: [Errno 2] No such file or directory: 'document.pdf'"
     ]
    }
   ],
   "source": [
    "import PyPDF2\n",
    "\n",
    "\n",
    "pdfFileObj = open(\"document.pdf\",\"rb\")\n",
    "\n",
    "pdfReader = pypdf.pdfFileReader(pdfFileObj)\n",
    "\n",
    "print(pdfReader.numPages)\n",
    "\n",
    "pageObj = pdfReader.getPage(0)\n",
    "\n",
    "print(pageObj.extractTxt())"
   ]
  },
  {
   "cell_type": "code",
   "execution_count": null,
   "id": "2415b79f",
   "metadata": {},
   "outputs": [],
   "source": [
    "Q3. What PdfFileReader variable stores the number of pages in the PDF document?\n",
    "\n",
    "Answer.\n",
    "The total number of pages in the document is stored in the numPages attribute of a PdfFileReader object\n"
   ]
  },
  {
   "cell_type": "code",
   "execution_count": null,
   "id": "c20bffe3",
   "metadata": {},
   "outputs": [],
   "source": [
    "pdfFileObj = open(\"document.pdf\",\"rb\")\n",
    "\n",
    "pdfReader = pypdf.pdfFileReader(pdfFileObj)\n",
    "\n",
    "\n",
    "# this variable stor the number of page.\n",
    "pdfFileReader_ variable = pdfReader.numPages\n"
   ]
  },
  {
   "cell_type": "code",
   "execution_count": null,
   "id": "6ab77de6",
   "metadata": {},
   "outputs": [],
   "source": [
    "Q4. If a PdfFileReader object’s PDF is encrypted with the password swordfish, what must you do\n",
    "before you can obtain Page objects from it?\n",
    "\n",
    "Answer.\n",
    "First, We will open our PDF file with the reader object. Then, we will create a copy of the original file so that if something goes wrong, \n",
    "it doesn’t affect our original file. To create a copy, we have to iterate through every page of the file and add it to our new PDF file. Then, \n",
    "we can simply encrypt our new PDF file.\n",
    "\n"
   ]
  },
  {
   "cell_type": "code",
   "execution_count": null,
   "id": "d7830813",
   "metadata": {},
   "outputs": [],
   "source": [
    "# import pypdf2\n",
    "\n",
    "import pypdf2\n",
    "\n",
    "# ceate a pdfFileWriter object\n",
    "out = pdfFileWriter()\n",
    "\n",
    "# open our pdf file with the psdFileReader\n",
    "file = pdfFileReader(\"myfile.pdf\")\n",
    "\n",
    "# get number of pages in original file\n",
    "num = file.numPages\n",
    "\n",
    "# itarete through every page of the original\n",
    "# file and add it to our file\n",
    "for idx in range(num):\n",
    "    \n",
    "    \n",
    "    # get the page st index idx\n",
    "    page = file.getPage(idx)\n",
    "    \n",
    "    \n",
    "    #Add it to the output file\n",
    "    out.addPage(page)\n",
    "# create a variable password and store\n",
    "# our password in it.\n",
    "\n",
    "password = \"pass\"\n",
    "\n",
    "\n",
    "#encrypt the new file with the entered password\n",
    "out.encrypt(password)\n",
    "\n",
    "# open a new file \"myfile_encrypted.pdf\"\n",
    "with open (\"myfile_encrypted.pdf\",wb) as f:\n",
    "    \n",
    "    # write our encryted pdf to this file\n",
    "    out.write(f)\n",
    "\n",
    "\n",
    "\n",
    "\n"
   ]
  },
  {
   "cell_type": "code",
   "execution_count": 3,
   "id": "c1986a5e",
   "metadata": {},
   "outputs": [],
   "source": [
    "Q5. What methods do you use to rotate a page?\n",
    "\n",
    "Answer.\n",
    "We can rotate a page clockwise or counter-clockwise by an angle. The PdfFileWriter is used to write the PDF file from the source PDF. \n",
    "We are using rotateClockwise(90) method to rotate the page clockwise by 90-degrees. We are adding the rotated pages to the PdfFileWriter instance.\n",
    "\n",
    "Rotated pages will be written to a new pdf. For writing to pdfs, we use object of PdfFileWriter class of PyPDF2 module.\n",
    "\n"
   ]
  },
  {
   "cell_type": "code",
   "execution_count": null,
   "id": "bf9c4481",
   "metadata": {},
   "outputs": [],
   "source": [
    "#rotating each page:\n",
    "\n",
    "for page in range(pdfrReader.numPages):\n",
    "    pageObj = pdfReader.getPage(page)\n",
    "    pageObj = rotateclockwise(rotattion)\n",
    "    pdfwrite.addPage(pageObj)\n",
    "    \n",
    "    \n",
    "    \n"
   ]
  },
  {
   "cell_type": "code",
   "execution_count": null,
   "id": "3c70cd6f",
   "metadata": {},
   "outputs": [],
   "source": [
    "Q6. What is the difference between a Run object and a Paragraph object?\n",
    "\n",
    "Amswer.\n",
    "Paragraph objects¶ ... Append a run to this paragraph containing text and having character style identified by style ID style. \n",
    "text can contain tab ( \\t ) characters, which are converted to the appropriate XML form for a tab.\n",
    "\n",
    "The official definition is:\n",
    "A run is the object most closely associated with inline content; text, pictures, and other items \n",
    "that are flowed between the block-item boundaries within a paragraph\n",
    "\n"
   ]
  },
  {
   "cell_type": "code",
   "execution_count": null,
   "id": "252cedb4",
   "metadata": {},
   "outputs": [],
   "source": [
    "Q7. How do you obtain a list of Paragraph objects for a Document object that’s stored in a variable\n",
    "named doc?\n",
    "\n",
    "Answer.\n"
   ]
  },
  {
   "cell_type": "code",
   "execution_count": null,
   "id": "a5fea1b3",
   "metadata": {},
   "outputs": [],
   "source": [
    "# import the document class from the docx module;\n",
    "from docx import document\n",
    "\n",
    "# create the instace of a word document ew want to open \n",
    "doc = document(\"path_to_the_document\")\n",
    "\n",
    "\n",
    "# print the list of paragraph in the document;\n",
    "print(\"list of paragraph object:\")\n",
    "print(doc.paragraphs)\n",
    "\n",
    "#print the list of the runs in a specified paragraph;\n",
    "print(\"\\nlist of runs obects in 1st paragraph\")\n",
    "print(doc.paragraphs[0].runs)\n",
    "\n",
    "# print the text in a paragraph;\n",
    "print(\"\\nText in the 1st paragraph;\")\n",
    "print(doc.paragraphs[0].text)\n",
    "\n",
    "# for printing the comlete document;\n",
    "print(\"\\nThe whole content of the document:\")\n",
    "for para in doc.paragraphs:\n",
    "    print(para.text)\n",
    "    \n",
    "\n",
    "\n"
   ]
  },
  {
   "cell_type": "code",
   "execution_count": null,
   "id": "f5c9c9b3",
   "metadata": {},
   "outputs": [],
   "source": [
    "Q8. What type of object has bold, underline, italic, strike, and outline variables?\n",
    "\n",
    "Answer.\n",
    "Runs can be further styled using text attributes. Each attribute can be set to one of three values: \n",
    "True (the attribute is always enabled, no matter what other styles are applied to the run), False \n",
    "(the attribute is always disabled), or None (defaults to whatever the run’s style is set to).\n",
    "\n",
    "bold\n",
    "\n",
    "The text appears in bold.\n",
    "\n",
    "italic\n",
    "\n",
    "The text appears in italic.\n",
    "\n",
    "underline\n",
    "\n",
    "The text is underlined.\n",
    "\n",
    "Strike\n",
    "\n",
    "The text appears with strikethrough.\n",
    "\n",
    "\n"
   ]
  },
  {
   "cell_type": "code",
   "execution_count": null,
   "id": "5e8c2754",
   "metadata": {},
   "outputs": [],
   "source": [
    "Q9. What is the difference between False, True, and None for the bold variable?\n",
    "\n",
    "Answer.\n",
    "In your example, True / False are used where the field takes a boolean value. None is used where the field takes an Optional[List].\n",
    "\n",
    "\n",
    "True and False are specific bool values. Use default False when you have a bool field and you want the default to be False.Don't use False as a value for a non-bool field.\n",
    "\n",
    "None is used as a generic placeholder when the value will be set later. It can be typed as Optional[T], which is equivalent to Union[T, None].\n",
    "\n",
    "You might be thinking of None and False as similar because they're both \"falsy\" (bool(x) returns False), but the same is true of several other values, [] () {} 0 0.0, \n",
    "etc and we don't use them like None either.\n",
    "\n",
    "In your example, True/False are used where the field takes a boolean value. None is used where the field takes an Optional[List]. (The exception is sort: Optional[bool], \n",
    "which is being used temporarily as an ad-hoc compatibility tool for a deprecated behavior.)"
   ]
  },
  {
   "cell_type": "code",
   "execution_count": null,
   "id": "f6c0490b",
   "metadata": {},
   "outputs": [],
   "source": [
    "Q10. How do you create a Document object for a new Word document?\n"
   ]
  },
  {
   "cell_type": "code",
   "execution_count": null,
   "id": "02e43edd",
   "metadata": {},
   "outputs": [],
   "source": [
    "# we have to do first import the module, and then have to  create the document object for new word document.\n",
    "# and create an instance of a word document \n",
    "\n",
    "import docx\n",
    "\n",
    "# create an instance of a word document\n",
    "doc = docx.document()\n",
    "\n",
    "# add a heading of level 0 (largest heading)\n",
    "doc.add_heading(\"header for the document\")\n",
    "\n",
    "#Add a paragraph and store the object in a variabl;\n",
    "doc_para = doc.add_paragraph(\"your paragraph goes here,\")\n",
    "\n",
    "# add a run i.e, style like \n",
    "# bold, italic, underline, etc.\n",
    "doc_para.add_run('hey there, bold here').bold = True\n",
    "doc_para.add_run(', and ')\n",
    "doc_para.add_run('these words are italic').italic = True\n",
    "  \n",
    "# add a page break to start a new page\n",
    "doc.add_page_break()\n",
    "  \n",
    "# add a heading of level 2\n",
    "doc.add_heading('Heading level 2', 2)\n",
    "  \n",
    "# pictures can also be added to our word document\n",
    "# width is optional\n",
    "doc.add_picture('path_to_picture')\n",
    "  \n",
    "# now save the document to a location\n",
    "doc.save('path_to_document')\n"
   ]
  },
  {
   "cell_type": "code",
   "execution_count": null,
   "id": "6b3eac75",
   "metadata": {},
   "outputs": [],
   "source": [
    "Q11. How do you add a paragraph with the text 'hello' to a Document object stored in a\n",
    "variable named"
   ]
  },
  {
   "cell_type": "code",
   "execution_count": null,
   "id": "8e8146a5",
   "metadata": {},
   "outputs": [],
   "source": [
    "#we have to do first import the docx \n",
    "# second is create a variable named doc\n",
    "#third is Add the text use by add.paragraph\n",
    "\n",
    "#and save the text with 'doc.save function'.\n",
    "\n",
    "import docx\n",
    "doc = docx.document()\n",
    "doc.add_paragraph(\"hello world !\")\n",
    "doc.save(\"helloworld.docx\")\n",
    "\n"
   ]
  },
  {
   "cell_type": "code",
   "execution_count": null,
   "id": "6db02ba3",
   "metadata": {},
   "outputs": [],
   "source": [
    "Q12. What integers represent the levels of headings available in Word documents?\n",
    "\n",
    "Answer.\n",
    "The arguments to add_heading() are a string of the heading text and an integer from 0 to 4. The integer 0 makes the heading the Title style, \n",
    "which is used for the top of the document. Integers 1 to 4 are for various heading levels, with 1 being the main heading and 4 the lowest subheading. \n",
    "The add_heading() function returns a Paragraph object to save you the step of extracting it from the Document object as a separate step."
   ]
  },
  {
   "cell_type": "code",
   "execution_count": null,
   "id": "b543d353",
   "metadata": {},
   "outputs": [],
   "source": [
    "doc = docx.document()\n",
    "\n",
    "doc.add_heading(\"Header 0\",0)\n",
    "\n",
    "doc.add_heading(\"header 1\",1)\n",
    "\n",
    "doc.add_heading(\"header 2\",2)\n",
    "\n",
    "doc.add_heading(\"header 3\",3)\n",
    "\n",
    "doc.add_heading(\"header 4\",4)\n",
    "\n",
    "doc.save(\"header.docx\")\n",
    "\n"
   ]
  }
 ],
 "metadata": {
  "kernelspec": {
   "display_name": "Python 3",
   "language": "python",
   "name": "python3"
  },
  "language_info": {
   "codemirror_mode": {
    "name": "ipython",
    "version": 3
   },
   "file_extension": ".py",
   "mimetype": "text/x-python",
   "name": "python",
   "nbconvert_exporter": "python",
   "pygments_lexer": "ipython3",
   "version": "3.8.8"
  }
 },
 "nbformat": 4,
 "nbformat_minor": 5
}
