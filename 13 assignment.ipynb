{
 "cells": [
  {
   "cell_type": "code",
   "execution_count": null,
   "id": "bf522bc5",
   "metadata": {},
   "outputs": [],
   "source": [
    "Q1. What advantages do Excel spreadsheets have over CSV spreadsheets?\n",
    "\n",
    "Answer.\n",
    "\n",
    "Excel is a binary file format that holds information for all workbooks, and it is used in all worksheets. \n",
    "On the other hand, CSV stands for Comma Separated Values. CSV is in plain text format information with a \n",
    "\n",
    "series of values in a sheet and is separated by Commas. CSV is a text which is full of information and is less compatible against excel\n",
    "CSV files are formatted and exported from all databases; it is just a source of information; a CSV file can be generated from any database, \n",
    "i.e. Oracle, SQL, Server, MySQL, Sybase, informatics, access, excel, database, etc\n",
    "Excel is not a measure of a store of information only, but also it is a tool for a financial analyst to perform a deep analysis of data and numbers.\n",
    "An analyst can build profit and loss statements, do ratio analysis, make summaries of huge data, and performs functions and formulas in excel format; \n",
    "it is not just a store of information. On the other hand, we compare excel with CSV; CSV is only a plain text form of data set which does not enable the \n",
    "user to perform any deep-dive analysis on the data set and apply functions.\n",
    "Excel is more superior when compared with the CSV file format; thus, CSV consumes less amount of file size when the user is importing data; it is a much \n",
    "faster format compared to excel. CSV does not manipulate data and stores it as-is. Excel also allows the user the add-in feature."
   ]
  },
  {
   "cell_type": "code",
   "execution_count": null,
   "id": "f770ea68",
   "metadata": {},
   "outputs": [],
   "source": [
    "Q2. What do you pass to csv.reader() and csv.writer() to create reader and writer objects?\n",
    "\n",
    "Answer.\n",
    "CSV (Comma Separated Values) is a simple file format used to store tabular data, such as a spreadsheet or database. \n",
    "A CSV file stores tabular data (numbers and text) in plain text. Each line of the file is a data record. \n",
    "Each record consists of one or more fields, separated by commas. The use of the comma as a field separator \n",
    "is the source of the name for this file format.\n",
    "\n",
    "\n"
   ]
  },
  {
   "cell_type": "code",
   "execution_count": 1,
   "id": "c9e2da8b",
   "metadata": {},
   "outputs": [],
   "source": [
    "# import csv module:\n",
    "import csv\n",
    "\n",
    "#csv file name\n",
    "fi"
   ]
  }
 ],
 "metadata": {
  "kernelspec": {
   "display_name": "Python 3",
   "language": "python",
   "name": "python3"
  },
  "language_info": {
   "codemirror_mode": {
    "name": "ipython",
    "version": 3
   },
   "file_extension": ".py",
   "mimetype": "text/x-python",
   "name": "python",
   "nbconvert_exporter": "python",
   "pygments_lexer": "ipython3",
   "version": "3.8.8"
  }
 },
 "nbformat": 4,
 "nbformat_minor": 5
}
