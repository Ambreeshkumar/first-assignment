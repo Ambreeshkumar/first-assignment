{
 "cells": [
  {
   "cell_type": "code",
   "execution_count": null,
   "id": "bf522bc5",
   "metadata": {},
   "outputs": [],
   "source": [
    "Q1. What advantages do Excel spreadsheets have over CSV spreadsheets?\n",
    "\n",
    "Answer.\n",
    "\n",
    "Excel is a binary file format that holds information for all workbooks, and it is used in all worksheets. \n",
    "On the other hand, CSV stands for Comma Separated Values. CSV is in plain text format information with a \n",
    "\n",
    "series of values in a sheet and is separated by Commas. CSV is a text which is full of information and is less compatible against excel\n",
    "CSV files are formatted and exported from all databases; it is just a source of information; a CSV file can be generated from any database, \n",
    "i.e. Oracle, SQL, Server, MySQL, Sybase, informatics, access, excel, database, etc\n",
    "Excel is not a measure of a store of information only, but also it is a tool for a financial analyst to perform a deep analysis of data and numbers.\n",
    "An analyst can build profit and loss statements, do ratio analysis, make summaries of huge data, and performs functions and formulas in excel format; \n",
    "it is not just a store of information. On the other hand, we compare excel with CSV; CSV is only a plain text form of data set which does not enable the \n",
    "user to perform any deep-dive analysis on the data set and apply functions.\n",
    "Excel is more superior when compared with the CSV file format; thus, CSV consumes less amount of file size when the user is importing data; it is a much \n",
    "faster format compared to excel. CSV does not manipulate data and stores it as-is. Excel also allows the user the add-in feature."
   ]
  },
  {
   "cell_type": "code",
   "execution_count": null,
   "id": "f770ea68",
   "metadata": {},
   "outputs": [],
   "source": [
    "Q2. What do you pass to csv.reader() and csv.writer() to create reader and writer objects?\n",
    "\n",
    "Answer.\n",
    "CSV (Comma Separated Values) is a simple file format used to store tabular data, such as a spreadsheet or database. \n",
    "A CSV file stores tabular data (numbers and text) in plain text. Each line of the file is a data record. \n",
    "Each record consists of one or more fields, separated by commas. The use of the comma as a field separator \n",
    "is the source of the name for this file format.\n",
    "\n",
    "\n"
   ]
  },
  {
   "cell_type": "code",
   "execution_count": null,
   "id": "a281e06a",
   "metadata": {},
   "outputs": [],
   "source": [
    "# this code to raead the data in csv_file;\n",
    "\n",
    "# first is import the csv \n",
    "import csv\n",
    "\n",
    "# open the csv file with 'with open ' and create bject\n",
    "with open('data.csv', 'r',) as file:\n",
    "    \n",
    "    # create a variable to read the file 'with  csv.reader function';\n",
    "    reader = csv.reader(file, delimiter = '\\t')\n",
    "    \n",
    "    # print the row data halp with for loop, this loop itarate the row'\n",
    "    for row in reader:\n",
    "        print(row)"
   ]
  },
  {
   "cell_type": "code",
   "execution_count": 5,
   "id": "4567905c",
   "metadata": {},
   "outputs": [],
   "source": [
    "# this code for write the file;\n",
    "#first is import the csv module;\n",
    "\n",
    "import csv\n",
    "with open(\"data.csv\",\"w\") as file:\n",
    "    writer = csv.writer(file)\n",
    "    writer.writerow([\"SN\", \"Movie\", \"Protagonist\"])\n",
    "    writer.writerow([1,\"Lord of the Rings\", \"Frodo Baggins\"])\n",
    "    writer.writerow([2,\"Harry Potter\", \"Harry Potter\"])"
   ]
  },
  {
   "cell_type": "code",
   "execution_count": null,
   "id": "b8a5b127",
   "metadata": {},
   "outputs": [],
   "source": [
    "Q3. What modes do File objects for reader and writer objects need to be opened in?\n",
    "\n",
    "Answer.\n",
    "In order to open a file for reading or writing purposes, we must use the built-in open() function. The open() function uses two arguments.\n",
    "The open() function uses two arguments. First is the name of the file and second is for what purpose we want to open it .i.e. for reading\n",
    "or writing?\n",
    "\n",
    "'r’ = Open a file for reading. (default)\n",
    "\n",
    "‘w’\tOpen a file for writing. Creates a new file if it does not exist or truncates the file if it exists.\n",
    "\n",
    "The syntax to open a file object in python is:\n",
    "File_obj = open(“filename”, “mode”)\n",
    "\n",
    "\n",
    "f = open(\"pytube1.py\") #equivalent to 'r' or 'rt'\n",
    "\n",
    "f = open(\"pytube1.py\", \"w\")"
   ]
  },
  {
   "cell_type": "code",
   "execution_count": null,
   "id": "303281b6",
   "metadata": {},
   "outputs": [],
   "source": [
    "Q4. What method takes a list argument and writes it to a CSV file?\n",
    "\n",
    "Answer.\n",
    "The csv. writer writerow method takes an iterable as an argument. Your result set has to be a list (rows) of lists (columns).\n"
   ]
  },
  {
   "cell_type": "code",
   "execution_count": null,
   "id": "30d3e653",
   "metadata": {},
   "outputs": [],
   "source": [
    "import csv\n",
    "RESULTS = [\n",
    "    ['apple','cherry','orange','pineapple','strawberry']\n",
    "]\n",
    "with open('output.csv','w') as result_file:\n",
    "    wr = csv.writer(result_file, dialect='excel')\n",
    "    wr.writerows(RESULTS)"
   ]
  },
  {
   "cell_type": "code",
   "execution_count": null,
   "id": "173bb52f",
   "metadata": {},
   "outputs": [],
   "source": [
    "Q5. What do the keyword arguments delimiter and line terminator do?\n",
    "\n",
    "Answer.\n",
    "The line terminator is the character that comes at the end of a row. By default, the line terminator is a newline. You can change characters to different values by using the delimiter and lineterminator keyword arguments with csv. writer() ."
   ]
  },
  {
   "cell_type": "code",
   "execution_count": null,
   "id": "e81ec8f3",
   "metadata": {},
   "outputs": [],
   "source": [
    "Q6. What function takes a string of JSON data and returns a Python data structure?\n",
    "\n",
    "Answer.\n",
    "JSONDecoder class is used for deserialization of any Python object while performing decoding. It contains three different methods of decoding which are\n",
    "\n",
    "default(o) – Implemented in the subclass and return deserialized object o object.\n",
    "decode(o) – Same as json.loads() method return Python data structure of JSON string or data.\n",
    "raw_decode(o) – Represent Python dictionary one by one and decode object o.\n",
    "\n",
    "With the help of decode() method of JSONDecoder class, we can also decode JSON string as shown in below Python JSON decoder example.\n"
   ]
  },
  {
   "cell_type": "code",
   "execution_count": 7,
   "id": "5e5bc223",
   "metadata": {},
   "outputs": [
    {
     "data": {
      "text/plain": [
       "{'colour': ['red', 'yellow']}"
      ]
     },
     "execution_count": 7,
     "metadata": {},
     "output_type": "execute_result"
    }
   ],
   "source": [
    "import json\n",
    "# import JSONDecoder class from json\n",
    "from json.decoder import JSONDecoder\n",
    "colour_string = '{ \"colour\": [\"red\", \"yellow\"]}'\n",
    "# directly called decode method of JSON\n",
    "JSONDecoder().decode(colour_string)"
   ]
  },
  {
   "cell_type": "code",
   "execution_count": null,
   "id": "47f16457",
   "metadata": {},
   "outputs": [],
   "source": [
    "Q7. What function takes a Python data structure and returns a string of JSON data?\n",
    "\n",
    "Answer. \n",
    "The full form of JSON is JavaScript Object Notation. It means that a script (executable) file which is made of text in a \n",
    "programming language, is used to store and transfer the data. Python supports JSON through a built-in package called JSON. \n",
    "To use this feature, we import the JSON package in Python script. The text in JSON is done through quoted-string which \n",
    "contains the value in key-value mapping within { }. It is similar to the dictionary in Python. JSON shows an API similar \n",
    "to users of Standard Library marshal and pickle modules and Python natively supports JSON features. For Example  \n",
    "\n"
   ]
  },
  {
   "cell_type": "code",
   "execution_count": null,
   "id": "938d252e",
   "metadata": {},
   "outputs": [],
   "source": [
    "# Python program showing\n",
    "# use of json package\n",
    " \n",
    "import json\n",
    " \n",
    "# {key:value mapping}\n",
    "a ={\"name\":\"John\",\n",
    "   \"age\":31,\n",
    "    \"Salary\":25000}\n",
    " \n",
    "# conversion to JSON done by dumps() function\n",
    " b = json.dumps(a)\n",
    " \n",
    "# printing the output\n",
    "print(b)"
   ]
  }
 ],
 "metadata": {
  "kernelspec": {
   "display_name": "Python 3",
   "language": "python",
   "name": "python3"
  },
  "language_info": {
   "codemirror_mode": {
    "name": "ipython",
    "version": 3
   },
   "file_extension": ".py",
   "mimetype": "text/x-python",
   "name": "python",
   "nbconvert_exporter": "python",
   "pygments_lexer": "ipython3",
   "version": "3.8.8"
  }
 },
 "nbformat": 4,
 "nbformat_minor": 5
}
