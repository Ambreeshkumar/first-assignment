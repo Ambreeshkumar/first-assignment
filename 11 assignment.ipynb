{
 "cells": [
  {
   "cell_type": "code",
   "execution_count": null,
   "id": "d7972a65",
   "metadata": {},
   "outputs": [],
   "source": [
    "Q1. Create an assert statement that throws an AssertionError if the variable spam is a negative\n",
    "integer.\n",
    "\n",
    "Answer.\n",
    "In Python, the assert statement is used to continue the execute if the given condition evaluates to True. \n",
    "If the assert condition evaluates to False, then it raises the AssertionError exception with the specified error message.\n",
    "\n"
   ]
  },
  {
   "cell_type": "code",
   "execution_count": 5,
   "id": "71159106",
   "metadata": {},
   "outputs": [
    {
     "name": "stdout",
     "output_type": "stream",
     "text": [
      "the value of a / b is:\n"
     ]
    },
    {
     "ename": "AssertionError",
     "evalue": "zero division error",
     "output_type": "error",
     "traceback": [
      "\u001b[1;31m---------------------------------------------------------------------------\u001b[0m",
      "\u001b[1;31mAssertionError\u001b[0m                            Traceback (most recent call last)",
      "\u001b[1;32m<ipython-input-5-439893959e3b>\u001b[0m in \u001b[0;36m<module>\u001b[1;34m\u001b[0m\n\u001b[0;32m      6\u001b[0m \u001b[1;31m#using assert to check for 0\u001b[0m\u001b[1;33m\u001b[0m\u001b[1;33m\u001b[0m\u001b[1;33m\u001b[0m\u001b[0m\n\u001b[0;32m      7\u001b[0m \u001b[0mprint\u001b[0m\u001b[1;33m(\u001b[0m\u001b[1;34m\"the value of a / b is:\"\u001b[0m\u001b[1;33m)\u001b[0m\u001b[1;33m\u001b[0m\u001b[1;33m\u001b[0m\u001b[0m\n\u001b[1;32m----> 8\u001b[1;33m \u001b[1;32massert\u001b[0m \u001b[0mb\u001b[0m\u001b[1;33m!=\u001b[0m\u001b[1;36m0\u001b[0m\u001b[1;33m,\u001b[0m\u001b[1;34m\"zero division error\"\u001b[0m\u001b[1;33m\u001b[0m\u001b[1;33m\u001b[0m\u001b[0m\n\u001b[0m\u001b[0;32m      9\u001b[0m \u001b[0mprint\u001b[0m\u001b[1;33m(\u001b[0m\u001b[0ma\u001b[0m\u001b[1;33m/\u001b[0m\u001b[0mb\u001b[0m\u001b[1;33m)\u001b[0m\u001b[1;33m\u001b[0m\u001b[1;33m\u001b[0m\u001b[0m\n",
      "\u001b[1;31mAssertionError\u001b[0m: zero division error"
     ]
    }
   ],
   "source": [
    "# code for demonstrate working of assert\n",
    "\n",
    "a = 4\n",
    "b = 0\n",
    "\n",
    "#using assert to check for 0\n",
    "print(\"the value of a / b is:\")\n",
    "assert b!=0,\"zero division error\"\n",
    "print(a/b)"
   ]
  },
  {
   "cell_type": "code",
   "execution_count": 7,
   "id": "bc626402",
   "metadata": {},
   "outputs": [
    {
     "name": "stdout",
     "output_type": "stream",
     "text": [
      "49is o.k\n",
      "26is o.k\n",
      "39is o.k\n",
      "30is o.k\n"
     ]
    },
    {
     "ename": "AssertionError",
     "evalue": "barch is rejected",
     "output_type": "error",
     "traceback": [
      "\u001b[1;31m---------------------------------------------------------------------------\u001b[0m",
      "\u001b[1;31mAssertionError\u001b[0m                            Traceback (most recent call last)",
      "\u001b[1;32m<ipython-input-7-eb77d414d311>\u001b[0m in \u001b[0;36m<module>\u001b[1;34m\u001b[0m\n\u001b[0;32m     10\u001b[0m \u001b[1;31m# using assert to check for temperature greater then cut\u001b[0m\u001b[1;33m\u001b[0m\u001b[1;33m\u001b[0m\u001b[1;33m\u001b[0m\u001b[0m\n\u001b[0;32m     11\u001b[0m \u001b[1;32mfor\u001b[0m \u001b[0mi\u001b[0m \u001b[1;32min\u001b[0m \u001b[0mbatch\u001b[0m\u001b[1;33m:\u001b[0m\u001b[1;33m\u001b[0m\u001b[1;33m\u001b[0m\u001b[0m\n\u001b[1;32m---> 12\u001b[1;33m     \u001b[1;32massert\u001b[0m \u001b[0mi\u001b[0m\u001b[1;33m>=\u001b[0m\u001b[1;36m26\u001b[0m\u001b[1;33m,\u001b[0m\u001b[1;34m\"barch is rejected\"\u001b[0m\u001b[1;33m\u001b[0m\u001b[1;33m\u001b[0m\u001b[0m\n\u001b[0m\u001b[0;32m     13\u001b[0m     \u001b[0mprint\u001b[0m\u001b[1;33m(\u001b[0m\u001b[0mstr\u001b[0m\u001b[1;33m(\u001b[0m\u001b[0mi\u001b[0m\u001b[1;33m)\u001b[0m \u001b[1;33m+\u001b[0m \u001b[1;34m\"is o.k\"\u001b[0m\u001b[1;33m)\u001b[0m\u001b[1;33m\u001b[0m\u001b[1;33m\u001b[0m\u001b[0m\n",
      "\u001b[1;31mAssertionError\u001b[0m: barch is rejected"
     ]
    }
   ],
   "source": [
    "#code for demonstrate eorking of assert application.\n",
    "\n",
    "\n",
    "# create a list,and initializing list of foods temperatures.\n",
    "batch = [49, 26, 39, 30, 25, 21]\n",
    "\n",
    "#initilizing cut tamperature:\n",
    "cut = 26\n",
    "\n",
    "# using assert to check for temperature greater then cut\n",
    "for i in batch:\n",
    "    assert i>=26,\"barch is rejected\"\n",
    "    print(str(i) + \"is o.k\")"
   ]
  },
  {
   "cell_type": "code",
   "execution_count": null,
   "id": "1fe65cd9",
   "metadata": {},
   "outputs": [],
   "source": [
    "Q2. Write an assert statement that triggers an AssertionError if the variables eggs and bacon contain\n",
    "strings that are the same as each other, even if their cases are different (that is, 'hello' and 'hello' are\n",
    "considered the same, and 'goodbye' and 'GOODbye' are also considered the same)."
   ]
  },
  {
   "cell_type": "code",
   "execution_count": 3,
   "id": "02575a3c",
   "metadata": {},
   "outputs": [],
   "source": [
    "\n",
    "spam = 100\n",
    "\n",
    "assert spam >= 10, 'Your spam is less than 10!'\n",
    "\n",
    "eggs = 'hello'\n",
    "bacon = 'good bye'\n",
    "\n",
    "assert eggs.lower() != bacon.lower(), 'eggs/bacon should not be the same'\n",
    "import logging\n",
    "logging.basicConfig(\n",
    "    filename='programLog.txt',\n",
    "    level=logging.DEBUG,\n",
    "    format='%(asctime)s - %(levelname)s - %(message)s'\n",
    ")\n",
    "logging.disable(logging.DEBUG)\n",
    "\n",
    "\n"
   ]
  },
  {
   "cell_type": "code",
   "execution_count": 1,
   "id": "7999334e",
   "metadata": {},
   "outputs": [],
   "source": [
    "Q2. Create an assert statement that throws an AssertionError every time."
   ]
  },
  {
   "cell_type": "code",
   "execution_count": 4,
   "id": "9622563f",
   "metadata": {},
   "outputs": [
    {
     "name": "stdout",
     "output_type": "stream",
     "text": [
      "invalid operation\n"
     ]
    }
   ],
   "source": [
    "# code for assertionError:\n",
    "try:\n",
    "    x=1\n",
    "    y=0\n",
    "    assert y !=0,\"invalid operation\"\n",
    "    print(x/y)\n",
    "# the error_message provided by the user gets printed\n",
    "except AssertionError as mgs:\n",
    "    print(mgs)"
   ]
  },
  {
   "cell_type": "code",
   "execution_count": null,
   "id": "0fbf4cdf",
   "metadata": {},
   "outputs": [],
   "source": [
    "Q4. What are the two lines that must be present in your software in order to call logging.debug()?\n",
    "\n",
    "Answer.\n",
    "What are the two lines that your program must have in order to be able to call logging.debug() To be able to call logging.debug(), \n",
    "you must have these two lines at the start of your program: import logging logging.basicConfig(level=logging.DEBUG, format=' %(asctime)s - %(levelname)s - %(message)s')"
   ]
  },
  {
   "cell_type": "code",
   "execution_count": null,
   "id": "ffa3d546",
   "metadata": {},
   "outputs": [],
   "source": [
    "# first line of logging.debug().\n",
    "import logging\n",
    "\n",
    "# second lone of logging.debug().\n",
    "logging.basicConfig(level=logging.DEBUG,format='%(asctime)s - %(levelname)s - %(message)s')"
   ]
  },
  {
   "cell_type": "code",
   "execution_count": null,
   "id": "8cfcd7aa",
   "metadata": {},
   "outputs": [],
   "source": [
    "Q5. What are the two lines to logging.debug() send a\n",
    "logging message to a file named programLog.txt?\n",
    "\n",
    "Answer.\n",
    "\n"
   ]
  },
  {
   "cell_type": "code",
   "execution_count": 2,
   "id": "b0966c38",
   "metadata": {},
   "outputs": [],
   "source": [
    "import logging\n",
    "\n",
    "logging.basicConfig(filename='app.log', filemode='w', format='%(name)s - %(levelname)s - %(message)s')\n",
    "logging.warning('This will get logged to a file')"
   ]
  },
  {
   "cell_type": "code",
   "execution_count": null,
   "id": "57c95ac8",
   "metadata": {},
   "outputs": [],
   "source": [
    "Q6. What are the five levels of logging?\n",
    "\n",
    "Answer.\n",
    "Debug : These are used to give Detailed information, typically of interest only when diagnosing problems.\n",
    "Info : These are used to Confirm that things are working as expected\n",
    "Warning : These are used an indication that something unexpected happened, or indicative of some problem in the near future\n",
    "Error : This tells that due to a more serious problem, the software has not been able to perform some function\n",
    "Critical : This tells serious error, indicating that the program itself may be unable to continue running"
   ]
  },
  {
   "cell_type": "code",
   "execution_count": null,
   "id": "e61a5262",
   "metadata": {},
   "outputs": [],
   "source": [
    "Q7. What line of code would you add to your software to disable all logging messages?"
   ]
  },
  {
   "cell_type": "code",
   "execution_count": null,
   "id": "d057282f",
   "metadata": {},
   "outputs": [],
   "source": [
    "Q7. import logging\n",
    "\n",
    "logger = logging.getLogger()\n",
    "logger.removeHandler(sys.stderr)\n",
    "logger.warning('foobar')  # emits 'foobar' on sys.stderr"
   ]
  },
  {
   "cell_type": "code",
   "execution_count": null,
   "id": "dd5c185f",
   "metadata": {},
   "outputs": [],
   "source": [
    "Q8. Why is using logging messages better than using print() to display the same message?\n",
    "\n",
    "Answer.\n",
    "The logging package has a lot of useful features:\n",
    "\n",
    "Easy to see where and when (even what line no.) a logging call is being made from.\n",
    "You can log to files, sockets, pretty much anything, all at the same time.\n",
    "You can differentiate your logging based on severity.\n",
    "Print doesn't have any of these.\n",
    "\n",
    "Also, if your project is meant to be imported by other python tools, it's bad practice for your package to print things to stdout, since the user \n",
    "likely won't know where the print messages are coming from. With logging, users of your package can choose whether or not they want to propogate \n",
    "logging messages from your tool or not."
   ]
  },
  {
   "cell_type": "code",
   "execution_count": null,
   "id": "b576a221",
   "metadata": {},
   "outputs": [],
   "source": [
    "Q9. What are the differences between the Step Over, Step In, and Step Out buttons in the debugger?\n",
    "\n",
    "Answer.\n",
    "Step into – An action to take in the debugger. If the line does not contain a function it behaves the \n",
    "same as “step over” but if it does the debugger will enter the called function and continue line-by-line debugging there.\n",
    "\n",
    "Step out – An action to take in the debugger that returns to the line where the current function was called.\n",
    "\n",
    "Step into – An action to take in the debugger. If the line does not contain a function it behaves the same as “step over” \n",
    "but if it does the debugger will enter the called function and continue line-by-line debugging there."
   ]
  },
  {
   "cell_type": "code",
   "execution_count": null,
   "id": "bf51a710",
   "metadata": {},
   "outputs": [],
   "source": [
    "Q10. After you click Continue, when will the debugger stop\n",
    "\n",
    "Answer.\n",
    "To make the breakpoint stop the next time it is reached, specify a count of zero. When you use continue to resume execution of your \n",
    "program from a breakpoint, you can specify an ignore count directly as an argument to continue , rather than using ignore . \n",
    "See section Continuing and stepping.\n"
   ]
  },
  {
   "cell_type": "code",
   "execution_count": null,
   "id": "f5118b49",
   "metadata": {},
   "outputs": [],
   "source": [
    "CHECK_EVERY = 10;    %# like a polling rate\n",
    "\n",
    "tic\n",
    "i = 1;               %# loop counter\n",
    "while true           %# long running loop\n",
    "    if rem(i,CHECK_EVERY) == 0 && exist('debug.txt','file')\n",
    "        fprintf('%f seconds since last time.\\n', toc)\n",
    "        keyboard\n",
    "        tic\n",
    "    end\n",
    "\n",
    "    %# ... long calculations ...    \n",
    "\n",
    "    i = i + 1;\n",
    "end"
   ]
  },
  {
   "cell_type": "code",
   "execution_count": null,
   "id": "5a9239f1",
   "metadata": {},
   "outputs": [],
   "source": [
    "Q11. What is the concept of a breakpoint?\n",
    "\n",
    "Answer.\n",
    "In software development, a breakpoint is an intentional stopping or pausing place in a program, put in place for debugging purposes. It is also sometimes simply referred to as a pause. More generally, a breakpoint is a means of acquiring knowledge about a program during its execution."
   ]
  }
 ],
 "metadata": {
  "kernelspec": {
   "display_name": "Python 3",
   "language": "python",
   "name": "python3"
  },
  "language_info": {
   "codemirror_mode": {
    "name": "ipython",
    "version": 3
   },
   "file_extension": ".py",
   "mimetype": "text/x-python",
   "name": "python",
   "nbconvert_exporter": "python",
   "pygments_lexer": "ipython3",
   "version": "3.8.8"
  }
 },
 "nbformat": 4,
 "nbformat_minor": 5
}
