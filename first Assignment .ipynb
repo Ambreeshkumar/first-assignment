{
 "cells": [
  {
   "cell_type": "code",
   "execution_count": null,
   "id": "4d1a2d7b",
   "metadata": {},
   "outputs": [],
   "source": [
    "1. In the below elements which of them are values or an expression? eg:- values can be\n",
    "integer or string and expressions will be mathematical operators.\n",
    "\n",
    "Answer\n",
    "(a)  in the given below elements (*) it is a Arithmetic operation so we can say \n",
    "     an expression \n",
    "    \n",
    "(b)  'hello' this element is consider in a string \n",
    "\n",
    "(c)  -87.8 this element is a float number and nagitive number\n",
    "\n",
    "(d)  (-) this element is a subtraction it's a arithmetic operation \n",
    "\n",
    "(e)  (/) this element is a division element. it is use for division\n",
    "        The first operand by the second it's an Arithmetic operation \n",
    "\n",
    "(f)    (+) this element is a addition element. is is usr for adds one\n",
    "       operand to the other. ist's an Arithmetic operation\n",
    "    \n",
    "(g)    (6) this element is an integeinteger number. integer number are \n",
    "          the positive or nagative number without a fractional part\n",
    "\n",
    "\n",
    "2. What is the difference between string and variable?\n",
    "\n",
    "Answer.\n",
    " A Variable is a store of information, and a String is a type of \n",
    "    information you would store in a Variable. A String is usually \n",
    "    words, enclosed with \"\"\n",
    "    String x =\"Welcome to SoloLearn\"\n",
    "X is the Variable, and we declared it as a String,\n",
    "use the single = to assign the text to it.\n",
    "\n"
   ]
  },
  {
   "cell_type": "code",
   "execution_count": null,
   "id": "816a3b6b",
   "metadata": {},
   "outputs": [],
   "source": [
    "3. Describe three different data types.\n",
    "\n",
    "answer.\n",
    "\n",
    "A data type is a classification of data which tells the\n",
    "compiler or interpreter how the programmer intends to use the data. \n",
    "Most programming languages support various types of data, including \n",
    "integer, real, character or string, and Boolean.[1]\n",
    "\n",
    "\n",
    "integer\twhole numbers\t-5, 0, 123\n",
    "floating point (real)\tfractional numbers\t-87.5, 0.0, 3.14159\n",
    "string\tA sequence of characters\t\"Hello world!\"\n",
    "Boolean\tlogical true or false\ttrue, false\n",
    "nothing\tno data\tnull"
   ]
  },
  {
   "cell_type": "code",
   "execution_count": 1,
   "id": "319e2e78",
   "metadata": {},
   "outputs": [
    {
     "ename": "SyntaxError",
     "evalue": "invalid syntax (<ipython-input-1-29503c160a59>, line 3)",
     "output_type": "error",
     "traceback": [
      "\u001b[1;36m  File \u001b[1;32m\"<ipython-input-1-29503c160a59>\"\u001b[1;36m, line \u001b[1;32m3\u001b[0m\n\u001b[1;33m    Answer.\u001b[0m\n\u001b[1;37m           ^\u001b[0m\n\u001b[1;31mSyntaxError\u001b[0m\u001b[1;31m:\u001b[0m invalid syntax\n"
     ]
    }
   ],
   "source": [
    "4. what is an expression made up of? what do all expression do?\n",
    "\n",
    "Answer.\n",
    "\n",
    "What do all expressions do? An expression is a combination of \n",
    "values, variables, operators, and calls to functions. Expressions\n",
    "need to be evaluated. If you ask Python to print an expression, the\n",
    "interpreter evaluates the expression and displays the result.\n"
   ]
  },
  {
   "cell_type": "code",
   "execution_count": null,
   "id": "e7c15a9b",
   "metadata": {},
   "outputs": [],
   "source": [
    "5. This assignment statements, like spam = 10. What is the difference between an\n",
    "expression and a statement?\n",
    "\n",
    "Answer.\n",
    "\n",
    "In programming language terminology, an “expression” is a \n",
    "combination of values and functions that are combined and \n",
    "interpreted by the compiler to create a new value,\n",
    "as opposed to a “statement” which is just a standalone\n",
    "unit of execution and doesn't return anything.\n",
    "   \n",
    "     spam=10\n",
    "ten is here expression.\n"
   ]
  },
  {
   "cell_type": "code",
   "execution_count": null,
   "id": "46f43616",
   "metadata": {},
   "outputs": [],
   "source": [
    "6. After running the following code, what does the variable bacon \n",
    "contain?\n",
    "bacon=22\n",
    "bacon+1\n",
    "\n",
    "Answer.\n",
    " \n",
    "a=22\n",
    "a+1\n",
    "print(a)\n",
    " \n",
    "output 22\n",
    "\n"
   ]
  },
  {
   "cell_type": "code",
   "execution_count": 4,
   "id": "cd198c6a",
   "metadata": {},
   "outputs": [
    {
     "data": {
      "text/plain": [
       "'spamspamspam'"
      ]
     },
     "execution_count": 4,
     "metadata": {},
     "output_type": "execute_result"
    }
   ],
   "source": [
    "#What should the values of the following two terms be?\n",
    "\n",
    "'spam'+'spamspam'\n",
    "'spam'*3\n",
    "output  'spamspamspam'"
   ]
  },
  {
   "cell_type": "code",
   "execution_count": null,
   "id": "bfa76051",
   "metadata": {},
   "outputs": [],
   "source": [
    "8. why is eggs a valid variable name while 100 is invalid\n",
    "\n",
    "Answer.\n",
    "\n",
    "Why is eggs a valid variable name while 100 is invalid? Variable\n",
    "names cannot begin with a number. ... The expression causes an\n",
    "error because 99 is an integer, and only strings can be\n",
    "concatenated to other strings\n",
    "with the + operator.\n",
    "\n"
   ]
  },
  {
   "cell_type": "code",
   "execution_count": null,
   "id": "31bf273c",
   "metadata": {},
   "outputs": [],
   "source": [
    "9. What three functions can be used to get the integer,\n",
    "floating-point number, or string version of a variable\n",
    "\n",
    "Answer. The int() , float() , and str( ) functions will evaluate \n",
    "to the integer, floating-point number, and string versions of the\n",
    "value passed to them.\n",
    "\n",
    "\n",
    "\n"
   ]
  },
  {
   "cell_type": "code",
   "execution_count": null,
   "id": "75810f38",
   "metadata": {},
   "outputs": [],
   "source": [
    "10. Why does this expression cause an error?error? How can you\n",
    "fix it?\n",
    "\n",
    "Answer. \n",
    "\n",
    "'i have eaten'+99+'burrios'\n",
    "\n",
    "i can fix it with few changes.\n",
    "a=99\n",
    "print(\"i have eaten\",a,\"burrios\")  \n",
    "  \n",
    "    output: i have eaten 99 burritos"
   ]
  },
  {
   "cell_type": "code",
   "execution_count": 18,
   "id": "30ae9557",
   "metadata": {
    "scrolled": true
   },
   "outputs": [
    {
     "name": "stdout",
     "output_type": "stream",
     "text": [
      "i have eaten 99 burritos\n"
     ]
    }
   ],
   "source": [
    "a=+99\n",
    "print('i have eaten',a,'burritos')"
   ]
  },
  {
   "cell_type": "code",
   "execution_count": 11,
   "id": "1628c67c",
   "metadata": {},
   "outputs": [
    {
     "name": "stdout",
     "output_type": "stream",
     "text": [
      "amnreesh 3 kumar\n"
     ]
    }
   ],
   "source": [
    "a=3\n",
    "print(\"amnreesh\",+a,\"kumar\")"
   ]
  }
 ],
 "metadata": {
  "kernelspec": {
   "display_name": "Python 3",
   "language": "python",
   "name": "python3"
  },
  "language_info": {
   "codemirror_mode": {
    "name": "ipython",
    "version": 3
   },
   "file_extension": ".py",
   "mimetype": "text/x-python",
   "name": "python",
   "nbconvert_exporter": "python",
   "pygments_lexer": "ipython3",
   "version": "3.8.8"
  }
 },
 "nbformat": 4,
 "nbformat_minor": 5
}
