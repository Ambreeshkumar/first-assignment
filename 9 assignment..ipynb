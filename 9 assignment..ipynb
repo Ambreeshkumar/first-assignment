{
 "cells": [
  {
   "cell_type": "code",
   "execution_count": null,
   "id": "c4c51c2a",
   "metadata": {},
   "outputs": [],
   "source": [
    "Q1 To what does a relative path refer?\n",
    "\n",
    "Answer.\n",
    "A relative path refers to a location that is relative to a current directory. \n",
    "Relative paths make use of two special symbols, a dot (.) and a double-dot (..), \n",
    "which translate into the current directory and the parent directory. ... \n",
    "The current directory is sometimes referred to as the root directory.\n",
    "\n",
    "\n",
    "Absolute path-- it as a full path of the file from root directory.\n",
    "\n",
    "Relative path -- it is the path of the file from the current working directory.\n",
    "\n"
   ]
  },
  {
   "cell_type": "code",
   "execution_count": null,
   "id": "a2ed2542",
   "metadata": {
    "collapsed": true
   },
   "outputs": [],
   "source": [
    "Q2. What does an absolute path start with your operating system?\n",
    "\n",
    "Answer.\n",
    "An absolute path refers to the complete details needed to locate a file or folder, starting from the root element and ending with the other subdirectories. \n",
    "Absolute paths are used in websites and operating systems for locating files and folders. An absolute path is also known as an absolute pathname or full path.\n",
    "\n",
    "Absolute path--it as a full path of the file from root directory.\n"
   ]
  },
  {
   "cell_type": "code",
   "execution_count": null,
   "id": "4eff2bb1",
   "metadata": {},
   "outputs": [],
   "source": [
    "Q3.What do the functions os.getcwd() and os.chdir() do?\n",
    "\n",
    "Answer.\n",
    "os.getcwd().\n",
    "\n",
    "To know the current working directory of the file, getcwd() method can be used.\n",
    "after channing the path, one can verify the path of current working directory using this method.\n",
    "\n",
    "\n",
    "os,chdir().\n",
    "\n",
    "os.chdir() method in python used to nache the current working directory to specified path. \n",
    "it take on;y a single argument as new directory path\n",
    "\n"
   ]
  },
  {
   "cell_type": "code",
   "execution_count": 1,
   "id": "e6bb1f4f",
   "metadata": {},
   "outputs": [
    {
     "name": "stdout",
     "output_type": "stream",
     "text": [
      "current working directiry is: c:\\\n"
     ]
    }
   ],
   "source": [
    "# code of getcwd()\n",
    "\n",
    "# import os module\n",
    "\n",
    "import os \n",
    "\n",
    "#change the current working directory to specified path.\n",
    "os.chdir(\"c://\")\n",
    "\n",
    "# verify the path using getcwd()\n",
    "\n",
    "cwd=os.getcwd()\n",
    "\n",
    "# printthe current directory \n",
    "print(\"current working directiry is:\",cwd)\n",
    "\n"
   ]
  },
  {
   "cell_type": "code",
   "execution_count": 2,
   "id": "2399a04d",
   "metadata": {},
   "outputs": [
    {
     "name": "stdout",
     "output_type": "stream",
     "text": [
      "directory change\n"
     ]
    }
   ],
   "source": [
    "# code of chdir()\n",
    "\n",
    "#program to change the directory of file using os.chdir()\n",
    "#  method\n",
    "\n",
    "import os \n",
    "\n",
    "# change the directory to specified directory .\n",
    "os.chdir(r\"c://\")\n",
    "\n",
    "print('directory change')"
   ]
  },
  {
   "cell_type": "code",
   "execution_count": null,
   "id": "2dc634a2",
   "metadata": {},
   "outputs": [],
   "source": [
    "Q4. What are the . and .. folders?\n",
    "\n",
    "Answer.\n",
    "Relative imports make use of dot notation to specify location:\n",
    "    \n",
    "A single dot means that the module or package referenced is in the same directory as the current location. \n",
    "Two dots mean that it is in the parent directory of the current location, in other words the directory above.\n"
   ]
  },
  {
   "cell_type": "code",
   "execution_count": null,
   "id": "10f7b27e",
   "metadata": {},
   "outputs": [],
   "source": [
    "Q5. In C:\\bacon\\eggs\\spam.txt, which part is the dir name, and which part is the base name?\n",
    "    \n",
    "Answer.\n",
    "C:\\bacon\\eggs is the dir name, while spam. txt is the base name. An existing file opened in write mode is erased and completely overwritten.\n",
    "    "
   ]
  },
  {
   "cell_type": "code",
   "execution_count": null,
   "id": "6e07cccb",
   "metadata": {},
   "outputs": [],
   "source": [
    "Q6. What are the three “mode” arguments that can be passed to the open() function?\n",
    "\n",
    "Answer.\n",
    "the key function usrd for file handling in python are:\n",
    "open(), close(), read(), write(), and append(),\n",
    "\n",
    "This function return a file object called \"handle\", which is used to read from and write to a file. the argument that \n",
    "function can receive are as follows:\n",
    "\n",
    "open(filename, mode='r', buffering=-1, encoding=None, errors=None, newline=None, closefd=True, opener=None)\n",
    "\n",
    "r: Opens the file in read-only mode. Starts reading from the beginning of the file and is the default mode for the open() function.\n",
    "rb: Opens the file as read-only in binary format and starts reading from the beginning of the file. While binary format can be used for \n",
    "    different purposes, it is usually used when dealing with things like images, videos, etc.\n",
    "r+: Opens a file for reading and writing, placing the pointer at the beginning of the file.\n",
    "w: Opens in write-only mode. The pointer is placed at the beginning of the file and this will overwrite any existing file with the same name. \n",
    "    It will create a new file if one with the same name doesn't exist.\n",
    "wb: Opens a write-only file in binary mode.\n",
    "w+: Opens a file for writing and reading.\n",
    "wb+: Opens a file for writing and reading in binary mode.\n",
    "a: Opens a file for appending new information to it. The pointer is placed at the end of the file. A new file is created if one with the same name doesn't exist.\n",
    "ab: Opens a file for appending in binary mode.\n",
    "a+: Opens a file for both appending and reading.\n",
    "ab+: Opens a file for both appending and reading in binary mode.\n"
   ]
  },
  {
   "cell_type": "code",
   "execution_count": null,
   "id": "68dce2f2",
   "metadata": {},
   "outputs": [],
   "source": [
    "Q7.What happens if an existing file is opened in write mode?\n",
    "\n",
    "Answer.\n",
    "fopen() for an existing file in write mode\n",
    "To open a file in write mode, “w” is specified. When mode “w” is specified, it creates an empty file for \n",
    "output operations. What if the file already exists? If a file with the same name already exists, \n",
    "its contents are discarded and the file is treated as a new empty file."
   ]
  },
  {
   "cell_type": "code",
   "execution_count": null,
   "id": "c3cd3057",
   "metadata": {},
   "outputs": [],
   "source": [
    "# code for create a file\n",
    "file=open(\"ambreesh.txt\",\"w\")\n",
    "file.write(\"this is the write comnand\")\n",
    "file.write(\"it allows us to writein in a particular file\")\n",
    "file.close\n"
   ]
  },
  {
   "cell_type": "code",
   "execution_count": null,
   "id": "8654cddb",
   "metadata": {},
   "outputs": [],
   "source": [
    "Q8. How do you tell the difference between read() and readlines()?\n",
    "\n",
    "Answer.\n",
    "read() method in Python is used to read at most n bytes from the file associated with the given file descriptor. \n",
    "If the end of the file has been reached while reading bytes from the given file descriptor, \n",
    "os. read() method will return an empty bytes object for all bytes left to be read\n",
    "\n"
   ]
  },
  {
   "cell_type": "code",
   "execution_count": null,
   "id": "38ccc5bc",
   "metadata": {},
   "outputs": [],
   "source": [
    "#read the cuntent of the file\"demofile.txt\":\n",
    "import os\n",
    "\n",
    "f = open(\"C:\\\\Users\\ambreesh kumar\\Desktop\\txxt.txt.txt\",\"r\")\n",
    "print(f.read(2))\n",
    "\n"
   ]
  },
  {
   "cell_type": "code",
   "execution_count": 21,
   "id": "992f98ab",
   "metadata": {},
   "outputs": [],
   "source": [
    "using readlines()\n",
    "readlines() is used to read all the lines at a single go and then return them as each line a string element in a list. \n",
    "This function can be used for small files, as it reads the whole file content to the memory, then split it into separate lines. \n",
    "We can iterate over the list and strip the newline ‘\\n’ character using strip() function.\n",
    " "
   ]
  },
  {
   "cell_type": "code",
   "execution_count": null,
   "id": "1ccfe2b9",
   "metadata": {},
   "outputs": [],
   "source": [
    "#  code for demonstrate readlines()\n",
    " \n",
    "L = [\"ambreesh\\n\", \"for\\n\", \"ambreesh\\n\"]\n",
    " \n",
    "# writing to file\n",
    "file1 = open('myfile.txt', 'w')\n",
    "file1.writelines(L)\n",
    "file1.close()\n",
    " \n",
    "# Using readlines()\n",
    "file1 = open('myfile.txt', 'r')\n",
    "Lines = file1.readlines()\n",
    " \n",
    "count = 0\n",
    "# Strips the newline character\n",
    "for line in Lines:\n",
    "    count += 1\n",
    "    print(\"Line{}: {}\".format(count, line.strip()))"
   ]
  },
  {
   "cell_type": "code",
   "execution_count": null,
   "id": "541ee16e",
   "metadata": {},
   "outputs": [],
   "source": [
    "Q9. What data structure does a shelf value resemble?\n",
    "\n",
    "Answer.\n",
    "What data structure does a shelf value resemble? A shelf value resembles a dictionary value; \n",
    "it has keys and values, along with keys() and values() methods that work similarly to the dictionary \n",
    "methods of the same names.\n"
   ]
  }
 ],
 "metadata": {
  "kernelspec": {
   "display_name": "Python 3",
   "language": "python",
   "name": "python3"
  },
  "language_info": {
   "codemirror_mode": {
    "name": "ipython",
    "version": 3
   },
   "file_extension": ".py",
   "mimetype": "text/x-python",
   "name": "python",
   "nbconvert_exporter": "python",
   "pygments_lexer": "ipython3",
   "version": "3.8.8"
  }
 },
 "nbformat": 4,
 "nbformat_minor": 5
}
