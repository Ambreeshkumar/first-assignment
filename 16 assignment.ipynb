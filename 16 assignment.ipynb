{
 "cells": [
  {
   "cell_type": "code",
   "execution_count": null,
   "id": "1e2508d8",
   "metadata": {},
   "outputs": [],
   "source": [
    "Q1. Create a list called years_list, starting with the year of your birth, and each year thereafter until\n",
    "the year of your fifth birthday. For example, if you were born in 1980. the list would be years_list =\n",
    "[1980, 1981, 1982, 1983, 1984, 1985].\n",
    "\n",
    "Answer. \n"
   ]
  },
  {
   "cell_type": "code",
   "execution_count": 1,
   "id": "800900ee",
   "metadata": {},
   "outputs": [
    {
     "name": "stdout",
     "output_type": "stream",
     "text": [
      "[1999, 2000, 2001, 2002, 2003, 2004, 2005, 2006, 2007]\n"
     ]
    }
   ],
   "source": [
    "#create a list with year_list variable\n",
    "# this square bracite use to create the list in python \n",
    "year_list=[1999,2000,2001,2002,2003,2004,2005,2006,2007]\n",
    "print(year_list)\n"
   ]
  },
  {
   "cell_type": "code",
   "execution_count": null,
   "id": "94c09b7d",
   "metadata": {},
   "outputs": [],
   "source": [
    "Q2. In which year in years_list was your third birthday? Remember, you were 0 years of age for your\n",
    "first year."
   ]
  },
  {
   "cell_type": "code",
   "execution_count": 4,
   "id": "acc53600",
   "metadata": {},
   "outputs": [
    {
     "name": "stdout",
     "output_type": "stream",
     "text": [
      "my third birthday in this list is  2001\n"
     ]
    }
   ],
   "source": [
    "birthday = year_list[2]\n",
    "print(\"my third birthday in this list is \",birthday)"
   ]
  },
  {
   "cell_type": "code",
   "execution_count": null,
   "id": "6f2c681c",
   "metadata": {},
   "outputs": [],
   "source": [
    "Q3.In the years list, which year were you the oldest?\n",
    "\n",
    "Answer.\n"
   ]
  },
  {
   "cell_type": "code",
   "execution_count": 7,
   "id": "0251f488",
   "metadata": {},
   "outputs": [
    {
     "name": "stdout",
     "output_type": "stream",
     "text": [
      "i were oldest in this list is  2007 year\n"
     ]
    }
   ],
   "source": [
    "oldest = year_list[-1]\n",
    "print(\"i were oldest in this list is \",oldest,\"year\")"
   ]
  },
  {
   "cell_type": "code",
   "execution_count": null,
   "id": "1bc03ea9",
   "metadata": {},
   "outputs": [],
   "source": [
    "Q4. Make a list called things with these three strings as elements: \"mozzarella\", \"cinderella\",\n",
    "\"salmonella\".\n",
    "\n"
   ]
  },
  {
   "cell_type": "code",
   "execution_count": null,
   "id": "aa605fd7",
   "metadata": {},
   "outputs": [],
   "source": [
    "#create list with str_list variable:\n",
    "str_list = [\"mozzarella\",\"cinderella\",\"salmonella\"]\n"
   ]
  },
  {
   "cell_type": "code",
   "execution_count": null,
   "id": "ea9120a2",
   "metadata": {},
   "outputs": [],
   "source": [
    "Q5.Capitalize the element in things that refers to a person and then print the list. Did it change the\n",
    "element in the list?\n"
   ]
  },
  {
   "cell_type": "code",
   "execution_count": 26,
   "id": "c126a06b",
   "metadata": {},
   "outputs": [
    {
     "name": "stdout",
     "output_type": "stream",
     "text": [
      "['Mozzarella', 'Cinderella', 'Salmonella']\n"
     ]
    }
   ],
   "source": [
    "# we have a list of string data\n",
    "\n",
    "str_list = [\"mozzarella\",\"cinderella\",\"salmonella\"]\n",
    "\n",
    "# create a empaty list for store the new string with capitalize changese;\n",
    "capit_list=[]\n",
    "\n",
    "# here is loop itarate the itarative list:\n",
    "for i in (str_list):\n",
    "    capit_list.append(i.capitalize())\n",
    "print(capit_list)"
   ]
  },
  {
   "cell_type": "code",
   "execution_count": null,
   "id": "d03d047e",
   "metadata": {},
   "outputs": [],
   "source": []
  },
  {
   "cell_type": "code",
   "execution_count": null,
   "id": "4ac7cc51",
   "metadata": {},
   "outputs": [],
   "source": [
    "Q6. Make a surprise list with the elements \"Groucho\", \"Chico\", and \"Harpo\"\n"
   ]
  },
  {
   "cell_type": "code",
   "execution_count": 34,
   "id": "b27f4b0f",
   "metadata": {},
   "outputs": [
    {
     "name": "stdout",
     "output_type": "stream",
     "text": [
      "['Groucho', 'Chico', 'Harpo']\n"
     ]
    }
   ],
   "source": [
    "surprise_list = [\"Groucho\", \"Chico\", \"Harpo\"]\n",
    "print(surprise_list)"
   ]
  },
  {
   "cell_type": "code",
   "execution_count": null,
   "id": "19eac478",
   "metadata": {},
   "outputs": [],
   "source": [
    "Q7. Lowercase the last element of the surprise list, reverse it, and then capitalize it.\n",
    "\n",
    "Answer.\n"
   ]
  },
  {
   "cell_type": "code",
   "execution_count": 31,
   "id": "9455b910",
   "metadata": {},
   "outputs": [
    {
     "name": "stdout",
     "output_type": "stream",
     "text": [
      "harp\n"
     ]
    }
   ],
   "source": [
    "surprise_list = [\"Groucho\", \"Chico\", \"Harp\"]\n",
    "\n",
    "# create new variable low to store the last element of list:\n",
    "low = surprise_list[-1]\n",
    "\n",
    "# uppercase canverd to lowercase\n",
    "print(low.lower())"
   ]
  },
  {
   "cell_type": "code",
   "execution_count": 51,
   "id": "33a9a1aa",
   "metadata": {},
   "outputs": [
    {
     "name": "stdout",
     "output_type": "stream",
     "text": [
      "praH"
     ]
    }
   ],
   "source": [
    "surprise_list = [\"Groucho\", \"Chico\", \"Harp\"]\n",
    "\n",
    "# reverse the string in list:\n",
    "# useing by the string slising methode:\n",
    "for i in surprise_list[-1][-1::-1]:\n",
    "    print(i,end=\"\")"
   ]
  },
  {
   "cell_type": "code",
   "execution_count": 7,
   "id": "87076cd0",
   "metadata": {},
   "outputs": [
    {
     "name": "stdout",
     "output_type": "stream",
     "text": [
      "Harp\n"
     ]
    }
   ],
   "source": [
    "# capitalize:\n",
    "surprise_list = [\"groucho\", \"chico\", \"harp\"]\n",
    "print(surprise_list[-1].capitalize())"
   ]
  },
  {
   "cell_type": "code",
   "execution_count": null,
   "id": "cc0cf1b5",
   "metadata": {},
   "outputs": [],
   "source": [
    "Q8. Make an English-to-French dictionary called e2f and print it. Here are your starter words: dog is\n",
    "chien, cat is chat, and walrus is morse.\n",
    "\n",
    "Ansert.\n",
    " "
   ]
  },
  {
   "cell_type": "code",
   "execution_count": 8,
   "id": "7ae7abd8",
   "metadata": {},
   "outputs": [
    {
     "name": "stdout",
     "output_type": "stream",
     "text": [
      "{'dog': 'chain', 'cat': 'chat', 'walrus': 'mosre'}\n"
     ]
    }
   ],
   "source": [
    "e2f = {\"dog\":\"chain\",\"cat\":\"chat\",\"walrus\":\"mosre\"}\n",
    "print(e2f)"
   ]
  },
  {
   "cell_type": "code",
   "execution_count": null,
   "id": "9ae23d44",
   "metadata": {},
   "outputs": [],
   "source": [
    "Q9. Write the French word for walrus in your three-word dictionary e2f.\n",
    "\n",
    "Answer.\n"
   ]
  },
  {
   "cell_type": "code",
   "execution_count": 11,
   "id": "b30f99ca",
   "metadata": {},
   "outputs": [
    {
     "name": "stdout",
     "output_type": "stream",
     "text": [
      "mosre\n"
     ]
    }
   ],
   "source": [
    "e2f = {\"dog\":\"chain\",\"cat\":\"chat\",\"walrus\":\"mosre\"}\n",
    "print(e2f[\"walrus\"])\n"
   ]
  },
  {
   "cell_type": "code",
   "execution_count": null,
   "id": "b1e45a8f",
   "metadata": {},
   "outputs": [],
   "source": [
    "Q10. Make a French-to-English dictionary called f2e from e2f. Use the items method.\n",
    "\n",
    "Answer.\n"
   ]
  },
  {
   "cell_type": "code",
   "execution_count": 23,
   "id": "5ed57964",
   "metadata": {},
   "outputs": [
    {
     "name": "stdout",
     "output_type": "stream",
     "text": [
      "{'chien': 'dog', 'chat': 'cat', 'morse': 'walrus'}\n"
     ]
    }
   ],
   "source": [
    "e2f = {'dog': 'chien', 'cat': 'chat', 'walrus': 'morse'}\n",
    "f2e={y:x for (x,y) in e2f.items()}\n",
    "print(f2e)"
   ]
  },
  {
   "cell_type": "code",
   "execution_count": null,
   "id": "6fdcd4af",
   "metadata": {},
   "outputs": [],
   "source": [
    "Q11. Print the English version of the French word chien using f2e.\n"
   ]
  },
  {
   "cell_type": "code",
   "execution_count": 27,
   "id": "a669bd84",
   "metadata": {},
   "outputs": [
    {
     "name": "stdout",
     "output_type": "stream",
     "text": [
      "{'chien': 'dog', 'chat': 'cat', 'morse': 'walrus'}\n",
      "English dog\n",
      "English cat\n",
      "English walrus\n"
     ]
    }
   ],
   "source": [
    "print(f2e)\n",
    "\n",
    "for i in f2e:\n",
    "    print(\"English\",f2e[i])"
   ]
  },
  {
   "cell_type": "code",
   "execution_count": null,
   "id": "37e633bb",
   "metadata": {},
   "outputs": [],
   "source": [
    "Q12. Make and print a set of English words from the keys in e2f.\n",
    "\n",
    "Answer.\n"
   ]
  },
  {
   "cell_type": "code",
   "execution_count": 39,
   "id": "6838fc9e",
   "metadata": {},
   "outputs": [
    {
     "name": "stdout",
     "output_type": "stream",
     "text": [
      "{'morse', 'chat', 'chien'}\n"
     ]
    }
   ],
   "source": [
    "f2e = {'chien': 'dog', 'chat': 'cat', 'morse': 'walrus'}\n",
    "print(set(f2e.keys()))\n",
    "    "
   ]
  },
  {
   "cell_type": "code",
   "execution_count": null,
   "id": "32cf64ca",
   "metadata": {},
   "outputs": [],
   "source": [
    "Q13. Make a multilevel dictionary called life. Use these strings for the topmost keys: \"animal\", \"plant\",\n",
    "and \"other\". Make the \"animals\" key refer to another dictionary with the keys \"cats\", \"octopi\", and\n",
    "\"emus\". Make the \"cats\" key refer to a list of strings with the values \"Henri\", \"Grumpy\", and \"Lucy\".\n",
    "Make all the other keys refer to empty dictionaries.\n",
    "\n",
    "Answer.\n"
   ]
  },
  {
   "cell_type": "code",
   "execution_count": 41,
   "id": "3802ffb6",
   "metadata": {},
   "outputs": [
    {
     "name": "stdout",
     "output_type": "stream",
     "text": [
      "{'animal': {'emus', 'octopi', 'cat'}, 'plant': {'henri', 'grump', 'lucy'}}\n"
     ]
    }
   ],
   "source": [
    "life = {\"animal\":{\"cat\",\"octopi\",\"emus\"},\"plant\":{\"henri\",\"grump\",\"lucy\"}}\n",
    "print(dict)"
   ]
  },
  {
   "cell_type": "code",
   "execution_count": null,
   "id": "3a3f0e08",
   "metadata": {},
   "outputs": [],
   "source": [
    "Q14. Print the top-level keys of life.\n",
    "\n",
    "Answer.\n",
    "\n"
   ]
  },
  {
   "cell_type": "code",
   "execution_count": 45,
   "id": "ebef849a",
   "metadata": {},
   "outputs": [
    {
     "name": "stdout",
     "output_type": "stream",
     "text": [
      "{'emus', 'octopi', 'cat'}\n"
     ]
    }
   ],
   "source": [
    "life = {\"animal\":{\"cat\",\"octopi\",\"emus\"},\"plant\":{\"henri\",\"grump\",\"lucy\"}}\n",
    "print(life[\"animal\"])"
   ]
  },
  {
   "cell_type": "code",
   "execution_count": null,
   "id": "8b801b4f",
   "metadata": {},
   "outputs": [],
   "source": [
    "Q15. Print the keys for life['animals'].\n",
    "\n",
    "Answer.\n",
    "\n",
    "                             "
   ]
  },
  {
   "cell_type": "code",
   "execution_count": 46,
   "id": "0a261de8",
   "metadata": {},
   "outputs": [
    {
     "name": "stdout",
     "output_type": "stream",
     "text": [
      "{'emus', 'octopi', 'cat'}\n"
     ]
    }
   ],
   "source": [
    "print(life[\"animal\"])"
   ]
  },
  {
   "cell_type": "code",
   "execution_count": null,
   "id": "e71e7364",
   "metadata": {},
   "outputs": [],
   "source": [
    "Q16. Print the values for life[\"animals\"][\"cats\"]"
   ]
  },
  {
   "cell_type": "code",
   "execution_count": 73,
   "id": "486de995",
   "metadata": {},
   "outputs": [
    {
     "name": "stdout",
     "output_type": "stream",
     "text": [
      "{'emus', 'octopi', 'cat'}\n",
      "{'emus', 'octopi', 'cat'}\n"
     ]
    }
   ],
   "source": [
    "life = {\"animal\":{\"cat\",\"octopi\",\"emus\"},\"plant\":{\"henri\",\"grump\",\"lucy\"}}\n",
    "for i in life:\n",
    "    print(life[\"animal\"])\n"
   ]
  }
 ],
 "metadata": {
  "kernelspec": {
   "display_name": "Python 3",
   "language": "python",
   "name": "python3"
  },
  "language_info": {
   "codemirror_mode": {
    "name": "ipython",
    "version": 3
   },
   "file_extension": ".py",
   "mimetype": "text/x-python",
   "name": "python",
   "nbconvert_exporter": "python",
   "pygments_lexer": "ipython3",
   "version": "3.8.8"
  }
 },
 "nbformat": 4,
 "nbformat_minor": 5
}
